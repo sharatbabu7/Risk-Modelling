{
 "cells": [
  {
   "cell_type": "code",
   "execution_count": 7,
   "metadata": {},
   "outputs": [],
   "source": [
    "import numpy as np\n",
    "import pandas as pd\n",
    "import yfinance as yf\n",
    "import requests\n",
    "import matplotlib.pyplot as plt\n",
    "from scipy.stats import norm, t\n",
    "import pywt\n",
    "import os\n",
    "\n",
    "from matplotlib.ticker import PercentFormatter, MultipleLocator\n",
    "from scipy.stats import shapiro\n",
    "\n",
    "import warnings\n",
    "# Suppress FutureWarnings\n",
    "warnings.simplefilter(action='ignore', category=FutureWarning)"
   ]
  },
  {
   "cell_type": "code",
   "execution_count": 8,
   "metadata": {},
   "outputs": [],
   "source": [
    "# These are the dates for the whole assignment\n",
    "# Intentionally getting too much data\n",
    "\n",
    "start_date = '21-05-2012'\n",
    "end_date = '27-03-2024'\n",
    "\n",
    "money_invested = 1000000\n",
    "window = 700"
   ]
  },
  {
   "cell_type": "markdown",
   "metadata": {},
   "source": [
    "# • Equity Portfolio"
   ]
  },
  {
   "cell_type": "code",
   "execution_count": 9,
   "metadata": {},
   "outputs": [
    {
     "name": "stdout",
     "output_type": "stream",
     "text": [
      "            XOM Returns  LIN Returns  META Returns  WMT Returns  \\\n",
      "Date                                                              \n",
      "21/05/2012     0.006996     0.031111     -0.109861     0.009770   \n",
      "22/05/2012    -0.001097    -0.006459     -0.089039     0.010946   \n",
      "23/05/2012     0.001098     0.006222      0.032258     0.013337   \n",
      "24/05/2012     0.006948     0.003969      0.032187     0.007588   \n",
      "25/05/2012    -0.006416    -0.008366     -0.033909     0.003688   \n",
      "...                 ...          ...           ...          ...   \n",
      "21/03/2024     0.004425    -0.001050      0.004431     0.003265   \n",
      "22/03/2024     0.000000     0.004160      0.003584    -0.009439   \n",
      "25/03/2024     0.010221    -0.002862     -0.012873    -0.004929   \n",
      "26/03/2024    -0.007501     0.001392     -0.014174    -0.000991   \n",
      "27/03/2024     0.010370    -0.002823     -0.004094     0.003471   \n",
      "\n",
      "            BRK-B Returns  LLY Returns  MSFT Returns  PLD Returns  \\\n",
      "Date                                                                \n",
      "21/05/2012       0.011279     0.004698      0.016399     0.041061   \n",
      "22/05/2012      -0.001880     0.009107      0.000336    -0.012422   \n",
      "23/05/2012       0.001255    -0.008049     -0.021841     0.005031   \n",
      "24/05/2012       0.000627     0.012048     -0.001375    -0.005632   \n",
      "25/05/2012      -0.006892    -0.001215     -0.000344    -0.008811   \n",
      "...                   ...          ...           ...          ...   \n",
      "21/03/2024      -0.005599    -0.003364      0.009736     0.009246   \n",
      "22/03/2024      -0.005268     0.000454     -0.001467    -0.009778   \n",
      "25/03/2024      -0.004082     0.003283     -0.013715    -0.011584   \n",
      "26/03/2024       0.004025     0.002276     -0.002861    -0.015653   \n",
      "27/03/2024       0.013023     0.004233     -0.000522     0.029727   \n",
      "\n",
      "            NEE Returns  CL Returns  GE Returns  \n",
      "Date                                             \n",
      "21/05/2012     0.003077    0.001721    0.008971  \n",
      "22/05/2012     0.006289    0.002324    0.003138  \n",
      "23/05/2012    -0.010212   -0.008065    0.000000  \n",
      "24/05/2012     0.001386    0.007521    0.003650  \n",
      "25/05/2012     0.004614   -0.003329   -0.002597  \n",
      "...                 ...         ...         ...  \n",
      "21/03/2024    -0.013505    0.004754    0.015581  \n",
      "22/03/2024     0.006845    0.004844   -0.008435  \n",
      "25/03/2024     0.013435   -0.006278   -0.009478  \n",
      "26/03/2024    -0.018847    0.002933    0.000346  \n",
      "27/03/2024     0.038418    0.011811    0.037856  \n",
      "\n",
      "[2982 rows x 11 columns]\n"
     ]
    }
   ],
   "source": [
    "\n",
    "os.chdir(r\"C:\\Users\\shara\\OneDrive\\Desktop\\Machine learning\")\n",
    "import pywt\n",
    "money_invested=1000000\n",
    "daily_returns_equity=pd.read_csv(r\"C:\\Users\\shara\\OneDrive\\Desktop\\Machine learning\\stOck.csv\",index_col=\"Date\")\n",
    "import matplotlib.pyplot as plt\n",
    "from scipy.stats import norm\n",
    "from scipy.linalg import eigvalsh\n",
    "\n",
    "df_equity = daily_returns_equity\n",
    "\n",
    "print(df_equity)"
   ]
  },
  {
   "cell_type": "markdown",
   "metadata": {},
   "source": [
    "### Bond Data"
   ]
  },
  {
   "cell_type": "code",
   "execution_count": 10,
   "metadata": {},
   "outputs": [
    {
     "name": "stdout",
     "output_type": "stream",
     "text": [
      "            AGG Returns  BND Returns  GOVT Returns  LQD Returns  SCHP Returns\n",
      "Date                                                                         \n",
      "21/05/2012    -0.000180     0.000119     -0.001982     0.001125      0.001911\n",
      "22/05/2012    -0.002434    -0.001664     -0.002382    -0.002681     -0.001908\n",
      "23/05/2012     0.001175     0.000714      0.001592     0.002429     -0.000348\n",
      "24/05/2012    -0.000812    -0.001071      0.000397     0.000172     -0.001217\n",
      "25/05/2012     0.001535     0.001191      0.000397     0.002509      0.000174\n",
      "...                 ...          ...           ...          ...           ...\n",
      "21/03/2024     0.000718     0.000830      0.000000     0.001480      0.001736\n",
      "22/03/2024     0.003179     0.003319      0.003981     0.003416      0.003851\n",
      "25/03/2024    -0.001840    -0.001930     -0.002203    -0.003405     -0.003453\n",
      "26/03/2024     0.001024     0.000829      0.001325    -0.000277      0.000770\n",
      "27/03/2024     0.003274     0.003450      0.002645     0.006927      0.003270\n",
      "\n",
      "[2982 rows x 5 columns]\n"
     ]
    }
   ],
   "source": [
    "daily_returns_bonds=pd.read_csv(r\"C:\\Users\\shara\\OneDrive\\Desktop\\Machine learning\\BOnds.csv\",index_col=\"Date\")\n",
    "df_bonds=daily_returns_bonds\n",
    "\n",
    "print(df_bonds)"
   ]
  },
  {
   "cell_type": "markdown",
   "metadata": {},
   "source": [
    "### Getting Risk Free Rate"
   ]
  },
  {
   "cell_type": "code",
   "execution_count": 11,
   "metadata": {},
   "outputs": [
    {
     "data": {
      "text/html": [
       "<div>\n",
       "<style scoped>\n",
       "    .dataframe tbody tr th:only-of-type {\n",
       "        vertical-align: middle;\n",
       "    }\n",
       "\n",
       "    .dataframe tbody tr th {\n",
       "        vertical-align: top;\n",
       "    }\n",
       "\n",
       "    .dataframe thead th {\n",
       "        text-align: right;\n",
       "    }\n",
       "</style>\n",
       "<table border=\"1\" class=\"dataframe\">\n",
       "  <thead>\n",
       "    <tr style=\"text-align: right;\">\n",
       "      <th></th>\n",
       "      <th>DFF</th>\n",
       "    </tr>\n",
       "    <tr>\n",
       "      <th>Date</th>\n",
       "      <th></th>\n",
       "    </tr>\n",
       "  </thead>\n",
       "  <tbody>\n",
       "    <tr>\n",
       "      <th>2012-05-21</th>\n",
       "      <td>0.000004</td>\n",
       "    </tr>\n",
       "    <tr>\n",
       "      <th>2012-05-22</th>\n",
       "      <td>0.000004</td>\n",
       "    </tr>\n",
       "    <tr>\n",
       "      <th>2012-05-23</th>\n",
       "      <td>0.000004</td>\n",
       "    </tr>\n",
       "    <tr>\n",
       "      <th>2012-05-24</th>\n",
       "      <td>0.000004</td>\n",
       "    </tr>\n",
       "    <tr>\n",
       "      <th>2012-05-25</th>\n",
       "      <td>0.000004</td>\n",
       "    </tr>\n",
       "    <tr>\n",
       "      <th>...</th>\n",
       "      <td>...</td>\n",
       "    </tr>\n",
       "    <tr>\n",
       "      <th>2024-03-21</th>\n",
       "      <td>0.000148</td>\n",
       "    </tr>\n",
       "    <tr>\n",
       "      <th>2024-03-22</th>\n",
       "      <td>0.000148</td>\n",
       "    </tr>\n",
       "    <tr>\n",
       "      <th>2024-03-25</th>\n",
       "      <td>0.000148</td>\n",
       "    </tr>\n",
       "    <tr>\n",
       "      <th>2024-03-26</th>\n",
       "      <td>0.000148</td>\n",
       "    </tr>\n",
       "    <tr>\n",
       "      <th>2024-03-27</th>\n",
       "      <td>0.000148</td>\n",
       "    </tr>\n",
       "  </tbody>\n",
       "</table>\n",
       "<p>2940 rows × 1 columns</p>\n",
       "</div>"
      ],
      "text/plain": [
       "                 DFF\n",
       "Date                \n",
       "2012-05-21  0.000004\n",
       "2012-05-22  0.000004\n",
       "2012-05-23  0.000004\n",
       "2012-05-24  0.000004\n",
       "2012-05-25  0.000004\n",
       "...              ...\n",
       "2024-03-21  0.000148\n",
       "2024-03-22  0.000148\n",
       "2024-03-25  0.000148\n",
       "2024-03-26  0.000148\n",
       "2024-03-27  0.000148\n",
       "\n",
       "[2940 rows x 1 columns]"
      ]
     },
     "execution_count": 11,
     "metadata": {},
     "output_type": "execute_result"
    }
   ],
   "source": [
    "df_rf = pd.read_csv(\"DFF.csv\") \n",
    "df_rf['DATE'] = pd.to_datetime(df_rf['DATE'], format='%Y-%m-%d')\n",
    "\n",
    "df_rf = df_rf.rename(columns={\"DATE\": \"Date\"})\n",
    "\n",
    "df_rf = df_rf[(df_rf['Date'] >= start_date) & (df_rf['Date'] <= end_date)]\n",
    "df_rf = df_rf.sort_values(by='Date')\n",
    "\n",
    "df_rf = df_rf.reset_index(drop=True)\n",
    "\n",
    "df_rf.iloc[:, 1:] = df_rf.iloc[:, 1:].apply(pd.to_numeric, errors='coerce')\n",
    "numeric_columns = df_rf.columns[1:]\n",
    "df_rf[numeric_columns] = df_rf[numeric_columns].apply(lambda x: pd.to_numeric(x, errors='coerce'))\n",
    "\n",
    "# Divide all columns except 'Date' by 100 to convert from percent to decimal\n",
    "df_rf.iloc[:, 1:] = df_rf.iloc[:, 1:] / 100\n",
    "\n",
    "# converting from annual return (decimal) to daily return (decimal)\n",
    "df_rf.iloc[:, 1:] = df_rf.iloc[:, 1:] / 360 # Conventionally uses 360, not business days\n",
    "\n",
    "# Convert 'Date' column to datetime format\n",
    "df_rf['Date'] = pd.to_datetime(df_rf['Date'])\n",
    "\n",
    "# Set 'Date' column as the index\n",
    "df_rf.set_index('Date', inplace=True)\n",
    "\n",
    "# Filter df_rf to keep only the rows where the index matches the dates from daily_returns_equity\n",
    "filtered_df_rf = df_rf[df_rf.index.isin(daily_returns_equity.index)]\n",
    "\n",
    "df_rf = filtered_df_rf\n",
    "\n",
    "df_rf\n",
    "\n"
   ]
  },
  {
   "cell_type": "code",
   "execution_count": 12,
   "metadata": {},
   "outputs": [
    {
     "name": "stdout",
     "output_type": "stream",
     "text": [
      "0.0033%\n"
     ]
    }
   ],
   "source": [
    "mean_risk_free = df_rf.iloc[:, 0].mean()\n",
    "\n",
    "formatted_value = '{:.4%}'.format(mean_risk_free)\n",
    "#print(\"Formatted value:\", formatted_value)\n",
    "\n",
    "print(formatted_value)\n"
   ]
  },
  {
   "cell_type": "markdown",
   "metadata": {},
   "source": [
    "### Combining debt data and bond data"
   ]
  },
  {
   "cell_type": "code",
   "execution_count": 13,
   "metadata": {},
   "outputs": [
    {
     "data": {
      "text/html": [
       "<div>\n",
       "<style scoped>\n",
       "    .dataframe tbody tr th:only-of-type {\n",
       "        vertical-align: middle;\n",
       "    }\n",
       "\n",
       "    .dataframe tbody tr th {\n",
       "        vertical-align: top;\n",
       "    }\n",
       "\n",
       "    .dataframe thead th {\n",
       "        text-align: right;\n",
       "    }\n",
       "</style>\n",
       "<table border=\"1\" class=\"dataframe\">\n",
       "  <thead>\n",
       "    <tr style=\"text-align: right;\">\n",
       "      <th></th>\n",
       "      <th>AGG Returns</th>\n",
       "      <th>BND Returns</th>\n",
       "      <th>GOVT Returns</th>\n",
       "      <th>LQD Returns</th>\n",
       "      <th>SCHP Returns</th>\n",
       "      <th>XOM Returns</th>\n",
       "      <th>LIN Returns</th>\n",
       "      <th>META Returns</th>\n",
       "      <th>WMT Returns</th>\n",
       "      <th>BRK-B Returns</th>\n",
       "      <th>LLY Returns</th>\n",
       "      <th>MSFT Returns</th>\n",
       "      <th>PLD Returns</th>\n",
       "      <th>NEE Returns</th>\n",
       "      <th>CL Returns</th>\n",
       "      <th>GE Returns</th>\n",
       "    </tr>\n",
       "    <tr>\n",
       "      <th>Date</th>\n",
       "      <th></th>\n",
       "      <th></th>\n",
       "      <th></th>\n",
       "      <th></th>\n",
       "      <th></th>\n",
       "      <th></th>\n",
       "      <th></th>\n",
       "      <th></th>\n",
       "      <th></th>\n",
       "      <th></th>\n",
       "      <th></th>\n",
       "      <th></th>\n",
       "      <th></th>\n",
       "      <th></th>\n",
       "      <th></th>\n",
       "      <th></th>\n",
       "    </tr>\n",
       "  </thead>\n",
       "  <tbody>\n",
       "    <tr>\n",
       "      <th>21/05/2012</th>\n",
       "      <td>-0.000180</td>\n",
       "      <td>0.000119</td>\n",
       "      <td>-0.001982</td>\n",
       "      <td>0.001125</td>\n",
       "      <td>0.001911</td>\n",
       "      <td>0.006996</td>\n",
       "      <td>0.031111</td>\n",
       "      <td>-0.109861</td>\n",
       "      <td>0.009770</td>\n",
       "      <td>0.011279</td>\n",
       "      <td>0.004698</td>\n",
       "      <td>0.016399</td>\n",
       "      <td>0.041061</td>\n",
       "      <td>0.003077</td>\n",
       "      <td>0.001721</td>\n",
       "      <td>0.008971</td>\n",
       "    </tr>\n",
       "    <tr>\n",
       "      <th>22/05/2012</th>\n",
       "      <td>-0.002434</td>\n",
       "      <td>-0.001664</td>\n",
       "      <td>-0.002382</td>\n",
       "      <td>-0.002681</td>\n",
       "      <td>-0.001908</td>\n",
       "      <td>-0.001097</td>\n",
       "      <td>-0.006459</td>\n",
       "      <td>-0.089039</td>\n",
       "      <td>0.010946</td>\n",
       "      <td>-0.001880</td>\n",
       "      <td>0.009107</td>\n",
       "      <td>0.000336</td>\n",
       "      <td>-0.012422</td>\n",
       "      <td>0.006289</td>\n",
       "      <td>0.002324</td>\n",
       "      <td>0.003138</td>\n",
       "    </tr>\n",
       "    <tr>\n",
       "      <th>23/05/2012</th>\n",
       "      <td>0.001175</td>\n",
       "      <td>0.000714</td>\n",
       "      <td>0.001592</td>\n",
       "      <td>0.002429</td>\n",
       "      <td>-0.000348</td>\n",
       "      <td>0.001098</td>\n",
       "      <td>0.006222</td>\n",
       "      <td>0.032258</td>\n",
       "      <td>0.013337</td>\n",
       "      <td>0.001255</td>\n",
       "      <td>-0.008049</td>\n",
       "      <td>-0.021841</td>\n",
       "      <td>0.005031</td>\n",
       "      <td>-0.010212</td>\n",
       "      <td>-0.008065</td>\n",
       "      <td>0.000000</td>\n",
       "    </tr>\n",
       "    <tr>\n",
       "      <th>24/05/2012</th>\n",
       "      <td>-0.000812</td>\n",
       "      <td>-0.001071</td>\n",
       "      <td>0.000397</td>\n",
       "      <td>0.000172</td>\n",
       "      <td>-0.001217</td>\n",
       "      <td>0.006948</td>\n",
       "      <td>0.003969</td>\n",
       "      <td>0.032187</td>\n",
       "      <td>0.007588</td>\n",
       "      <td>0.000627</td>\n",
       "      <td>0.012048</td>\n",
       "      <td>-0.001375</td>\n",
       "      <td>-0.005632</td>\n",
       "      <td>0.001386</td>\n",
       "      <td>0.007521</td>\n",
       "      <td>0.003650</td>\n",
       "    </tr>\n",
       "    <tr>\n",
       "      <th>25/05/2012</th>\n",
       "      <td>0.001535</td>\n",
       "      <td>0.001191</td>\n",
       "      <td>0.000397</td>\n",
       "      <td>0.002509</td>\n",
       "      <td>0.000174</td>\n",
       "      <td>-0.006416</td>\n",
       "      <td>-0.008366</td>\n",
       "      <td>-0.033909</td>\n",
       "      <td>0.003688</td>\n",
       "      <td>-0.006892</td>\n",
       "      <td>-0.001215</td>\n",
       "      <td>-0.000344</td>\n",
       "      <td>-0.008811</td>\n",
       "      <td>0.004614</td>\n",
       "      <td>-0.003329</td>\n",
       "      <td>-0.002597</td>\n",
       "    </tr>\n",
       "    <tr>\n",
       "      <th>...</th>\n",
       "      <td>...</td>\n",
       "      <td>...</td>\n",
       "      <td>...</td>\n",
       "      <td>...</td>\n",
       "      <td>...</td>\n",
       "      <td>...</td>\n",
       "      <td>...</td>\n",
       "      <td>...</td>\n",
       "      <td>...</td>\n",
       "      <td>...</td>\n",
       "      <td>...</td>\n",
       "      <td>...</td>\n",
       "      <td>...</td>\n",
       "      <td>...</td>\n",
       "      <td>...</td>\n",
       "      <td>...</td>\n",
       "    </tr>\n",
       "    <tr>\n",
       "      <th>21/03/2024</th>\n",
       "      <td>0.000718</td>\n",
       "      <td>0.000830</td>\n",
       "      <td>0.000000</td>\n",
       "      <td>0.001480</td>\n",
       "      <td>0.001736</td>\n",
       "      <td>0.004425</td>\n",
       "      <td>-0.001050</td>\n",
       "      <td>0.004431</td>\n",
       "      <td>0.003265</td>\n",
       "      <td>-0.005599</td>\n",
       "      <td>-0.003364</td>\n",
       "      <td>0.009736</td>\n",
       "      <td>0.009246</td>\n",
       "      <td>-0.013505</td>\n",
       "      <td>0.004754</td>\n",
       "      <td>0.015581</td>\n",
       "    </tr>\n",
       "    <tr>\n",
       "      <th>22/03/2024</th>\n",
       "      <td>0.003179</td>\n",
       "      <td>0.003319</td>\n",
       "      <td>0.003981</td>\n",
       "      <td>0.003416</td>\n",
       "      <td>0.003851</td>\n",
       "      <td>0.000000</td>\n",
       "      <td>0.004160</td>\n",
       "      <td>0.003584</td>\n",
       "      <td>-0.009439</td>\n",
       "      <td>-0.005268</td>\n",
       "      <td>0.000454</td>\n",
       "      <td>-0.001467</td>\n",
       "      <td>-0.009778</td>\n",
       "      <td>0.006845</td>\n",
       "      <td>0.004844</td>\n",
       "      <td>-0.008435</td>\n",
       "    </tr>\n",
       "    <tr>\n",
       "      <th>25/03/2024</th>\n",
       "      <td>-0.001840</td>\n",
       "      <td>-0.001930</td>\n",
       "      <td>-0.002203</td>\n",
       "      <td>-0.003405</td>\n",
       "      <td>-0.003453</td>\n",
       "      <td>0.010221</td>\n",
       "      <td>-0.002862</td>\n",
       "      <td>-0.012873</td>\n",
       "      <td>-0.004929</td>\n",
       "      <td>-0.004082</td>\n",
       "      <td>0.003283</td>\n",
       "      <td>-0.013715</td>\n",
       "      <td>-0.011584</td>\n",
       "      <td>0.013435</td>\n",
       "      <td>-0.006278</td>\n",
       "      <td>-0.009478</td>\n",
       "    </tr>\n",
       "    <tr>\n",
       "      <th>26/03/2024</th>\n",
       "      <td>0.001024</td>\n",
       "      <td>0.000829</td>\n",
       "      <td>0.001325</td>\n",
       "      <td>-0.000277</td>\n",
       "      <td>0.000770</td>\n",
       "      <td>-0.007501</td>\n",
       "      <td>0.001392</td>\n",
       "      <td>-0.014174</td>\n",
       "      <td>-0.000991</td>\n",
       "      <td>0.004025</td>\n",
       "      <td>0.002276</td>\n",
       "      <td>-0.002861</td>\n",
       "      <td>-0.015653</td>\n",
       "      <td>-0.018847</td>\n",
       "      <td>0.002933</td>\n",
       "      <td>0.000346</td>\n",
       "    </tr>\n",
       "    <tr>\n",
       "      <th>27/03/2024</th>\n",
       "      <td>0.003274</td>\n",
       "      <td>0.003450</td>\n",
       "      <td>0.002645</td>\n",
       "      <td>0.006927</td>\n",
       "      <td>0.003270</td>\n",
       "      <td>0.010370</td>\n",
       "      <td>-0.002823</td>\n",
       "      <td>-0.004094</td>\n",
       "      <td>0.003471</td>\n",
       "      <td>0.013023</td>\n",
       "      <td>0.004233</td>\n",
       "      <td>-0.000522</td>\n",
       "      <td>0.029727</td>\n",
       "      <td>0.038418</td>\n",
       "      <td>0.011811</td>\n",
       "      <td>0.037856</td>\n",
       "    </tr>\n",
       "  </tbody>\n",
       "</table>\n",
       "<p>2982 rows × 16 columns</p>\n",
       "</div>"
      ],
      "text/plain": [
       "            AGG Returns  BND Returns  GOVT Returns  LQD Returns  SCHP Returns  \\\n",
       "Date                                                                            \n",
       "21/05/2012    -0.000180     0.000119     -0.001982     0.001125      0.001911   \n",
       "22/05/2012    -0.002434    -0.001664     -0.002382    -0.002681     -0.001908   \n",
       "23/05/2012     0.001175     0.000714      0.001592     0.002429     -0.000348   \n",
       "24/05/2012    -0.000812    -0.001071      0.000397     0.000172     -0.001217   \n",
       "25/05/2012     0.001535     0.001191      0.000397     0.002509      0.000174   \n",
       "...                 ...          ...           ...          ...           ...   \n",
       "21/03/2024     0.000718     0.000830      0.000000     0.001480      0.001736   \n",
       "22/03/2024     0.003179     0.003319      0.003981     0.003416      0.003851   \n",
       "25/03/2024    -0.001840    -0.001930     -0.002203    -0.003405     -0.003453   \n",
       "26/03/2024     0.001024     0.000829      0.001325    -0.000277      0.000770   \n",
       "27/03/2024     0.003274     0.003450      0.002645     0.006927      0.003270   \n",
       "\n",
       "            XOM Returns  LIN Returns  META Returns  WMT Returns  \\\n",
       "Date                                                              \n",
       "21/05/2012     0.006996     0.031111     -0.109861     0.009770   \n",
       "22/05/2012    -0.001097    -0.006459     -0.089039     0.010946   \n",
       "23/05/2012     0.001098     0.006222      0.032258     0.013337   \n",
       "24/05/2012     0.006948     0.003969      0.032187     0.007588   \n",
       "25/05/2012    -0.006416    -0.008366     -0.033909     0.003688   \n",
       "...                 ...          ...           ...          ...   \n",
       "21/03/2024     0.004425    -0.001050      0.004431     0.003265   \n",
       "22/03/2024     0.000000     0.004160      0.003584    -0.009439   \n",
       "25/03/2024     0.010221    -0.002862     -0.012873    -0.004929   \n",
       "26/03/2024    -0.007501     0.001392     -0.014174    -0.000991   \n",
       "27/03/2024     0.010370    -0.002823     -0.004094     0.003471   \n",
       "\n",
       "            BRK-B Returns  LLY Returns  MSFT Returns  PLD Returns  \\\n",
       "Date                                                                \n",
       "21/05/2012       0.011279     0.004698      0.016399     0.041061   \n",
       "22/05/2012      -0.001880     0.009107      0.000336    -0.012422   \n",
       "23/05/2012       0.001255    -0.008049     -0.021841     0.005031   \n",
       "24/05/2012       0.000627     0.012048     -0.001375    -0.005632   \n",
       "25/05/2012      -0.006892    -0.001215     -0.000344    -0.008811   \n",
       "...                   ...          ...           ...          ...   \n",
       "21/03/2024      -0.005599    -0.003364      0.009736     0.009246   \n",
       "22/03/2024      -0.005268     0.000454     -0.001467    -0.009778   \n",
       "25/03/2024      -0.004082     0.003283     -0.013715    -0.011584   \n",
       "26/03/2024       0.004025     0.002276     -0.002861    -0.015653   \n",
       "27/03/2024       0.013023     0.004233     -0.000522     0.029727   \n",
       "\n",
       "            NEE Returns  CL Returns  GE Returns  \n",
       "Date                                             \n",
       "21/05/2012     0.003077    0.001721    0.008971  \n",
       "22/05/2012     0.006289    0.002324    0.003138  \n",
       "23/05/2012    -0.010212   -0.008065    0.000000  \n",
       "24/05/2012     0.001386    0.007521    0.003650  \n",
       "25/05/2012     0.004614   -0.003329   -0.002597  \n",
       "...                 ...         ...         ...  \n",
       "21/03/2024    -0.013505    0.004754    0.015581  \n",
       "22/03/2024     0.006845    0.004844   -0.008435  \n",
       "25/03/2024     0.013435   -0.006278   -0.009478  \n",
       "26/03/2024    -0.018847    0.002933    0.000346  \n",
       "27/03/2024     0.038418    0.011811    0.037856  \n",
       "\n",
       "[2982 rows x 16 columns]"
      ]
     },
     "execution_count": 13,
     "metadata": {},
     "output_type": "execute_result"
    }
   ],
   "source": [
    "df_all = df_bonds.join(df_equity)\n",
    "df_all"
   ]
  },
  {
   "cell_type": "code",
   "execution_count": 14,
   "metadata": {},
   "outputs": [
    {
     "name": "stdout",
     "output_type": "stream",
     "text": [
      "            AGG Returns  BND Returns  GOVT Returns  LQD Returns  SCHP Returns  \\\n",
      "Date                                                                            \n",
      "2012-05-21    -0.000180     0.000119     -0.001982     0.001125      0.001911   \n",
      "2012-05-22    -0.002434    -0.001664     -0.002382    -0.002681     -0.001908   \n",
      "2012-05-23     0.001175     0.000714      0.001592     0.002429     -0.000348   \n",
      "2012-05-24    -0.000812    -0.001071      0.000397     0.000172     -0.001217   \n",
      "2012-05-25     0.001535     0.001191      0.000397     0.002509      0.000174   \n",
      "...                 ...          ...           ...          ...           ...   \n",
      "2024-03-21     0.000717     0.000829     -0.000001     0.001478      0.001735   \n",
      "2024-03-22     0.003178     0.003318      0.003979     0.003415      0.003850   \n",
      "2024-03-25    -0.001842    -0.001931     -0.002204    -0.003406     -0.003454   \n",
      "2024-03-26     0.001023     0.000827      0.001323    -0.000279      0.000768   \n",
      "2024-03-27     0.003273     0.003448      0.002644     0.006926      0.003268   \n",
      "\n",
      "            XOM Returns  LIN Returns  META Returns  WMT Returns  \\\n",
      "Date                                                              \n",
      "2012-05-21     0.006996     0.031110     -0.109861     0.009770   \n",
      "2012-05-22    -0.001097    -0.006459     -0.089039     0.010945   \n",
      "2012-05-23     0.001098     0.006222      0.032258     0.013337   \n",
      "2012-05-24     0.006948     0.003969      0.032187     0.007588   \n",
      "2012-05-25    -0.006416    -0.008366     -0.033909     0.003688   \n",
      "...                 ...          ...           ...          ...   \n",
      "2024-03-21     0.004424    -0.001051      0.004430     0.003264   \n",
      "2024-03-22    -0.000001     0.004159      0.003583    -0.009440   \n",
      "2024-03-25     0.010220    -0.002863     -0.012875    -0.004930   \n",
      "2024-03-26    -0.007503     0.001391     -0.014176    -0.000992   \n",
      "2024-03-27     0.010369    -0.002825     -0.004095     0.003469   \n",
      "\n",
      "            BRK-B Returns  LLY Returns  MSFT Returns  PLD Returns  \\\n",
      "Date                                                                \n",
      "2012-05-21       0.011279     0.004698      0.016399     0.041061   \n",
      "2012-05-22      -0.001880     0.009107      0.000336    -0.012422   \n",
      "2012-05-23       0.001255    -0.008049     -0.021841     0.005031   \n",
      "2012-05-24       0.000627     0.012048     -0.001375    -0.005632   \n",
      "2012-05-25      -0.006892    -0.001215     -0.000344    -0.008811   \n",
      "...                   ...          ...           ...          ...   \n",
      "2024-03-21      -0.005601    -0.003366      0.009734     0.009245   \n",
      "2024-03-22      -0.005270     0.000453     -0.001469    -0.009779   \n",
      "2024-03-25      -0.004083     0.003282     -0.013716    -0.011586   \n",
      "2024-03-26       0.004024     0.002275     -0.002863    -0.015655   \n",
      "2024-03-27       0.013022     0.004231     -0.000523     0.029725   \n",
      "\n",
      "            NEE Returns  CL Returns    GE Returns  \n",
      "Date                                               \n",
      "2012-05-21     0.003077    0.001721  8.971085e-03  \n",
      "2012-05-22     0.006288    0.002324  3.137706e-03  \n",
      "2012-05-23    -0.010212   -0.008065 -4.166667e-08  \n",
      "2012-05-24     0.001386    0.007521  3.649722e-03  \n",
      "2012-05-25     0.004614   -0.003329 -2.597232e-03  \n",
      "...                 ...         ...           ...  \n",
      "2024-03-21    -0.013506    0.004752  1.557948e-02  \n",
      "2024-03-22     0.006843    0.004843 -8.436664e-03  \n",
      "2024-03-25     0.013433   -0.006280 -9.479043e-03  \n",
      "2024-03-26    -0.018848    0.002932  3.442914e-04  \n",
      "2024-03-27     0.038416    0.011809  3.785501e-02  \n",
      "\n",
      "[2611 rows x 16 columns]\n"
     ]
    },
    {
     "name": "stderr",
     "output_type": "stream",
     "text": [
      "C:\\Users\\shara\\AppData\\Local\\Temp\\ipykernel_18080\\3563832263.py:2: UserWarning: Parsing dates in %d/%m/%Y format when dayfirst=False (the default) was specified. Pass `dayfirst=True` or specify a format to silence this warning.\n",
      "  df_equity.index = pd.to_datetime(df_equity.index)\n",
      "C:\\Users\\shara\\AppData\\Local\\Temp\\ipykernel_18080\\3563832263.py:3: UserWarning: Parsing dates in %d/%m/%Y format when dayfirst=False (the default) was specified. Pass `dayfirst=True` or specify a format to silence this warning.\n",
      "  df_bonds.index = pd.to_datetime(df_bonds.index)\n"
     ]
    }
   ],
   "source": [
    "\n",
    "\n",
    "# Make sure all indices are in the same date format and set as index\n",
    "df_equity.index = pd.to_datetime(df_equity.index)\n",
    "df_bonds.index = pd.to_datetime(df_bonds.index)\n",
    "\n",
    "# Convert DFF to a daily percentage return for consistency with other returns\n",
    "df_rf['DFF'] = df_rf['DFF'] / 100\n",
    "df_equity_excess_returns = df_equity.sub(df_rf['DFF'], axis=0)\n",
    "df_debt_excess_returns = df_bonds.sub(df_rf['DFF'], axis=0)\n",
    "df_equity_and_debt_excess_returns = df_debt_excess_returns.join(df_equity_excess_returns)\n",
    "df_equity_and_debt_excess_returns.dropna(inplace=True)  # Remove any rows with NaN values\n",
    "print(df_equity_and_debt_excess_returns)\n"
   ]
  },
  {
   "cell_type": "markdown",
   "metadata": {},
   "source": [
    "# All Functions"
   ]
  },
  {
   "cell_type": "code",
   "execution_count": 15,
   "metadata": {},
   "outputs": [],
   "source": [
    "\n",
    "def Portfolios_1(mean_returns, cov_matrix, daily_returns=daily_returns_equity, Rf=0, graph=True, CML=True, portfolio=True, series_label=None, color_line=None, pos_plot=1.0, neg_plot=0.0):\n",
    "    e = np.ones(len(cov_matrix))\n",
    "    icov = np.linalg.inv(cov_matrix)\n",
    "    h = np.matmul(e, icov)\n",
    "    g = np.matmul(mean_returns, icov)\n",
    "    a = np.sum(e * h)\n",
    "    b = np.sum(mean_returns * h)\n",
    "    c = np.sum(mean_returns * g)\n",
    "    d = a * c - b ** 2\n",
    "\n",
    "    MVP_weights = h / a\n",
    "    MVP_return = b / a\n",
    "    MVP_std = (1 / a) ** (1 / 2)\n",
    "\n",
    "    Tan_return = (c - b * Rf) / (b - a * Rf)\n",
    "    Tan_std = ((a * Tan_return ** 2 - 2 * b * Tan_return + c) / d) ** (1 / 2)\n",
    "    CML_Slope = (Tan_return - Rf) / Tan_std\n",
    "\n",
    "    Lambda = (c - b * Tan_return) / d\n",
    "    mu = (a * Tan_return - b) / d\n",
    "\n",
    "    Tan_weight = Lambda * h + mu * g\n",
    "\n",
    "    # Calculate the mean return of individual assets\n",
    "    mean_asset_returns = np.mean(daily_returns, axis=0)\n",
    "\n",
    "    # Construct an equally weighted portfolio\n",
    "    num_assets = len(mean_returns)\n",
    "    equally_weighted_weights = np.ones(num_assets) / num_assets\n",
    "\n",
    "    equally_weighted_return = np.dot(mean_returns, equally_weighted_weights)\n",
    "    equally_weighted_std = np.sqrt(np.dot(equally_weighted_weights.T, np.dot(cov_matrix, equally_weighted_weights)))\n",
    "\n",
    "    results = {}\n",
    "    results['MVP'] = {}\n",
    "    results['Optimal'] = {}\n",
    "    results['Equally Weighted'] = {}\n",
    "\n",
    "    results['MVP']['weights'] = MVP_weights\n",
    "    results['MVP']['return'] = MVP_return\n",
    "    results['MVP']['std'] = MVP_std\n",
    "    results['MVP']['excess return'] = MVP_return - Rf\n",
    "    results['MVP']['Sharpe Ratio'] = results['MVP']['excess return'] / MVP_std\n",
    "\n",
    "    results['Optimal']['weights'] = Tan_weight\n",
    "    results['Optimal']['return'] = Tan_return\n",
    "    results['Optimal']['std'] = Tan_std\n",
    "    results['Optimal']['excess return'] = Tan_return - Rf\n",
    "    results['Optimal']['Sharpe Ratio'] = CML_Slope\n",
    "\n",
    "    results['Equally Weighted']['weights'] = equally_weighted_weights\n",
    "    results['Equally Weighted']['return'] = equally_weighted_return\n",
    "    results['Equally Weighted']['std'] = equally_weighted_std\n",
    "    results['Equally Weighted']['excess return'] = equally_weighted_return - Rf\n",
    "    results['Equally Weighted']['Sharpe Ratio'] = (equally_weighted_return - Rf) / equally_weighted_std\n",
    "\n",
    "    print('\\nMVP_weights', MVP_weights)\n",
    "    print('\\nTan_weight', Tan_weight)\n",
    "    print('\\nEqual_weights', equally_weighted_weights)\n",
    "\n",
    "    # Plot\n",
    "    if graph:\n",
    "        exp_returns_array = np.arange(-max(mean_returns) * (1.6) * neg_plot, max(mean_returns) * (1.6) * pos_plot, 0.0001)\n",
    "        risk = ((a * exp_returns_array ** 2 - 2 * b * exp_returns_array + c) / d) ** (1 / 2)\n",
    "\n",
    "        above_MVP_return = exp_returns_array > MVP_return\n",
    "        plt.plot(risk[~above_MVP_return], exp_returns_array[~above_MVP_return], linestyle='--', color=color_line)\n",
    "        if above_MVP_return.any():\n",
    "            plt.plot(risk[above_MVP_return], exp_returns_array[above_MVP_return], label=series_label, linestyle='-',\n",
    "                     color=color_line)\n",
    "\n",
    "        if portfolio:\n",
    "            plt.scatter(MVP_std, MVP_return, label='Min Var P')\n",
    "            plt.scatter(Tan_std, Tan_return, label='Tang. P')\n",
    "            plt.scatter(equally_weighted_std, equally_weighted_return, label='Equally Weighted P')\n",
    "\n",
    "            if CML:\n",
    "                risk_array = np.arange(0, 0.07, 0.001)\n",
    "                plt.plot(risk_array, Rf + risk_array * CML_Slope, label='CAL')\n",
    "        plt.legend()\n",
    "    else:\n",
    "        return results\n",
    "\n",
    "    return results\n",
    "def PORTFOLIOS(df, Rf=0, graph=True, CML=True, portfolio=True, series_label=None, color_line=None, pos_plot=1.0, neg_plot=0.0):\n",
    "    mean_returns = df.mean()\n",
    "    cov_matrix = df.cov()\n",
    "    tickers = df.columns.tolist()\n",
    "    \n",
    "    e = np.ones(len(cov_matrix))\n",
    "    icov = np.linalg.inv(cov_matrix)\n",
    "    h = np.matmul(e, icov)\n",
    "    g = np.matmul(mean_returns, icov)\n",
    "    a = np.sum(e * h)\n",
    "    b = np.sum(mean_returns * h)\n",
    "    c = np.sum(mean_returns * g)\n",
    "    d = a * c - b ** 2\n",
    "\n",
    "    MVP_weights = h / a\n",
    "    MVP_return = b / a\n",
    "    MVP_std = (1 / a) ** (1 / 2)\n",
    "\n",
    "    Tan_return = (c - b * Rf) / (b - a * Rf)\n",
    "    Tan_std = ((a * Tan_return ** 2 - 2 * b * Tan_return + c) / d) ** (1 / 2)\n",
    "    CML_Slope = (Tan_return - Rf) / Tan_std\n",
    "\n",
    "    Lambda = (c - b * Tan_return) / d\n",
    "    mu = (a * Tan_return - b) / d\n",
    "\n",
    "    Tan_weight = Lambda * h + mu * g\n",
    "\n",
    "    # Construct an equally weighted portfolio\n",
    "    num_assets = len(mean_returns)\n",
    "    equally_weighted_weights = np.ones(num_assets) / num_assets\n",
    "\n",
    "    equally_weighted_return = np.dot(mean_returns, equally_weighted_weights)\n",
    "    equally_weighted_std = np.sqrt(np.dot(equally_weighted_weights.T, np.dot(cov_matrix, equally_weighted_weights)))\n",
    "\n",
    "    results = {}\n",
    "\n",
    "\n",
    "    # Construct a dictionary to store weights associated with tickers\n",
    "    weights_by_ticker = {}\n",
    "\n",
    "    for i, ticker in enumerate(tickers):\n",
    "        weights_by_ticker[ticker] = {\n",
    "            'MVP': MVP_weights[i],\n",
    "            'Optimal': Tan_weight[i],\n",
    "            'Equally Weighted': equally_weighted_weights[i]\n",
    "        }\n",
    "\n",
    "    # Add the weights by ticker dictionary to the results dictionary\n",
    "    results['weights_by_ticker'] = weights_by_ticker\n",
    "\n",
    "    results['MVP'] = {\n",
    "        'weights': MVP_weights,\n",
    "        'return': MVP_return,\n",
    "        'std': MVP_std,\n",
    "        'excess return': MVP_return - Rf,\n",
    "        'Sharpe Ratio': (MVP_return - Rf) / MVP_std\n",
    "    }\n",
    "\n",
    "    results['Optimal'] = {\n",
    "        'weights': Tan_weight,\n",
    "        'return': Tan_return,\n",
    "        'std': Tan_std,\n",
    "        'excess return': Tan_return - Rf,\n",
    "        'Sharpe Ratio': CML_Slope\n",
    "    }\n",
    "\n",
    "    results['Equally Weighted'] = {\n",
    "        'weights': equally_weighted_weights,\n",
    "        'return': equally_weighted_return,\n",
    "        'std': equally_weighted_std,\n",
    "        'excess return': equally_weighted_return - Rf,\n",
    "        'Sharpe Ratio': (equally_weighted_return - Rf) / equally_weighted_std\n",
    "    }\n",
    "\n",
    "    # Calculate Daily Returns for each Portfolio\n",
    "    daily_returns = pd.DataFrame({\n",
    "        'MVP': np.dot(df, MVP_weights),\n",
    "        'Optimal': np.dot(df, Tan_weight),\n",
    "        'Equally Weighted': np.dot(df, equally_weighted_weights)\n",
    "    }, index=df.index)\n",
    "\n",
    "    # Add Daily Returns DataFrame to Results Dictionary\n",
    "    results['daily_returns'] = daily_returns\n",
    "    return results\n",
    "\n",
    "def portfolio_VaR_nonparametric(portfolio_returns, portfolio_value=money_invested, confidence_level=0.99):\n",
    "    \n",
    "    portfolio_returns = portfolio_returns.drop(portfolio_returns.index[0])\n",
    "    \n",
    "    # Calculate VaR using historical simulation\n",
    "    var_percentage = np.percentile(portfolio_returns, 100 * (1 - confidence_level))\n",
    "    \n",
    "    if portfolio_value is None:\n",
    "        return var_percentage\n",
    "    else:\n",
    "        # Calculate the VaR in terms of monetary value\n",
    "        var = portfolio_value * var_percentage\n",
    "        return var\n",
    "\n",
    "def portfolio_VaR_parametric(portfolio_returns, portfolio_value=money_invested, confidence_level=0.99):\n",
    "    \n",
    "    portfolio_returns = portfolio_returns.drop(portfolio_returns.index[0])\n",
    "    \n",
    "    # Calculate the mean and standard deviation of portfolio returns\n",
    "    mean_return = np.mean(portfolio_returns)\n",
    "    std_return = np.std(portfolio_returns)\n",
    "    \n",
    "    # Calculate the z-score corresponding to the confidence level\n",
    "    z_score = norm.ppf(1 - (1 - confidence_level))\n",
    "    \n",
    "    # Calculate the VaR as a percentage of the portfolio value\n",
    "    var_percentage = z_score * std_return - mean_return\n",
    "    \n",
    "    if portfolio_value is None:\n",
    "        return var_percentage\n",
    "    else:\n",
    "        # Calculate the VaR in terms of monetary value\n",
    "        var = portfolio_value * var_percentage\n",
    "        var = -var # Doing this so it appears as negative to consistent with nonparametric\n",
    "        return var\n",
    "\n",
    "def portfolio_ES(portfolio_returns, portfolio_value=money_invested, confidence_level=0.99):\n",
    "    \n",
    "    portfolio_returns = portfolio_returns.drop(portfolio_returns.index[0])\n",
    "    \n",
    "    # Calculate the VaR using historical simulation\n",
    "    var_percentage = np.percentile(portfolio_returns, 100 * (1 - confidence_level))\n",
    "    \n",
    "    # Calculate the indices of returns below the VaR threshold\n",
    "    below_var_indices = np.where(portfolio_returns <= var_percentage)[0]\n",
    "    \n",
    "    if len(below_var_indices) == 0:\n",
    "        return 0.0  # If no returns are below the VaR threshold, ES is zero\n",
    "    \n",
    "    # Calculate the Expected Shortfall\n",
    "    es = np.mean(portfolio_returns[below_var_indices])\n",
    "    \n",
    "    # Multiply Expected Shortfall by portfolio value to express it in monetary terms\n",
    "    es_monetary = es * portfolio_value\n",
    "    \n",
    "    return es_monetary\n",
    "\n",
    "def spectral_risk_measure(portfolio_returns, portfolio_value=money_invested, risk_measure='VaR', confidence_level=0.99, wavelet='db1'):\n",
    "    \n",
    "    portfolio_returns = portfolio_returns.drop(portfolio_returns.index[0])\n",
    "    \n",
    "    # Perform wavelet decomposition\n",
    "    coeffs = pywt.wavedec(portfolio_returns, wavelet)\n",
    "    \n",
    "    # Initialize an array to store risk measures for each frequency component\n",
    "    spectral_risk = np.zeros(len(coeffs))\n",
    "    \n",
    "    # Calculate risk measure for each detail coefficient (frequency component)\n",
    "    for i, coeff in enumerate(coeffs):\n",
    "        if risk_measure == 'VaR':\n",
    "            spectral_risk[i] = np.percentile(coeff, 100 * (1 - confidence_level))\n",
    "        elif risk_measure == 'ES':\n",
    "            below_var_indices = np.where(coeff <= np.percentile(coeff, 100 * (1 - confidence_level)))[0]\n",
    "            if len(below_var_indices) == 0:\n",
    "                spectral_risk[i] = 0.0\n",
    "            else:\n",
    "                spectral_risk[i] = np.mean(coeff[below_var_indices])\n",
    "        # Add support for other risk measures as needed\n",
    "    \n",
    "    # Multiply risk measures by portfolio value to express them in monetary terms\n",
    "    spectral_risk_monetary = spectral_risk * portfolio_value\n",
    "    \n",
    "    # Aggregate risk measures from different frequency components\n",
    "    aggregated_risk = np.mean(spectral_risk_monetary)\n",
    "    \n",
    "    return aggregated_risk\n",
    "\n",
    "def apply_rolling_window(return_series, window, func, portfolio_value=money_invested, risk_measure=None):\n",
    "    if risk_measure == None:\n",
    "        rolled = return_series.rolling(window).apply(lambda x: func(x, portfolio_value), raw=False)\n",
    "    else:\n",
    "        rolled = return_series.rolling(window).apply(lambda x: func(x, portfolio_value, risk_measure), raw=False)\n",
    "    \n",
    "    return rolled\n",
    "\n",
    "\n",
    "def BRW_VaR(returns, portfolio_value=money_invested, lamb=0.85, significants=0.01):\n",
    "    '''\n",
    "    lamb value between 0-1, indicates the bias for more recent observations. Lower lamb means more bias to recent observations\n",
    "    '''\n",
    "    returns = returns.drop(returns.index[0])\n",
    "    #Check if input is a pd.Series and convert to dataframe\n",
    "    if isinstance(returns, pd.Series):\n",
    "        rets = returns.to_frame()\n",
    "    \n",
    "    #Rename column\n",
    "    rets.rename(columns={rets.columns[0] : 'Close'}, inplace=True)\n",
    "    \n",
    "    #Sort and assign recency rank\n",
    "    rets = rets.sort_values(by='Date', ascending=False)\n",
    "    rets['Recency_rank'] = range(1, len(rets) + 1)\n",
    "    \n",
    "    #Add Weight vector\n",
    "    rets.sort_values(by='Close', inplace=True)\n",
    "    rets['W_Factor'] = rets['Recency_rank'].apply(lambda x: lamb**x)\n",
    "    \n",
    "    total = rets['W_Factor'].sum()\n",
    "    \n",
    "    #Adjust weight factor\n",
    "    rets['Adjust'] = rets['W_Factor'].apply(lambda x: x/total)\n",
    "    \n",
    "    rets['Cumulative'] = rets['Adjust'].cumsum()\n",
    "    \n",
    "    \n",
    "    rets['Diff'] = (rets['Cumulative'] - significants).abs()\n",
    "    min_index = rets['Diff'].idxmin()\n",
    "    closest_value = rets.loc[min_index, 'Close']\n",
    "    \n",
    "    return closest_value * portfolio_value\n",
    "\n",
    "def Modified_VaR(returns, portfolio_value=money_invested, confidence=0.01):\n",
    "    import scipy.stats as ss\n",
    "    returns = returns.drop(returns.index[0])\n",
    "    \n",
    "    mean = returns.mean()\n",
    "    std = np.std(returns, ddof=1)\n",
    "    skew = ss.skew(returns)\n",
    "    kurt = ss.kurtosis(returns)\n",
    "    b = norm.ppf(confidence) + (1/6) * (norm.ppf(confidence)**2 - 1) * skew\n",
    "    c = (1/24) * (norm.ppf(confidence)**3 - 3 * norm.ppf(confidence)) * kurt\n",
    "    d = (1/36) * (2 * norm.ppf(confidence)**3 - 5 * norm.ppf(confidence)) * skew**2\n",
    "    \n",
    "    return (mean + std * (b + c + d)) * portfolio_value\n",
    "\n",
    "def parametric_var_logistic(returns, alpha=0.01, portfolio_value=money_invested):\n",
    "    mean = returns.mean()\n",
    "    std = np.std(returns, ddof=1)\n",
    "    scale = (std * np.sqrt(3)) / np.pi\n",
    "    ans = mean + scale * (np.log(alpha / (1 - alpha)))\n",
    "    \n",
    "    return ans * portfolio_value\n",
    "\n",
    "def parametric_var_T_dist(returns, alpha=0.01, portfolio_value=money_invested):\n",
    "    import scipy.stats as ss\n",
    "    \n",
    "    returns = returns.drop(returns.index[0])\n",
    "    mean = returns.mean()\n",
    "    std = np.std(returns, ddof=1)\n",
    "    kurt = ss.kurtosis(returns)\n",
    "    df = np.absolute(np.floor((6/kurt) + 4))\n",
    "    scale = std * ((df - 2) / df)**(1/2)\n",
    "    t_inv = t.ppf(alpha, df)\n",
    "    \n",
    "    return (mean + scale * t_inv) * portfolio_value\n"
   ]
  },
  {
   "cell_type": "markdown",
   "metadata": {},
   "source": [
    "#### Equity Results for entire time"
   ]
  },
  {
   "cell_type": "code",
   "execution_count": 16,
   "metadata": {},
   "outputs": [
    {
     "name": "stdout",
     "output_type": "stream",
     "text": [
      "Equity Portfolios Weights:\n",
      "                     MVP   Optimal  Equally Weighted\n",
      "XOM Returns    0.069875 -0.095562          0.090909\n",
      "LIN Returns    0.095836  0.096233          0.090909\n",
      "META Returns   0.024597  0.085624          0.090909\n",
      "WMT Returns    0.247128  0.132062          0.090909\n",
      "BRK-B Returns  0.180360  0.212423          0.090909\n",
      "LLY Returns    0.084463  0.519444          0.090909\n",
      "MSFT Returns  -0.026100  0.280918          0.090909\n",
      "PLD Returns   -0.052925 -0.000627          0.090909\n",
      "NEE Returns    0.121912  0.184237          0.090909\n",
      "CL Returns     0.261787 -0.313156          0.090909\n",
      "GE Returns    -0.006934 -0.101596          0.090909\n",
      "                 MVP   Optimal  Equally Weighted\n",
      "Date                                            \n",
      "2012-05-21  0.003776  0.002743          0.002293\n",
      "2012-05-22  0.002251 -0.002150         -0.007160\n",
      "2012-05-23  0.001256 -0.004392          0.001003\n",
      "2012-05-24  0.007110  0.007014          0.006265\n",
      "2012-05-25 -0.002334 -0.002638         -0.005780\n",
      "...              ...       ...               ...\n",
      "2024-03-21 -0.001423 -0.005481          0.002538\n",
      "2024-03-22 -0.000041 -0.001227         -0.001318\n",
      "2024-03-25 -0.000522 -0.000608         -0.003533\n",
      "2024-03-26 -0.000695 -0.003676         -0.004460\n",
      "2024-03-27  0.009871  0.003178          0.012861\n",
      "\n",
      "[2982 rows x 3 columns]\n",
      "\n",
      "MVP_weights [ 0.06987475  0.0958356   0.02459726  0.2471283   0.18036011  0.08446333\n",
      " -0.02609959 -0.05292456  0.12191156  0.26178715 -0.0069339 ]\n",
      "\n",
      "Tan_weight [-0.0860703   0.09621056  0.08212315  0.1386633   0.210583    0.49448775\n",
      "  0.26330367 -0.00362726  0.18066154 -0.28017017 -0.09616525]\n",
      "\n",
      "Equal_weights [0.09090909 0.09090909 0.09090909 0.09090909 0.09090909 0.09090909\n",
      " 0.09090909 0.09090909 0.09090909 0.09090909 0.09090909]\n"
     ]
    },
    {
     "data": {
      "image/png": "[encoded data removed]",
      "text/plain": [
       "<Figure size 640x480 with 1 Axes>"
      ]
     },
     "metadata": {},
     "output_type": "display_data"
    }
   ],
   "source": [
    "\n",
    "results_equity = PORTFOLIOS(df_equity, Rf=mean_risk_free)\n",
    "equity_portfolios_weights = pd.DataFrame.from_dict(results_equity['weights_by_ticker'], orient='index')\n",
    "print(\"Equity Portfolios Weights:\\n\", equity_portfolios_weights)\n",
    "df_excess_equity_daily_returns = results_equity['daily_returns']\n",
    "cov_matrix = daily_returns_equity.cov()\n",
    "mean_returns = daily_returns_equity.mean()\n",
    "print(df_excess_equity_daily_returns)\n",
    "Portfolios_1(mean_returns, cov_matrix, daily_returns=daily_returns_equity)\n",
    "df_excess_equity_daily_returns = results_equity['daily_returns']"
   ]
  },
  {
   "cell_type": "code",
   "execution_count": 17,
   "metadata": {},
   "outputs": [
    {
     "name": "stdout",
     "output_type": "stream",
     "text": [
      "Equit_portfolios_metrics:\n",
      "                Optimal       MVP  Equal Weights\n",
      "std           0.013388  0.008967       0.010108\n",
      "return        0.001235  0.000572       0.000722\n",
      "Sharpe Ratio  0.089771  0.060122       0.068168\n"
     ]
    }
   ],
   "source": [
    "# Metrics for the Equity Portfolios\n",
    "\n",
    "keys_to_select = ['return', 'std', 'Sharpe Ratio']\n",
    "\n",
    "# Create a new dictionary containing only the selected items\n",
    "selected_items = {key: results_equity['Optimal'][key] for key in results_equity['Optimal'].keys() & keys_to_select}\n",
    "df_optimal_results = pd.DataFrame.from_dict(selected_items, orient = 'index')\n",
    "df_optimal_results.columns = ['Optimal']\n",
    "\n",
    "# Create a new dictionary containing only the selected items\n",
    "selected_items = {key: results_equity['MVP'][key] for key in results_equity['MVP'].keys() & keys_to_select}\n",
    "df_MVP_results = pd.DataFrame.from_dict(selected_items, orient = 'index')\n",
    "df_MVP_results.columns = ['MVP']\n",
    "\n",
    "# Create a new dictionary containing only the selected items\n",
    "selected_items = {key: results_equity['Equally Weighted'][key] for key in results_equity['Equally Weighted'].keys() & keys_to_select}\n",
    "df_equal_results = pd.DataFrame.from_dict(selected_items, orient = 'index')\n",
    "df_equal_results.columns = ['Equal Weights']\n",
    "\n",
    "Equity_portfolios_metrics = pd.merge(df_optimal_results, df_MVP_results, left_index=True, right_index=True)\n",
    "Equity_portfolios_metrics = pd.merge(Equity_portfolios_metrics, df_equal_results, left_index=True, right_index=True)\n",
    "print('Equit_portfolios_metrics:\\n', Equity_portfolios_metrics)\n",
    "\n",
    "#Equity_portfolios_metrics.to_excel(os.path.join(\"Tables\", 'Equity_Portfolios_Metrics.xlsx'), index=True)\n"
   ]
  },
  {
   "cell_type": "code",
   "execution_count": 18,
   "metadata": {},
   "outputs": [
    {
     "name": "stdout",
     "output_type": "stream",
     "text": [
      "                                    MVP\n",
      "VaR nonparametric         -24276.171714\n",
      "VaR parametric            -20288.209384\n",
      "ES                        -34135.123604\n",
      "Spectral Risk Measure     -13835.779916\n",
      "Age Weighted               -1617.798225\n",
      "Modified VaR              -55377.215172\n",
      "VaR Logistic distribution -22144.340502\n",
      "VaR T-distribution        -23189.644115\n"
     ]
    }
   ],
   "source": [
    "MVP = df_excess_equity_daily_returns['MVP'] \n",
    "\n",
    "VaR_nonparametric = portfolio_VaR_nonparametric(MVP)\n",
    "VaR_parametric = portfolio_VaR_parametric(MVP)\n",
    "ES = portfolio_ES(MVP)\n",
    "SRM = spectral_risk_measure(MVP)\n",
    "BRW = BRW_VaR(MVP)\n",
    "MVaR = Modified_VaR(MVP)\n",
    "VaR_logistic = parametric_var_logistic(MVP)\n",
    "VAR_T_dist = parametric_var_T_dist(MVP)\n",
    "\n",
    "# Create a dictionary with the results\n",
    "MVP_VaR_equity_results_dic = {\n",
    "    \"VaR nonparametric\": VaR_nonparametric,\n",
    "    \"VaR parametric\": VaR_parametric,\n",
    "    \"ES\": ES,\n",
    "    \"Spectral Risk Measure\": SRM,\n",
    "    \"Age Weighted\": BRW,\n",
    "    \"Modified VaR\": MVaR,\n",
    "    \"VaR Logistic distribution\": VaR_logistic,\n",
    "    \"VaR T-distribution\": VAR_T_dist\n",
    "}\n",
    "\n",
    "# Convert the dictionary into a DataFrame\n",
    "MVP_VaR_equity_results = pd.DataFrame.from_dict(MVP_VaR_equity_results_dic, orient='index',columns=['MVP'])\n",
    "#MVP_VaR_equity_results.to_excel(os.path.join(\"Tables\", 'MVP_VaR_equity_results.xlsx'), index=True)\n",
    "print(MVP_VaR_equity_results)"
   ]
  },
  {
   "cell_type": "code",
   "execution_count": null,
   "metadata": {},
   "outputs": [],
   "source": []
  },
  {
   "cell_type": "code",
   "execution_count": 19,
   "metadata": {},
   "outputs": [
    {
     "name": "stdout",
     "output_type": "stream",
     "text": [
      "                                Optimal\n",
      "VaR nonparametric         -33798.829484\n",
      "VaR parametric            -29911.927894\n",
      "ES                        -44604.926662\n",
      "Spectral Risk Measure     -16889.688495\n",
      "Age Weighted              -20534.424248\n",
      "Modified VaR              -52083.294489\n",
      "VaR Logistic distribution -32683.895116\n",
      "VaR T-distribution        -34244.268477\n"
     ]
    }
   ],
   "source": [
    "Optimal = df_excess_equity_daily_returns['Optimal'] \n",
    "\n",
    "VaR_nonparametric = portfolio_VaR_nonparametric(Optimal)\n",
    "VaR_parametric = portfolio_VaR_parametric(Optimal)\n",
    "ES = portfolio_ES(Optimal)\n",
    "SRM = spectral_risk_measure(Optimal)\n",
    "BRW = BRW_VaR(Optimal)\n",
    "MVaR = Modified_VaR(Optimal)\n",
    "VaR_logistic = parametric_var_logistic(Optimal)\n",
    "VAR_T_dist = parametric_var_T_dist(Optimal)\n",
    "\n",
    "# Create a dictionary with the results\n",
    "Optimal_VaR_equity_results_dic = {\n",
    "    \"VaR nonparametric\": VaR_nonparametric,\n",
    "    \"VaR parametric\": VaR_parametric,\n",
    "    \"ES\": ES,\n",
    "    \"Spectral Risk Measure\": SRM,\n",
    "    \"Age Weighted\" : BRW,\n",
    "    \"Modified VaR\": MVaR,\n",
    "    \"VaR Logistic distribution\": VaR_logistic,\n",
    "    \"VaR T-distribution\": VAR_T_dist\n",
    "}\n",
    "\n",
    "# Convert the dictionary into a DataFrame\n",
    "Optimal_VaR_equity_results = pd.DataFrame.from_dict(Optimal_VaR_equity_results_dic, orient='index',columns=['Optimal'])\n",
    "#Optimal_VaR_equity_results.to_excel(os.path.join(\"Tables\", 'Optimal_VaR_equity_results.xlsx'), index=True)\n",
    "print(Optimal_VaR_equity_results)\n"
   ]
  },
  {
   "cell_type": "code",
   "execution_count": null,
   "metadata": {},
   "outputs": [],
   "source": []
  },
  {
   "cell_type": "code",
   "execution_count": 20,
   "metadata": {},
   "outputs": [
    {
     "name": "stdout",
     "output_type": "stream",
     "text": [
      "                                  Equal\n",
      "VaR nonparametric         -26266.302218\n",
      "VaR parametric            -22793.236401\n",
      "ES                        -40904.160461\n",
      "Spectral Risk Measure     -16068.644241\n",
      "Age Weighted               -6010.790455\n",
      "Modified VaR              -64425.477381\n",
      "VaR Logistic distribution -24885.907705\n",
      "VaR T-distribution        -26064.047033\n"
     ]
    }
   ],
   "source": [
    "Equal = df_excess_equity_daily_returns['Equally Weighted'] \n",
    "\n",
    "VaR_nonparametric = portfolio_VaR_nonparametric(Equal)\n",
    "VaR_parametric = portfolio_VaR_parametric(Equal)\n",
    "ES = portfolio_ES(Equal)\n",
    "SRM = spectral_risk_measure(Equal)\n",
    "BRW = BRW_VaR(Equal)\n",
    "MVaR = Modified_VaR(Equal)\n",
    "VaR_logistic = parametric_var_logistic(Equal)\n",
    "VAR_T_dist = parametric_var_T_dist(Equal)\n",
    "\n",
    "# Create a dictionary with the results\n",
    "Equal_VaR_equity_results_dic = {\n",
    "    \"VaR nonparametric\": VaR_nonparametric,\n",
    "    \"VaR parametric\": VaR_parametric,\n",
    "    \"ES\": ES,\n",
    "    \"Spectral Risk Measure\": SRM,\n",
    "    \"Age Weighted\" : BRW,\n",
    "    \"Modified VaR\": MVaR,\n",
    "    \"VaR Logistic distribution\": VaR_logistic,\n",
    "    \"VaR T-distribution\": VAR_T_dist\n",
    "}\n",
    "\n",
    "# Convert the dictionary into a DataFrame\n",
    "Equal_VaR_equity_results = pd.DataFrame.from_dict(Equal_VaR_equity_results_dic, orient='index', columns=['Equal'])\n",
    "#Equal_VaR_equity_results.to_excel(os.path.join(\"Tables\", 'Equal_weights_VaR_equity_results.xlsx'), index=True)\n",
    "print(Equal_VaR_equity_results)"
   ]
  },
  {
   "cell_type": "code",
   "execution_count": 21,
   "metadata": {},
   "outputs": [
    {
     "name": "stdout",
     "output_type": "stream",
     "text": [
      "                                    MVP       Optimal         Equal\n",
      "VaR nonparametric         -24276.171714 -33798.829484 -26266.302218\n",
      "VaR parametric            -20288.209384 -29911.927894 -22793.236401\n",
      "ES                        -34135.123604 -44604.926662 -40904.160461\n",
      "Spectral Risk Measure     -13835.779916 -16889.688495 -16068.644241\n",
      "Age Weighted               -1617.798225 -20534.424248  -6010.790455\n",
      "Modified VaR              -55377.215172 -52083.294489 -64425.477381\n",
      "VaR Logistic distribution -22144.340502 -32683.895116 -24885.907705\n",
      "VaR T-distribution        -23189.644115 -34244.268477 -26064.047033\n"
     ]
    }
   ],
   "source": [
    "# Merge results\n",
    "\n",
    "VaRs_for_different_Portfolios = pd.merge(MVP_VaR_equity_results, Optimal_VaR_equity_results, left_index=True, right_index=True)\n",
    "VaRs_for_different_Portfolios = pd.merge(VaRs_for_different_Portfolios, Equal_VaR_equity_results, left_index=True, right_index=True)\n",
    "print(VaRs_for_different_Portfolios)\n",
    "\n"
   ]
  },
  {
   "cell_type": "markdown",
   "metadata": {},
   "source": [
    "#### Bond Results "
   ]
  },
  {
   "cell_type": "code",
   "execution_count": 22,
   "metadata": {},
   "outputs": [
    {
     "name": "stdout",
     "output_type": "stream",
     "text": [
      "Bond Portfolios Weights:\n"
     ]
    },
    {
     "name": "stdout",
     "output_type": "stream",
     "text": [
      "                    MVP   Optimal  Equally Weighted\n",
      "AGG Returns   0.428715 -2.966550               0.2\n",
      "BND Returns   0.564951  4.566387               0.2\n",
      "GOVT Returns  0.340834  6.371598               0.2\n",
      "LQD Returns  -0.435629 -5.439788               0.2\n",
      "SCHP Returns  0.101129 -1.531647               0.2\n",
      "                 MVP   Optimal  Equally Weighted\n",
      "Date                                            \n",
      "2012-05-21  0.003776  0.002743          0.002293\n",
      "2012-05-22  0.002251 -0.002150         -0.007160\n",
      "2012-05-23  0.001256 -0.004392          0.001003\n",
      "2012-05-24  0.007110  0.007014          0.006265\n",
      "2012-05-25 -0.002334 -0.002638         -0.005780\n",
      "...              ...       ...               ...\n",
      "2024-03-21 -0.001423 -0.005481          0.002538\n",
      "2024-03-22 -0.000041 -0.001227         -0.001318\n",
      "2024-03-25 -0.000522 -0.000608         -0.003533\n",
      "2024-03-26 -0.000695 -0.003676         -0.004460\n",
      "2024-03-27  0.009871  0.003178          0.012861\n",
      "\n",
      "[2982 rows x 3 columns]\n",
      "\n",
      "MVP_weights [ 0.42871518  0.56495105  0.34083363 -0.43562855  0.1011287 ]\n",
      "\n",
      "Tan_weight [ 1.83038805 -1.08696834 -2.1488569   1.63024703  0.77519016]\n",
      "\n",
      "Equal_weights [0.2 0.2 0.2 0.2 0.2]\n"
     ]
    },
    {
     "data": {
      "image/png": "[encoded data removed]",
      "text/plain": [
       "<Figure size 640x480 with 1 Axes>"
      ]
     },
     "metadata": {},
     "output_type": "display_data"
    }
   ],
   "source": [
    "\n",
    "\n",
    "results_bonds = PORTFOLIOS(df_bonds, Rf=mean_risk_free)\n",
    "bonds_portfolios_weights = pd.DataFrame.from_dict(results_bonds['weights_by_ticker'], orient='index')\n",
    "print(\"Bond Portfolios Weights:\\n\", bonds_portfolios_weights)\n",
    "df_excess_bonds_daily_returns = results_equity['daily_returns']\n",
    "cov_matrix = daily_returns_bonds.cov()\n",
    "mean_returns = daily_returns_bonds.mean()\n",
    "print(df_excess_equity_daily_returns)\n",
    "Portfolios_1(mean_returns, cov_matrix, daily_returns=daily_returns_bonds)\n",
    "df_excess_daily_daily_returns = results_bonds['daily_returns']\n"
   ]
  },
  {
   "cell_type": "code",
   "execution_count": 23,
   "metadata": {},
   "outputs": [
    {
     "data": {
      "text/html": [
       "<div>\n",
       "<style scoped>\n",
       "    .dataframe tbody tr th:only-of-type {\n",
       "        vertical-align: middle;\n",
       "    }\n",
       "\n",
       "    .dataframe tbody tr th {\n",
       "        vertical-align: top;\n",
       "    }\n",
       "\n",
       "    .dataframe thead th {\n",
       "        text-align: right;\n",
       "    }\n",
       "</style>\n",
       "<table border=\"1\" class=\"dataframe\">\n",
       "  <thead>\n",
       "    <tr style=\"text-align: right;\">\n",
       "      <th></th>\n",
       "      <th>AGG Returns</th>\n",
       "      <th>BND Returns</th>\n",
       "      <th>GOVT Returns</th>\n",
       "      <th>LQD Returns</th>\n",
       "      <th>SCHP Returns</th>\n",
       "    </tr>\n",
       "    <tr>\n",
       "      <th>Date</th>\n",
       "      <th></th>\n",
       "      <th></th>\n",
       "      <th></th>\n",
       "      <th></th>\n",
       "      <th></th>\n",
       "    </tr>\n",
       "  </thead>\n",
       "  <tbody>\n",
       "    <tr>\n",
       "      <th>2012-05-21</th>\n",
       "      <td>-0.000180</td>\n",
       "      <td>0.000119</td>\n",
       "      <td>-0.001982</td>\n",
       "      <td>0.001125</td>\n",
       "      <td>0.001911</td>\n",
       "    </tr>\n",
       "    <tr>\n",
       "      <th>2012-05-22</th>\n",
       "      <td>-0.002434</td>\n",
       "      <td>-0.001664</td>\n",
       "      <td>-0.002382</td>\n",
       "      <td>-0.002681</td>\n",
       "      <td>-0.001908</td>\n",
       "    </tr>\n",
       "    <tr>\n",
       "      <th>2012-05-23</th>\n",
       "      <td>0.001175</td>\n",
       "      <td>0.000714</td>\n",
       "      <td>0.001592</td>\n",
       "      <td>0.002429</td>\n",
       "      <td>-0.000348</td>\n",
       "    </tr>\n",
       "    <tr>\n",
       "      <th>2012-05-24</th>\n",
       "      <td>-0.000812</td>\n",
       "      <td>-0.001071</td>\n",
       "      <td>0.000397</td>\n",
       "      <td>0.000172</td>\n",
       "      <td>-0.001217</td>\n",
       "    </tr>\n",
       "    <tr>\n",
       "      <th>2012-05-25</th>\n",
       "      <td>0.001535</td>\n",
       "      <td>0.001191</td>\n",
       "      <td>0.000397</td>\n",
       "      <td>0.002509</td>\n",
       "      <td>0.000174</td>\n",
       "    </tr>\n",
       "    <tr>\n",
       "      <th>...</th>\n",
       "      <td>...</td>\n",
       "      <td>...</td>\n",
       "      <td>...</td>\n",
       "      <td>...</td>\n",
       "      <td>...</td>\n",
       "    </tr>\n",
       "    <tr>\n",
       "      <th>2024-03-21</th>\n",
       "      <td>0.000718</td>\n",
       "      <td>0.000830</td>\n",
       "      <td>0.000000</td>\n",
       "      <td>0.001480</td>\n",
       "      <td>0.001736</td>\n",
       "    </tr>\n",
       "    <tr>\n",
       "      <th>2024-03-22</th>\n",
       "      <td>0.003179</td>\n",
       "      <td>0.003319</td>\n",
       "      <td>0.003981</td>\n",
       "      <td>0.003416</td>\n",
       "      <td>0.003851</td>\n",
       "    </tr>\n",
       "    <tr>\n",
       "      <th>2024-03-25</th>\n",
       "      <td>-0.001840</td>\n",
       "      <td>-0.001930</td>\n",
       "      <td>-0.002203</td>\n",
       "      <td>-0.003405</td>\n",
       "      <td>-0.003453</td>\n",
       "    </tr>\n",
       "    <tr>\n",
       "      <th>2024-03-26</th>\n",
       "      <td>0.001024</td>\n",
       "      <td>0.000829</td>\n",
       "      <td>0.001325</td>\n",
       "      <td>-0.000277</td>\n",
       "      <td>0.000770</td>\n",
       "    </tr>\n",
       "    <tr>\n",
       "      <th>2024-03-27</th>\n",
       "      <td>0.003274</td>\n",
       "      <td>0.003450</td>\n",
       "      <td>0.002645</td>\n",
       "      <td>0.006927</td>\n",
       "      <td>0.003270</td>\n",
       "    </tr>\n",
       "  </tbody>\n",
       "</table>\n",
       "<p>2982 rows × 5 columns</p>\n",
       "</div>"
      ],
      "text/plain": [
       "            AGG Returns  BND Returns  GOVT Returns  LQD Returns  SCHP Returns\n",
       "Date                                                                         \n",
       "2012-05-21    -0.000180     0.000119     -0.001982     0.001125      0.001911\n",
       "2012-05-22    -0.002434    -0.001664     -0.002382    -0.002681     -0.001908\n",
       "2012-05-23     0.001175     0.000714      0.001592     0.002429     -0.000348\n",
       "2012-05-24    -0.000812    -0.001071      0.000397     0.000172     -0.001217\n",
       "2012-05-25     0.001535     0.001191      0.000397     0.002509      0.000174\n",
       "...                 ...          ...           ...          ...           ...\n",
       "2024-03-21     0.000718     0.000830      0.000000     0.001480      0.001736\n",
       "2024-03-22     0.003179     0.003319      0.003981     0.003416      0.003851\n",
       "2024-03-25    -0.001840    -0.001930     -0.002203    -0.003405     -0.003453\n",
       "2024-03-26     0.001024     0.000829      0.001325    -0.000277      0.000770\n",
       "2024-03-27     0.003274     0.003450      0.002645     0.006927      0.003270\n",
       "\n",
       "[2982 rows x 5 columns]"
      ]
     },
     "execution_count": 23,
     "metadata": {},
     "output_type": "execute_result"
    }
   ],
   "source": [
    "df_bonds"
   ]
  },
  {
   "cell_type": "code",
   "execution_count": 24,
   "metadata": {},
   "outputs": [
    {
     "name": "stdout",
     "output_type": "stream",
     "text": [
      "                                    MVP\n",
      "VaR nonparametric         -24276.171714\n",
      "VaR parametric            -20288.209384\n",
      "ES                        -34135.123604\n",
      "Spectral Risk Measure     -13835.779916\n",
      "Age Weighted               -1617.798225\n",
      "Modified VaR              -55377.215172\n",
      "VaR Logistic distribution -22144.340502\n",
      "VaR T-distribution        -23189.644115\n"
     ]
    }
   ],
   "source": [
    "MVP = df_excess_bonds_daily_returns['MVP'] \n",
    "\n",
    "\n",
    "###\n",
    "VaR_nonparametric = portfolio_VaR_nonparametric(MVP)\n",
    "VaR_parametric = portfolio_VaR_parametric(MVP)\n",
    "ES = portfolio_ES(MVP)\n",
    "SRM = spectral_risk_measure(MVP)\n",
    "BRW = BRW_VaR(MVP)\n",
    "MVaR = Modified_VaR(MVP)\n",
    "VaR_logistic = parametric_var_logistic(MVP)\n",
    "VAR_T_dist = parametric_var_T_dist(MVP)\n",
    "\n",
    "# Create a dictionary with the results\n",
    "MVP_VaR_debt_results_dic = {\n",
    "    \"VaR nonparametric\": VaR_nonparametric,\n",
    "    \"VaR parametric\": VaR_parametric,\n",
    "    \"ES\": ES,\n",
    "    \"Spectral Risk Measure\": SRM,\n",
    "    \"Age Weighted\" : BRW,\n",
    "    \"Modified VaR\": MVaR,\n",
    "    \"VaR Logistic distribution\": VaR_logistic,\n",
    "    \"VaR T-distribution\": VAR_T_dist\n",
    "}\n",
    "\n",
    "# Convert the dictionary into a DataFrame\n",
    "MVP_VaR_debt_results = pd.DataFrame.from_dict(MVP_VaR_debt_results_dic, orient='index', columns=['MVP'])\n",
    "#MVP_VaR_debt_results.to_excel(os.path.join(\"Tables\", 'MVP_VaR_debt_results.xlsx'), index=True)\n",
    "print(MVP_VaR_debt_results)"
   ]
  },
  {
   "cell_type": "code",
   "execution_count": 25,
   "metadata": {},
   "outputs": [
    {
     "data": {
      "text/plain": [
       "-23189.644114508585"
      ]
     },
     "execution_count": 25,
     "metadata": {},
     "output_type": "execute_result"
    }
   ],
   "source": [
    "parametric_var_T_dist(MVP)"
   ]
  },
  {
   "cell_type": "code",
   "execution_count": 26,
   "metadata": {},
   "outputs": [
    {
     "name": "stdout",
     "output_type": "stream",
     "text": [
      "                                Optimal\n",
      "VaR nonparametric         -33798.829484\n",
      "VaR parametric            -29911.927894\n",
      "ES                        -44604.926662\n",
      "Spectral Risk Measure     -16889.688495\n",
      "Age Weighted              -20534.424248\n",
      "Modified VaR              -52083.294489\n",
      "VaR Logistic distribution -32683.895116\n",
      "VaR T-distribution        -34244.268477\n"
     ]
    }
   ],
   "source": [
    "\n",
    "Optimal = df_excess_bonds_daily_returns['Optimal'] \n",
    "###\n",
    "VaR_nonparametric = portfolio_VaR_nonparametric(Optimal)\n",
    "VaR_parametric = portfolio_VaR_parametric(Optimal)\n",
    "ES = portfolio_ES(Optimal)\n",
    "SRM = spectral_risk_measure(Optimal)\n",
    "BRW = BRW_VaR(Optimal)\n",
    "MVaR = Modified_VaR(Optimal)\n",
    "VaR_logistic = parametric_var_logistic(Optimal)\n",
    "VAR_T_dist = parametric_var_T_dist(Optimal)\n",
    "\n",
    "# Create a dictionary with the results\n",
    "Optimal_VaR_debt_results_dic = {\n",
    "    \"VaR nonparametric\": VaR_nonparametric,\n",
    "    \"VaR parametric\": VaR_parametric,\n",
    "    \"ES\": ES,\n",
    "    \"Spectral Risk Measure\": SRM,\n",
    "    \"Age Weighted\" : BRW,\n",
    "    \"Modified VaR\": MVaR,\n",
    "    \"VaR Logistic distribution\": VaR_logistic,\n",
    "    \"VaR T-distribution\": VAR_T_dist\n",
    "}\n",
    "\n",
    "# Convert the dictionary into a DataFrame\n",
    "Optimal_VaR_debt_results = pd.DataFrame.from_dict(Optimal_VaR_debt_results_dic, orient='index',columns=['Optimal'])\n",
    "\n",
    "print(Optimal_VaR_debt_results)"
   ]
  },
  {
   "cell_type": "code",
   "execution_count": 27,
   "metadata": {},
   "outputs": [
    {
     "name": "stdout",
     "output_type": "stream",
     "text": [
      "                                  Equal\n",
      "VaR nonparametric         -26266.302218\n",
      "VaR parametric            -22793.236401\n",
      "ES                        -40904.160461\n",
      "Spectral Risk Measure     -16068.644241\n",
      "Age Weighted               -6010.790455\n",
      "Modified VaR              -64425.477381\n",
      "VaR Logistic distribution -24885.907705\n",
      "VaR T-distribution        -26064.047033\n"
     ]
    }
   ],
   "source": [
    "Equal = df_excess_bonds_daily_returns['Equally Weighted'] \n",
    "\n",
    "VaR_nonparametric = portfolio_VaR_nonparametric(Equal)\n",
    "VaR_parametric = portfolio_VaR_parametric(Equal)\n",
    "ES = portfolio_ES(Equal)\n",
    "SRM = spectral_risk_measure(Equal)\n",
    "BRW = BRW_VaR(Equal)\n",
    "MVaR = Modified_VaR(Equal)\n",
    "VaR_logistic = parametric_var_logistic(Equal)\n",
    "VAR_T_dist = parametric_var_T_dist(Equal)\n",
    "\n",
    "# Create a dictionary with the results\n",
    "Equal_VaR_debt_results_dic = {\n",
    "    \"VaR nonparametric\": VaR_nonparametric,\n",
    "    \"VaR parametric\": VaR_parametric,\n",
    "    \"ES\": ES,\n",
    "    \"Spectral Risk Measure\": SRM,\n",
    "    \"Age Weighted\" : BRW,\n",
    "    \"Modified VaR\": MVaR,\n",
    "    \"VaR Logistic distribution\": VaR_logistic,\n",
    "    \"VaR T-distribution\": VAR_T_dist\n",
    "}\n",
    "\n",
    "# Convert the dictionary into a DataFrame\n",
    "Equal_VaR_debt_results = pd.DataFrame.from_dict(Equal_VaR_debt_results_dic, orient='index',columns=['Equal'])\n",
    "#Equal_VaR_debt_results.to_excel(os.path.join(\"Tables\", 'Equal_weights_VaR_debt_results.xlsx'), index=True)\n",
    "print(Equal_VaR_debt_results)"
   ]
  },
  {
   "cell_type": "code",
   "execution_count": 28,
   "metadata": {},
   "outputs": [
    {
     "name": "stdout",
     "output_type": "stream",
     "text": [
      "                                    MVP       Optimal         Equal\n",
      "VaR nonparametric         -24276.171714 -33798.829484 -26266.302218\n",
      "VaR parametric            -20288.209384 -29911.927894 -22793.236401\n",
      "ES                        -34135.123604 -44604.926662 -40904.160461\n",
      "Spectral Risk Measure     -13835.779916 -16889.688495 -16068.644241\n",
      "Age Weighted               -1617.798225 -20534.424248  -6010.790455\n",
      "Modified VaR              -55377.215172 -52083.294489 -64425.477381\n",
      "VaR Logistic distribution -22144.340502 -32683.895116 -24885.907705\n",
      "VaR T-distribution        -23189.644115 -34244.268477 -26064.047033\n"
     ]
    }
   ],
   "source": [
    "# Merge results\n",
    "\n",
    "VaRs_for_different_Bond_Portfolios = pd.merge(MVP_VaR_debt_results, Optimal_VaR_debt_results, left_index=True, right_index=True)\n",
    "VaRs_for_different_Bond_Portfolios = pd.merge(VaRs_for_different_Bond_Portfolios, Equal_VaR_debt_results, left_index=True, right_index=True)\n",
    "print(VaRs_for_different_Bond_Portfolios)\n",
    "\n"
   ]
  },
  {
   "cell_type": "code",
   "execution_count": 29,
   "metadata": {},
   "outputs": [
    {
     "name": "stdout",
     "output_type": "stream",
     "text": [
      "Combined_Portfolios Weights:\n",
      "                     MVP   Optimal  Equally Weighted\n",
      "AGG Returns    0.182682  0.130230            0.0625\n",
      "BND Returns    0.404102 -1.432321            0.0625\n",
      "GOVT Returns   0.672767  1.123973            0.0625\n",
      "LQD Returns   -0.421410  0.077359            0.0625\n",
      "SCHP Returns   0.036581  0.285474            0.0625\n",
      "XOM Returns    0.023042 -0.066817            0.0625\n",
      "LIN Returns    0.023260  0.081720            0.0625\n",
      "META Returns   0.003578  0.061345            0.0625\n",
      "WMT Returns    0.015041  0.102467            0.0625\n",
      "BRK-B Returns  0.055538  0.197971            0.0625\n",
      "LLY Returns    0.005835  0.379012            0.0625\n",
      "MSFT Returns   0.006672  0.215004            0.0625\n",
      "PLD Returns   -0.006506 -0.003417            0.0625\n",
      "NEE Returns   -0.025665  0.133198            0.0625\n",
      "CL Returns     0.013692 -0.218788            0.0625\n",
      "GE Returns     0.010792 -0.066411            0.0625\n",
      "                 MVP   Optimal  Equally Weighted\n",
      "Date                                            \n",
      "2012-05-21  0.003776  0.002743          0.002293\n",
      "2012-05-22  0.002251 -0.002150         -0.007160\n",
      "2012-05-23  0.001256 -0.004392          0.001003\n",
      "2012-05-24  0.007110  0.007014          0.006265\n",
      "2012-05-25 -0.002334 -0.002638         -0.005780\n",
      "...              ...       ...               ...\n",
      "2024-03-21 -0.001423 -0.005481          0.002538\n",
      "2024-03-22 -0.000041 -0.001227         -0.001318\n",
      "2024-03-25 -0.000522 -0.000608         -0.003533\n",
      "2024-03-26 -0.000695 -0.003676         -0.004460\n",
      "2024-03-27  0.009871  0.003178          0.012861\n",
      "\n",
      "[2982 rows x 3 columns]\n",
      "\n",
      "MVP_weights [ 1.00000000e+00 -2.06802240e-16 -7.52008144e-17]\n",
      "\n",
      "Tan_weight [ 4.04509418e-01  5.95490582e-01 -4.52681283e-16]\n",
      "\n",
      "Equal_weights [0.33333333 0.33333333 0.33333333]\n"
     ]
    },
    {
     "data": {
      "image/png": "[encoded data removed]",
      "text/plain": [
       "<Figure size 640x480 with 1 Axes>"
      ]
     },
     "metadata": {},
     "output_type": "display_data"
    }
   ],
   "source": [
    "\n",
    "results_combined= PORTFOLIOS(df_all, Rf=mean_risk_free)\n",
    "combined_portfolios_weights = pd.DataFrame.from_dict(results_combined['weights_by_ticker'], orient='index')\n",
    "print(\"Combined_Portfolios Weights:\\n\", combined_portfolios_weights)\n",
    "df_combined_returns= results_combined['daily_returns']\n",
    "cov_matrix = df_combined_returns.cov()\n",
    "mean_returns = df_combined_returns.mean()\n",
    "print(df_excess_equity_daily_returns)\n",
    "Portfolios_1(mean_returns, cov_matrix, daily_returns=daily_returns_bonds)\n",
    "df_excess_daily_returns = results_combined['daily_returns']\n"
   ]
  },
  {
   "cell_type": "code",
   "execution_count": 30,
   "metadata": {},
   "outputs": [
    {
     "name": "stdout",
     "output_type": "stream",
     "text": [
      "                                    MVP\n",
      "VaR nonparametric          -6103.256623\n",
      "VaR parametric             -5207.026193\n",
      "ES                         -8664.646047\n",
      "Spectral Risk Measure      -4024.237448\n",
      "Age Weighted               -2669.349411\n",
      "Modified VaR              -12179.146827\n",
      "VaR Logistic distribution  -5678.040534\n",
      "VaR T-distribution         -5942.621213\n"
     ]
    }
   ],
   "source": [
    "\n",
    "MVP = df_combined_returns['MVP']\n",
    "\n",
    "###\n",
    "VaR_nonparametric = portfolio_VaR_nonparametric(MVP)\n",
    "VaR_parametric = portfolio_VaR_parametric(MVP)\n",
    "ES = portfolio_ES(MVP)\n",
    "SRM = spectral_risk_measure(MVP)\n",
    "BRW = BRW_VaR(MVP)\n",
    "MVaR = Modified_VaR(MVP)\n",
    "VaR_logistic = parametric_var_logistic(MVP)\n",
    "VAR_T_dist = parametric_var_T_dist(MVP)\n",
    "\n",
    "# Create a dictionary with the results\n",
    "MVP_VaR_combined_results_dic = {\n",
    "    \"VaR nonparametric\": VaR_nonparametric,\n",
    "    \"VaR parametric\": VaR_parametric,\n",
    "    \"ES\": ES,\n",
    "    \"Spectral Risk Measure\": SRM,\n",
    "    \"Age Weighted\" : BRW,\n",
    "    \"Modified VaR\": MVaR,\n",
    "    \"VaR Logistic distribution\": VaR_logistic,\n",
    "    \"VaR T-distribution\": VAR_T_dist\n",
    "}\n",
    "\n",
    "# Convert the dictionary into a DataFrame\n",
    "MVP_VaR_combined_results = pd.DataFrame.from_dict(MVP_VaR_combined_results_dic, orient='index', columns=['MVP'])\n",
    "print(MVP_VaR_combined_results)\n"
   ]
  },
  {
   "cell_type": "code",
   "execution_count": 31,
   "metadata": {},
   "outputs": [
    {
     "name": "stdout",
     "output_type": "stream",
     "text": [
      "                                Optimal\n",
      "VaR nonparametric         -25152.086736\n",
      "VaR parametric            -21948.094739\n",
      "ES                        -31543.924267\n",
      "Spectral Risk Measure     -12743.064514\n",
      "Age Weighted              -14235.098505\n",
      "Modified VaR              -30728.145382\n",
      "VaR Logistic distribution -23985.036734\n",
      "VaR T-distribution        -24708.018935\n"
     ]
    }
   ],
   "source": [
    "\n",
    "\n",
    "Optimal = df_combined_returns['Optimal'] \n",
    "###\n",
    "VaR_nonparametric = portfolio_VaR_nonparametric(Optimal)\n",
    "VaR_parametric = portfolio_VaR_parametric(Optimal)\n",
    "ES = portfolio_ES(Optimal)\n",
    "SRM = spectral_risk_measure(Optimal)\n",
    "BRW = BRW_VaR(Optimal)\n",
    "MVaR = Modified_VaR(Optimal)\n",
    "VaR_logistic = parametric_var_logistic(Optimal)\n",
    "VAR_T_dist = parametric_var_T_dist(Optimal)\n",
    "\n",
    "# Create a dictionary with the results\n",
    "Optimal_VaR_combined_results_dic = {\n",
    "    \"VaR nonparametric\": VaR_nonparametric,\n",
    "    \"VaR parametric\": VaR_parametric,\n",
    "    \"ES\": ES,\n",
    "    \"Spectral Risk Measure\": SRM,\n",
    "    \"Age Weighted\" : BRW,\n",
    "    \"Modified VaR\": MVaR,\n",
    "    \"VaR Logistic distribution\": VaR_logistic,\n",
    "    \"VaR T-distribution\": VAR_T_dist\n",
    "}\n",
    "\n",
    "# Convert the dictionary into a DataFrame\n",
    "Optimal_VaR_combined_results = pd.DataFrame.from_dict(Optimal_VaR_combined_results_dic, orient='index',columns=['Optimal'])\n",
    "print(Optimal_VaR_combined_results)"
   ]
  },
  {
   "cell_type": "code",
   "execution_count": 32,
   "metadata": {},
   "outputs": [
    {
     "name": "stdout",
     "output_type": "stream",
     "text": [
      "                                  Equal\n",
      "VaR nonparametric         -18181.578037\n",
      "VaR parametric            -16014.474505\n",
      "ES                        -29216.460754\n",
      "Spectral Risk Measure     -12172.449904\n",
      "Age Weighted              -10942.316375\n",
      "Modified VaR              -47732.680999\n",
      "VaR Logistic distribution -17485.705000\n",
      "VaR T-distribution        -18313.988611\n"
     ]
    }
   ],
   "source": [
    "Equal = df_combined_returns['Equally Weighted'] \n",
    "\n",
    "VaR_nonparametric = portfolio_VaR_nonparametric(Equal)\n",
    "VaR_parametric = portfolio_VaR_parametric(Equal)\n",
    "ES = portfolio_ES(Equal)\n",
    "SRM = spectral_risk_measure(Equal)\n",
    "BRW = BRW_VaR(Equal)\n",
    "MVaR = Modified_VaR(Equal)\n",
    "VaR_logistic = parametric_var_logistic(Equal)\n",
    "VAR_T_dist = parametric_var_T_dist(Equal)\n",
    "\n",
    "# Create a dictionary with the results\n",
    "Equal_VaR_combined_results_dic = {\n",
    "    \"VaR nonparametric\": VaR_nonparametric,\n",
    "    \"VaR parametric\": VaR_parametric,\n",
    "    \"ES\": ES,\n",
    "    \"Spectral Risk Measure\": SRM,\n",
    "    \"Age Weighted\" : BRW,\n",
    "    \"Modified VaR\": MVaR,\n",
    "    \"VaR Logistic distribution\": VaR_logistic,\n",
    "    \"VaR T-distribution\": VAR_T_dist\n",
    "}\n",
    "\n",
    "# Convert the dictionary into a DataFrame\n",
    "Equal_VaR_combined_results = pd.DataFrame.from_dict(Equal_VaR_combined_results_dic, orient='index',columns=['Equal'])\n",
    "print(Equal_VaR_combined_results)"
   ]
  },
  {
   "cell_type": "code",
   "execution_count": 33,
   "metadata": {},
   "outputs": [
    {
     "name": "stdout",
     "output_type": "stream",
     "text": [
      "                                    MVP       Optimal         Equal\n",
      "VaR nonparametric          -6103.256623 -25152.086736 -18181.578037\n",
      "VaR parametric             -5207.026193 -21948.094739 -16014.474505\n",
      "ES                         -8664.646047 -31543.924267 -29216.460754\n",
      "Spectral Risk Measure      -4024.237448 -12743.064514 -12172.449904\n",
      "Age Weighted               -2669.349411 -14235.098505 -10942.316375\n",
      "Modified VaR              -12179.146827 -30728.145382 -47732.680999\n",
      "VaR Logistic distribution  -5678.040534 -23985.036734 -17485.705000\n",
      "VaR T-distribution         -5942.621213 -24708.018935 -18313.988611\n"
     ]
    }
   ],
   "source": [
    "# Merge results\n",
    "\n",
    "VaRs_for_different_combined_Portfolios = pd.merge(MVP_VaR_combined_results, Optimal_VaR_combined_results, left_index=True, right_index=True)\n",
    "VaRs_for_different_combined_Portfolios = pd.merge(VaRs_for_different_combined_Portfolios, Equal_VaR_combined_results, left_index=True, right_index=True)\n",
    "print(VaRs_for_different_combined_Portfolios)\n",
    "\n"
   ]
  },
  {
   "cell_type": "markdown",
   "metadata": {},
   "source": [
    "# Rolling Period"
   ]
  },
  {
   "cell_type": "code",
   "execution_count": 34,
   "metadata": {},
   "outputs": [],
   "source": [
    "\n",
    "window = window # Previously established as 700"
   ]
  },
  {
   "cell_type": "code",
   "execution_count": 35,
   "metadata": {},
   "outputs": [],
   "source": [
    "def calculate_rolled_results(df, end_date, window=window, confidence_interval=.99, portfolio_VaR_nonparametric=portfolio_VaR_nonparametric, portfolio_VaR_parametric=portfolio_VaR_parametric, portfolio_ES=portfolio_ES, spectral_risk_measure=spectral_risk_measure, BRW_VaR=BRW_VaR, Modified_VaR=Modified_VaR, portfolio_value=money_invested):\n",
    "    df['Date'] = pd.to_datetime(df.index, format='%d/%m/%Y')\n",
    "    df.set_index('Date', inplace=True)\n",
    "    def apply_rolling_window(series, window, func):\n",
    "        return series.rolling(window=window).apply(func)\n",
    "    end_date_str='27-03-2024'\n",
    "\n",
    "    # Convert the end_date string to datetime using the correct format\n",
    "    end_date = pd.to_datetime(end_date_str, format='%d-%m-%Y')\n",
    "    def generate_equity_results(df, window, confidence_interval, portfolio_VaR_nonparametric, portfolio_VaR_parametric, portfolio_ES, spectral_risk_measure, BRW_VaR, Modified_VaR):\n",
    "        var_portfolio_nonparametric_rolled_percentile = apply_rolling_window(df, window, lambda x: portfolio_VaR_nonparametric(x, confidence_interval))\n",
    "        var_portfolio_nonparametric_rolled = var_portfolio_nonparametric_rolled_percentile * portfolio_value\n",
    "        var_portfolio_parametric_rolled_percentile = apply_rolling_window(df, window, lambda x: portfolio_VaR_parametric(x, confidence_interval))\n",
    "        var_portfolio_parametric_rolled = var_portfolio_parametric_rolled_percentile * portfolio_value\n",
    "        var_portfolio_ES_rolled_percentile = apply_rolling_window(df, window, lambda x: portfolio_ES(x, confidence_interval))\n",
    "        var_portfolio_ES_rolled = var_portfolio_ES_rolled_percentile * portfolio_value\n",
    "        \n",
    "\n",
    "        results_dic = {\n",
    "            \"VaR nonparametric rolled\": var_portfolio_nonparametric_rolled.iloc[-1:],\n",
    "            \"VaR parametric rolled\": var_portfolio_parametric_rolled.iloc[-1:],\n",
    "            \"ES rolled\": var_portfolio_ES_rolled.iloc[-1:],\n",
    "             \n",
    "        }\n",
    "\n",
    "        return pd.DataFrame.from_dict(results_dic, orient='index')\n",
    "\n",
    "    equity_results = {}\n",
    "\n",
    "    # Slice the dataframe up to the specified end date\n",
    "    df_sliced = df.loc[:end_date]\n",
    "\n",
    "    for column in df_sliced.columns:\n",
    "        equity_results[column] = generate_equity_results(df_sliced[column], window, confidence_interval, portfolio_VaR_nonparametric, portfolio_VaR_parametric, portfolio_ES, spectral_risk_measure, BRW_VaR, Modified_VaR)\n",
    "        equity_results[column].rename(columns={equity_results[column].columns[0]: column}, inplace=True)\n",
    "\n",
    "    merged_results = pd.concat(equity_results.values(), axis=1)\n",
    "\n",
    "    # Calculate start date from end date and window size\n",
    "    start_index = df_sliced.index[-window]\n",
    "    start_date = start_index.strftime('%d-%m-%Y')\n",
    "\n",
    "    # Modify the DataFrame title to include the start and end dates, and confidence interval\n",
    "    title = f\"{start_date} to {end_date} Rolled Results at {confidence_interval} Confidence Interval\"\n",
    "    \n",
    "    merged_results.columns = pd.MultiIndex.from_product([[title], merged_results.columns])\n",
    "\n",
    "    return merged_results"
   ]
  },
  {
   "cell_type": "markdown",
   "metadata": {},
   "source": [
    "## Equity results for rolling period"
   ]
  },
  {
   "cell_type": "code",
   "execution_count": 36,
   "metadata": {},
   "outputs": [
    {
     "name": "stdout",
     "output_type": "stream",
     "text": [
      "                         16-06-2021 to 2024-03-27 00:00:00 Rolled Results at 0.99 Confidence Interval  \\\n",
      "                                                                                                  MVP   \n",
      "ES rolled                                                     -26349.318887                             \n",
      "VaR nonparametric rolled                                      -22785.832417                             \n",
      "VaR parametric rolled                                         -19083.619219                             \n",
      "\n",
      "                                                         \n",
      "                               Optimal Equally Weighted  \n",
      "ES rolled                -38807.314622    -34670.701569  \n",
      "VaR nonparametric rolled -33844.574944    -28572.592630  \n",
      "VaR parametric rolled    -32810.771861    -22729.976218  \n"
     ]
    }
   ],
   "source": [
    "equity_results = calculate_rolled_results(df_excess_equity_daily_returns, end_date='27-03-2024', window=window, confidence_interval=.99)\n",
    "print(equity_results)\n",
    "\n"
   ]
  },
  {
   "cell_type": "markdown",
   "metadata": {},
   "source": [
    "## Debt for rolling period"
   ]
  },
  {
   "cell_type": "code",
   "execution_count": 37,
   "metadata": {},
   "outputs": [
    {
     "name": "stdout",
     "output_type": "stream",
     "text": [
      "                         16-06-2021 to 2024-03-27 00:00:00 Rolled Results at 0.99 Confidence Interval  \\\n",
      "                                                                                                  MVP   \n",
      "ES rolled                                                     -26349.318887                             \n",
      "VaR nonparametric rolled                                      -22785.832417                             \n",
      "VaR parametric rolled                                         -19083.619219                             \n",
      "\n",
      "                                                         \n",
      "                               Optimal Equally Weighted  \n",
      "ES rolled                -38807.314622    -34670.701569  \n",
      "VaR nonparametric rolled -33844.574944    -28572.592630  \n",
      "VaR parametric rolled    -32810.771861    -22729.976218  \n"
     ]
    }
   ],
   "source": [
    "debt_results = calculate_rolled_results(df_excess_bonds_daily_returns, end_date='27-03-2024', window=window, confidence_interval=.99)\n",
    "print(debt_results)\n"
   ]
  },
  {
   "cell_type": "markdown",
   "metadata": {},
   "source": [
    "## Combined for rolling period"
   ]
  },
  {
   "cell_type": "code",
   "execution_count": 38,
   "metadata": {},
   "outputs": [
    {
     "ename": "KeyboardInterrupt",
     "evalue": "",
     "output_type": "error",
     "traceback": [
      "\u001b[1;31m---------------------------------------------------------------------------\u001b[0m",
      "\u001b[1;31mKeyboardInterrupt\u001b[0m                         Traceback (most recent call last)",
      "Cell \u001b[1;32mIn[38], line 1\u001b[0m\n\u001b[1;32m----> 1\u001b[0m combined_results \u001b[38;5;241m=\u001b[39m \u001b[43mcalculate_rolled_results\u001b[49m\u001b[43m(\u001b[49m\u001b[43mdf_combined_returns\u001b[49m\u001b[43m,\u001b[49m\u001b[43m \u001b[49m\u001b[43mend_date\u001b[49m\u001b[38;5;241;43m=\u001b[39;49m\u001b[38;5;124;43m'\u001b[39;49m\u001b[38;5;124;43m27-03-2024\u001b[39;49m\u001b[38;5;124;43m'\u001b[39;49m\u001b[43m,\u001b[49m\u001b[43m \u001b[49m\u001b[43mwindow\u001b[49m\u001b[38;5;241;43m=\u001b[39;49m\u001b[43mwindow\u001b[49m\u001b[43m,\u001b[49m\u001b[43m \u001b[49m\u001b[43mconfidence_interval\u001b[49m\u001b[38;5;241;43m=\u001b[39;49m\u001b[38;5;241;43m.99\u001b[39;49m\u001b[43m)\u001b[49m\n\u001b[0;32m      2\u001b[0m \u001b[38;5;28mprint\u001b[39m(combined_results)\n",
      "Cell \u001b[1;32mIn[35], line 34\u001b[0m, in \u001b[0;36mcalculate_rolled_results\u001b[1;34m(df, end_date, window, confidence_interval, portfolio_VaR_nonparametric, portfolio_VaR_parametric, portfolio_ES, spectral_risk_measure, BRW_VaR, Modified_VaR, portfolio_value)\u001b[0m\n\u001b[0;32m     31\u001b[0m df_sliced \u001b[38;5;241m=\u001b[39m df\u001b[38;5;241m.\u001b[39mloc[:end_date]\n\u001b[0;32m     33\u001b[0m \u001b[38;5;28;01mfor\u001b[39;00m column \u001b[38;5;129;01min\u001b[39;00m df_sliced\u001b[38;5;241m.\u001b[39mcolumns:\n\u001b[1;32m---> 34\u001b[0m     equity_results[column] \u001b[38;5;241m=\u001b[39m \u001b[43mgenerate_equity_results\u001b[49m\u001b[43m(\u001b[49m\u001b[43mdf_sliced\u001b[49m\u001b[43m[\u001b[49m\u001b[43mcolumn\u001b[49m\u001b[43m]\u001b[49m\u001b[43m,\u001b[49m\u001b[43m \u001b[49m\u001b[43mwindow\u001b[49m\u001b[43m,\u001b[49m\u001b[43m \u001b[49m\u001b[43mconfidence_interval\u001b[49m\u001b[43m,\u001b[49m\u001b[43m \u001b[49m\u001b[43mportfolio_VaR_nonparametric\u001b[49m\u001b[43m,\u001b[49m\u001b[43m \u001b[49m\u001b[43mportfolio_VaR_parametric\u001b[49m\u001b[43m,\u001b[49m\u001b[43m \u001b[49m\u001b[43mportfolio_ES\u001b[49m\u001b[43m,\u001b[49m\u001b[43m \u001b[49m\u001b[43mspectral_risk_measure\u001b[49m\u001b[43m,\u001b[49m\u001b[43m \u001b[49m\u001b[43mBRW_VaR\u001b[49m\u001b[43m,\u001b[49m\u001b[43m \u001b[49m\u001b[43mModified_VaR\u001b[49m\u001b[43m)\u001b[49m\n\u001b[0;32m     35\u001b[0m     equity_results[column]\u001b[38;5;241m.\u001b[39mrename(columns\u001b[38;5;241m=\u001b[39m{equity_results[column]\u001b[38;5;241m.\u001b[39mcolumns[\u001b[38;5;241m0\u001b[39m]: column}, inplace\u001b[38;5;241m=\u001b[39m\u001b[38;5;28;01mTrue\u001b[39;00m)\n\u001b[0;32m     37\u001b[0m merged_results \u001b[38;5;241m=\u001b[39m pd\u001b[38;5;241m.\u001b[39mconcat(equity_results\u001b[38;5;241m.\u001b[39mvalues(), axis\u001b[38;5;241m=\u001b[39m\u001b[38;5;241m1\u001b[39m)\n",
      "Cell \u001b[1;32mIn[35], line 15\u001b[0m, in \u001b[0;36mcalculate_rolled_results.<locals>.generate_equity_results\u001b[1;34m(df, window, confidence_interval, portfolio_VaR_nonparametric, portfolio_VaR_parametric, portfolio_ES, spectral_risk_measure, BRW_VaR, Modified_VaR)\u001b[0m\n\u001b[0;32m     13\u001b[0m var_portfolio_parametric_rolled_percentile \u001b[38;5;241m=\u001b[39m apply_rolling_window(df, window, \u001b[38;5;28;01mlambda\u001b[39;00m x: portfolio_VaR_parametric(x, confidence_interval))\n\u001b[0;32m     14\u001b[0m var_portfolio_parametric_rolled \u001b[38;5;241m=\u001b[39m var_portfolio_parametric_rolled_percentile \u001b[38;5;241m*\u001b[39m portfolio_value\n\u001b[1;32m---> 15\u001b[0m var_portfolio_ES_rolled_percentile \u001b[38;5;241m=\u001b[39m \u001b[43mapply_rolling_window\u001b[49m\u001b[43m(\u001b[49m\u001b[43mdf\u001b[49m\u001b[43m,\u001b[49m\u001b[43m \u001b[49m\u001b[43mwindow\u001b[49m\u001b[43m,\u001b[49m\u001b[43m \u001b[49m\u001b[38;5;28;43;01mlambda\u001b[39;49;00m\u001b[43m \u001b[49m\u001b[43mx\u001b[49m\u001b[43m:\u001b[49m\u001b[43m \u001b[49m\u001b[43mportfolio_ES\u001b[49m\u001b[43m(\u001b[49m\u001b[43mx\u001b[49m\u001b[43m,\u001b[49m\u001b[43m \u001b[49m\u001b[43mconfidence_interval\u001b[49m\u001b[43m)\u001b[49m\u001b[43m)\u001b[49m\n\u001b[0;32m     16\u001b[0m var_portfolio_ES_rolled \u001b[38;5;241m=\u001b[39m var_portfolio_ES_rolled_percentile \u001b[38;5;241m*\u001b[39m portfolio_value\n\u001b[0;32m     19\u001b[0m results_dic \u001b[38;5;241m=\u001b[39m {\n\u001b[0;32m     20\u001b[0m     \u001b[38;5;124m\"\u001b[39m\u001b[38;5;124mVaR nonparametric rolled\u001b[39m\u001b[38;5;124m\"\u001b[39m: var_portfolio_nonparametric_rolled\u001b[38;5;241m.\u001b[39miloc[\u001b[38;5;241m-\u001b[39m\u001b[38;5;241m1\u001b[39m:],\n\u001b[0;32m     21\u001b[0m     \u001b[38;5;124m\"\u001b[39m\u001b[38;5;124mVaR parametric rolled\u001b[39m\u001b[38;5;124m\"\u001b[39m: var_portfolio_parametric_rolled\u001b[38;5;241m.\u001b[39miloc[\u001b[38;5;241m-\u001b[39m\u001b[38;5;241m1\u001b[39m:],\n\u001b[0;32m     22\u001b[0m     \u001b[38;5;124m\"\u001b[39m\u001b[38;5;124mES rolled\u001b[39m\u001b[38;5;124m\"\u001b[39m: var_portfolio_ES_rolled\u001b[38;5;241m.\u001b[39miloc[\u001b[38;5;241m-\u001b[39m\u001b[38;5;241m1\u001b[39m:],\n\u001b[0;32m     23\u001b[0m      \n\u001b[0;32m     24\u001b[0m }\n",
      "Cell \u001b[1;32mIn[35], line 5\u001b[0m, in \u001b[0;36mcalculate_rolled_results.<locals>.apply_rolling_window\u001b[1;34m(series, window, func)\u001b[0m\n\u001b[0;32m      4\u001b[0m \u001b[38;5;28;01mdef\u001b[39;00m \u001b[38;5;21mapply_rolling_window\u001b[39m(series, window, func):\n\u001b[1;32m----> 5\u001b[0m     \u001b[38;5;28;01mreturn\u001b[39;00m \u001b[43mseries\u001b[49m\u001b[38;5;241;43m.\u001b[39;49m\u001b[43mrolling\u001b[49m\u001b[43m(\u001b[49m\u001b[43mwindow\u001b[49m\u001b[38;5;241;43m=\u001b[39;49m\u001b[43mwindow\u001b[49m\u001b[43m)\u001b[49m\u001b[38;5;241;43m.\u001b[39;49m\u001b[43mapply\u001b[49m\u001b[43m(\u001b[49m\u001b[43mfunc\u001b[49m\u001b[43m)\u001b[49m\n",
      "File \u001b[1;32mc:\\Users\\shara\\AppData\\Local\\Programs\\Python\\Python310\\lib\\site-packages\\pandas\\core\\window\\rolling.py:2035\u001b[0m, in \u001b[0;36mRolling.apply\u001b[1;34m(self, func, raw, engine, engine_kwargs, args, kwargs)\u001b[0m\n\u001b[0;32m   2002\u001b[0m \u001b[38;5;129m@doc\u001b[39m(\n\u001b[0;32m   2003\u001b[0m     template_header,\n\u001b[0;32m   2004\u001b[0m     create_section_header(\u001b[38;5;124m\"\u001b[39m\u001b[38;5;124mParameters\u001b[39m\u001b[38;5;124m\"\u001b[39m),\n\u001b[1;32m   (...)\u001b[0m\n\u001b[0;32m   2033\u001b[0m     kwargs: \u001b[38;5;28mdict\u001b[39m[\u001b[38;5;28mstr\u001b[39m, Any] \u001b[38;5;241m|\u001b[39m \u001b[38;5;28;01mNone\u001b[39;00m \u001b[38;5;241m=\u001b[39m \u001b[38;5;28;01mNone\u001b[39;00m,\n\u001b[0;32m   2034\u001b[0m ):\n\u001b[1;32m-> 2035\u001b[0m     \u001b[38;5;28;01mreturn\u001b[39;00m \u001b[38;5;28;43msuper\u001b[39;49m\u001b[43m(\u001b[49m\u001b[43m)\u001b[49m\u001b[38;5;241;43m.\u001b[39;49m\u001b[43mapply\u001b[49m\u001b[43m(\u001b[49m\n\u001b[0;32m   2036\u001b[0m \u001b[43m        \u001b[49m\u001b[43mfunc\u001b[49m\u001b[43m,\u001b[49m\n\u001b[0;32m   2037\u001b[0m \u001b[43m        \u001b[49m\u001b[43mraw\u001b[49m\u001b[38;5;241;43m=\u001b[39;49m\u001b[43mraw\u001b[49m\u001b[43m,\u001b[49m\n\u001b[0;32m   2038\u001b[0m \u001b[43m        \u001b[49m\u001b[43mengine\u001b[49m\u001b[38;5;241;43m=\u001b[39;49m\u001b[43mengine\u001b[49m\u001b[43m,\u001b[49m\n\u001b[0;32m   2039\u001b[0m \u001b[43m        \u001b[49m\u001b[43mengine_kwargs\u001b[49m\u001b[38;5;241;43m=\u001b[39;49m\u001b[43mengine_kwargs\u001b[49m\u001b[43m,\u001b[49m\n\u001b[0;32m   2040\u001b[0m \u001b[43m        \u001b[49m\u001b[43margs\u001b[49m\u001b[38;5;241;43m=\u001b[39;49m\u001b[43margs\u001b[49m\u001b[43m,\u001b[49m\n\u001b[0;32m   2041\u001b[0m \u001b[43m        \u001b[49m\u001b[43mkwargs\u001b[49m\u001b[38;5;241;43m=\u001b[39;49m\u001b[43mkwargs\u001b[49m\u001b[43m,\u001b[49m\n\u001b[0;32m   2042\u001b[0m \u001b[43m    \u001b[49m\u001b[43m)\u001b[49m\n",
      "File \u001b[1;32mc:\\Users\\shara\\AppData\\Local\\Programs\\Python\\Python310\\lib\\site-packages\\pandas\\core\\window\\rolling.py:1500\u001b[0m, in \u001b[0;36mRollingAndExpandingMixin.apply\u001b[1;34m(self, func, raw, engine, engine_kwargs, args, kwargs)\u001b[0m\n\u001b[0;32m   1497\u001b[0m \u001b[38;5;28;01melse\u001b[39;00m:\n\u001b[0;32m   1498\u001b[0m     \u001b[38;5;28;01mraise\u001b[39;00m \u001b[38;5;167;01mValueError\u001b[39;00m(\u001b[38;5;124m\"\u001b[39m\u001b[38;5;124mengine must be either \u001b[39m\u001b[38;5;124m'\u001b[39m\u001b[38;5;124mnumba\u001b[39m\u001b[38;5;124m'\u001b[39m\u001b[38;5;124m or \u001b[39m\u001b[38;5;124m'\u001b[39m\u001b[38;5;124mcython\u001b[39m\u001b[38;5;124m'\u001b[39m\u001b[38;5;124m\"\u001b[39m)\n\u001b[1;32m-> 1500\u001b[0m \u001b[38;5;28;01mreturn\u001b[39;00m \u001b[38;5;28;43mself\u001b[39;49m\u001b[38;5;241;43m.\u001b[39;49m\u001b[43m_apply\u001b[49m\u001b[43m(\u001b[49m\n\u001b[0;32m   1501\u001b[0m \u001b[43m    \u001b[49m\u001b[43mapply_func\u001b[49m\u001b[43m,\u001b[49m\n\u001b[0;32m   1502\u001b[0m \u001b[43m    \u001b[49m\u001b[43mname\u001b[49m\u001b[38;5;241;43m=\u001b[39;49m\u001b[38;5;124;43m\"\u001b[39;49m\u001b[38;5;124;43mapply\u001b[39;49m\u001b[38;5;124;43m\"\u001b[39;49m\u001b[43m,\u001b[49m\n\u001b[0;32m   1503\u001b[0m \u001b[43m    \u001b[49m\u001b[43mnumba_args\u001b[49m\u001b[38;5;241;43m=\u001b[39;49m\u001b[43mnumba_args\u001b[49m\u001b[43m,\u001b[49m\n\u001b[0;32m   1504\u001b[0m \u001b[43m\u001b[49m\u001b[43m)\u001b[49m\n",
      "File \u001b[1;32mc:\\Users\\shara\\AppData\\Local\\Programs\\Python\\Python310\\lib\\site-packages\\pandas\\core\\window\\rolling.py:614\u001b[0m, in \u001b[0;36mBaseWindow._apply\u001b[1;34m(self, func, name, numeric_only, numba_args, **kwargs)\u001b[0m\n\u001b[0;32m    611\u001b[0m     \u001b[38;5;28;01mreturn\u001b[39;00m result\n\u001b[0;32m    613\u001b[0m \u001b[38;5;28;01mif\u001b[39;00m \u001b[38;5;28mself\u001b[39m\u001b[38;5;241m.\u001b[39mmethod \u001b[38;5;241m==\u001b[39m \u001b[38;5;124m\"\u001b[39m\u001b[38;5;124msingle\u001b[39m\u001b[38;5;124m\"\u001b[39m:\n\u001b[1;32m--> 614\u001b[0m     \u001b[38;5;28;01mreturn\u001b[39;00m \u001b[38;5;28;43mself\u001b[39;49m\u001b[38;5;241;43m.\u001b[39;49m\u001b[43m_apply_blockwise\u001b[49m\u001b[43m(\u001b[49m\u001b[43mhomogeneous_func\u001b[49m\u001b[43m,\u001b[49m\u001b[43m \u001b[49m\u001b[43mname\u001b[49m\u001b[43m,\u001b[49m\u001b[43m \u001b[49m\u001b[43mnumeric_only\u001b[49m\u001b[43m)\u001b[49m\n\u001b[0;32m    615\u001b[0m \u001b[38;5;28;01melse\u001b[39;00m:\n\u001b[0;32m    616\u001b[0m     \u001b[38;5;28;01mreturn\u001b[39;00m \u001b[38;5;28mself\u001b[39m\u001b[38;5;241m.\u001b[39m_apply_tablewise(homogeneous_func, name, numeric_only)\n",
      "File \u001b[1;32mc:\\Users\\shara\\AppData\\Local\\Programs\\Python\\Python310\\lib\\site-packages\\pandas\\core\\window\\rolling.py:467\u001b[0m, in \u001b[0;36mBaseWindow._apply_blockwise\u001b[1;34m(self, homogeneous_func, name, numeric_only)\u001b[0m\n\u001b[0;32m    465\u001b[0m \u001b[38;5;28mself\u001b[39m\u001b[38;5;241m.\u001b[39m_validate_numeric_only(name, numeric_only)\n\u001b[0;32m    466\u001b[0m \u001b[38;5;28;01mif\u001b[39;00m \u001b[38;5;28mself\u001b[39m\u001b[38;5;241m.\u001b[39m_selected_obj\u001b[38;5;241m.\u001b[39mndim \u001b[38;5;241m==\u001b[39m \u001b[38;5;241m1\u001b[39m:\n\u001b[1;32m--> 467\u001b[0m     \u001b[38;5;28;01mreturn\u001b[39;00m \u001b[38;5;28;43mself\u001b[39;49m\u001b[38;5;241;43m.\u001b[39;49m\u001b[43m_apply_series\u001b[49m\u001b[43m(\u001b[49m\u001b[43mhomogeneous_func\u001b[49m\u001b[43m,\u001b[49m\u001b[43m \u001b[49m\u001b[43mname\u001b[49m\u001b[43m)\u001b[49m\n\u001b[0;32m    469\u001b[0m obj \u001b[38;5;241m=\u001b[39m \u001b[38;5;28mself\u001b[39m\u001b[38;5;241m.\u001b[39m_create_data(\u001b[38;5;28mself\u001b[39m\u001b[38;5;241m.\u001b[39m_selected_obj, numeric_only)\n\u001b[0;32m    470\u001b[0m \u001b[38;5;28;01mif\u001b[39;00m name \u001b[38;5;241m==\u001b[39m \u001b[38;5;124m\"\u001b[39m\u001b[38;5;124mcount\u001b[39m\u001b[38;5;124m\"\u001b[39m:\n\u001b[0;32m    471\u001b[0m     \u001b[38;5;66;03m# GH 12541: Special case for count where we support date-like types\u001b[39;00m\n",
      "File \u001b[1;32mc:\\Users\\shara\\AppData\\Local\\Programs\\Python\\Python310\\lib\\site-packages\\pandas\\core\\window\\rolling.py:451\u001b[0m, in \u001b[0;36mBaseWindow._apply_series\u001b[1;34m(self, homogeneous_func, name)\u001b[0m\n\u001b[0;32m    448\u001b[0m \u001b[38;5;28;01mexcept\u001b[39;00m (\u001b[38;5;167;01mTypeError\u001b[39;00m, \u001b[38;5;167;01mNotImplementedError\u001b[39;00m) \u001b[38;5;28;01mas\u001b[39;00m err:\n\u001b[0;32m    449\u001b[0m     \u001b[38;5;28;01mraise\u001b[39;00m DataError(\u001b[38;5;124m\"\u001b[39m\u001b[38;5;124mNo numeric types to aggregate\u001b[39m\u001b[38;5;124m\"\u001b[39m) \u001b[38;5;28;01mfrom\u001b[39;00m \u001b[38;5;21;01merr\u001b[39;00m\n\u001b[1;32m--> 451\u001b[0m result \u001b[38;5;241m=\u001b[39m \u001b[43mhomogeneous_func\u001b[49m\u001b[43m(\u001b[49m\u001b[43mvalues\u001b[49m\u001b[43m)\u001b[49m\n\u001b[0;32m    452\u001b[0m index \u001b[38;5;241m=\u001b[39m \u001b[38;5;28mself\u001b[39m\u001b[38;5;241m.\u001b[39m_slice_axis_for_step(obj\u001b[38;5;241m.\u001b[39mindex, result)\n\u001b[0;32m    453\u001b[0m \u001b[38;5;28;01mreturn\u001b[39;00m obj\u001b[38;5;241m.\u001b[39m_constructor(result, index\u001b[38;5;241m=\u001b[39mindex, name\u001b[38;5;241m=\u001b[39mobj\u001b[38;5;241m.\u001b[39mname)\n",
      "File \u001b[1;32mc:\\Users\\shara\\AppData\\Local\\Programs\\Python\\Python310\\lib\\site-packages\\pandas\\core\\window\\rolling.py:609\u001b[0m, in \u001b[0;36mBaseWindow._apply.<locals>.homogeneous_func\u001b[1;34m(values)\u001b[0m\n\u001b[0;32m    606\u001b[0m     \u001b[38;5;28;01mreturn\u001b[39;00m func(x, start, end, min_periods, \u001b[38;5;241m*\u001b[39mnumba_args)\n\u001b[0;32m    608\u001b[0m \u001b[38;5;28;01mwith\u001b[39;00m np\u001b[38;5;241m.\u001b[39merrstate(\u001b[38;5;28mall\u001b[39m\u001b[38;5;241m=\u001b[39m\u001b[38;5;124m\"\u001b[39m\u001b[38;5;124mignore\u001b[39m\u001b[38;5;124m\"\u001b[39m):\n\u001b[1;32m--> 609\u001b[0m     result \u001b[38;5;241m=\u001b[39m \u001b[43mcalc\u001b[49m\u001b[43m(\u001b[49m\u001b[43mvalues\u001b[49m\u001b[43m)\u001b[49m\n\u001b[0;32m    611\u001b[0m \u001b[38;5;28;01mreturn\u001b[39;00m result\n",
      "File \u001b[1;32mc:\\Users\\shara\\AppData\\Local\\Programs\\Python\\Python310\\lib\\site-packages\\pandas\\core\\window\\rolling.py:606\u001b[0m, in \u001b[0;36mBaseWindow._apply.<locals>.homogeneous_func.<locals>.calc\u001b[1;34m(x)\u001b[0m\n\u001b[0;32m    597\u001b[0m start, end \u001b[38;5;241m=\u001b[39m window_indexer\u001b[38;5;241m.\u001b[39mget_window_bounds(\n\u001b[0;32m    598\u001b[0m     num_values\u001b[38;5;241m=\u001b[39m\u001b[38;5;28mlen\u001b[39m(x),\n\u001b[0;32m    599\u001b[0m     min_periods\u001b[38;5;241m=\u001b[39mmin_periods,\n\u001b[1;32m   (...)\u001b[0m\n\u001b[0;32m    602\u001b[0m     step\u001b[38;5;241m=\u001b[39m\u001b[38;5;28mself\u001b[39m\u001b[38;5;241m.\u001b[39mstep,\n\u001b[0;32m    603\u001b[0m )\n\u001b[0;32m    604\u001b[0m \u001b[38;5;28mself\u001b[39m\u001b[38;5;241m.\u001b[39m_check_window_bounds(start, end, \u001b[38;5;28mlen\u001b[39m(x))\n\u001b[1;32m--> 606\u001b[0m \u001b[38;5;28;01mreturn\u001b[39;00m \u001b[43mfunc\u001b[49m\u001b[43m(\u001b[49m\u001b[43mx\u001b[49m\u001b[43m,\u001b[49m\u001b[43m \u001b[49m\u001b[43mstart\u001b[49m\u001b[43m,\u001b[49m\u001b[43m \u001b[49m\u001b[43mend\u001b[49m\u001b[43m,\u001b[49m\u001b[43m \u001b[49m\u001b[43mmin_periods\u001b[49m\u001b[43m,\u001b[49m\u001b[43m \u001b[49m\u001b[38;5;241;43m*\u001b[39;49m\u001b[43mnumba_args\u001b[49m\u001b[43m)\u001b[49m\n",
      "File \u001b[1;32mc:\\Users\\shara\\AppData\\Local\\Programs\\Python\\Python310\\lib\\site-packages\\pandas\\core\\window\\rolling.py:1527\u001b[0m, in \u001b[0;36mRollingAndExpandingMixin._generate_cython_apply_func.<locals>.apply_func\u001b[1;34m(values, begin, end, min_periods, raw)\u001b[0m\n\u001b[0;32m   1524\u001b[0m \u001b[38;5;28;01mif\u001b[39;00m \u001b[38;5;129;01mnot\u001b[39;00m raw:\n\u001b[0;32m   1525\u001b[0m     \u001b[38;5;66;03m# GH 45912\u001b[39;00m\n\u001b[0;32m   1526\u001b[0m     values \u001b[38;5;241m=\u001b[39m Series(values, index\u001b[38;5;241m=\u001b[39m\u001b[38;5;28mself\u001b[39m\u001b[38;5;241m.\u001b[39m_on, copy\u001b[38;5;241m=\u001b[39m\u001b[38;5;28;01mFalse\u001b[39;00m)\n\u001b[1;32m-> 1527\u001b[0m \u001b[38;5;28;01mreturn\u001b[39;00m \u001b[43mwindow_func\u001b[49m\u001b[43m(\u001b[49m\u001b[43mvalues\u001b[49m\u001b[43m,\u001b[49m\u001b[43m \u001b[49m\u001b[43mbegin\u001b[49m\u001b[43m,\u001b[49m\u001b[43m \u001b[49m\u001b[43mend\u001b[49m\u001b[43m,\u001b[49m\u001b[43m \u001b[49m\u001b[43mmin_periods\u001b[49m\u001b[43m)\u001b[49m\n",
      "File \u001b[1;32maggregations.pyx:1423\u001b[0m, in \u001b[0;36mpandas._libs.window.aggregations.roll_apply\u001b[1;34m()\u001b[0m\n",
      "Cell \u001b[1;32mIn[35], line 15\u001b[0m, in \u001b[0;36mcalculate_rolled_results.<locals>.generate_equity_results.<locals>.<lambda>\u001b[1;34m(x)\u001b[0m\n\u001b[0;32m     13\u001b[0m var_portfolio_parametric_rolled_percentile \u001b[38;5;241m=\u001b[39m apply_rolling_window(df, window, \u001b[38;5;28;01mlambda\u001b[39;00m x: portfolio_VaR_parametric(x, confidence_interval))\n\u001b[0;32m     14\u001b[0m var_portfolio_parametric_rolled \u001b[38;5;241m=\u001b[39m var_portfolio_parametric_rolled_percentile \u001b[38;5;241m*\u001b[39m portfolio_value\n\u001b[1;32m---> 15\u001b[0m var_portfolio_ES_rolled_percentile \u001b[38;5;241m=\u001b[39m apply_rolling_window(df, window, \u001b[38;5;28;01mlambda\u001b[39;00m x: \u001b[43mportfolio_ES\u001b[49m\u001b[43m(\u001b[49m\u001b[43mx\u001b[49m\u001b[43m,\u001b[49m\u001b[43m \u001b[49m\u001b[43mconfidence_interval\u001b[49m\u001b[43m)\u001b[49m)\n\u001b[0;32m     16\u001b[0m var_portfolio_ES_rolled \u001b[38;5;241m=\u001b[39m var_portfolio_ES_rolled_percentile \u001b[38;5;241m*\u001b[39m portfolio_value\n\u001b[0;32m     19\u001b[0m results_dic \u001b[38;5;241m=\u001b[39m {\n\u001b[0;32m     20\u001b[0m     \u001b[38;5;124m\"\u001b[39m\u001b[38;5;124mVaR nonparametric rolled\u001b[39m\u001b[38;5;124m\"\u001b[39m: var_portfolio_nonparametric_rolled\u001b[38;5;241m.\u001b[39miloc[\u001b[38;5;241m-\u001b[39m\u001b[38;5;241m1\u001b[39m:],\n\u001b[0;32m     21\u001b[0m     \u001b[38;5;124m\"\u001b[39m\u001b[38;5;124mVaR parametric rolled\u001b[39m\u001b[38;5;124m\"\u001b[39m: var_portfolio_parametric_rolled\u001b[38;5;241m.\u001b[39miloc[\u001b[38;5;241m-\u001b[39m\u001b[38;5;241m1\u001b[39m:],\n\u001b[0;32m     22\u001b[0m     \u001b[38;5;124m\"\u001b[39m\u001b[38;5;124mES rolled\u001b[39m\u001b[38;5;124m\"\u001b[39m: var_portfolio_ES_rolled\u001b[38;5;241m.\u001b[39miloc[\u001b[38;5;241m-\u001b[39m\u001b[38;5;241m1\u001b[39m:],\n\u001b[0;32m     23\u001b[0m      \n\u001b[0;32m     24\u001b[0m }\n",
      "Cell \u001b[1;32mIn[15], line 208\u001b[0m, in \u001b[0;36mportfolio_ES\u001b[1;34m(portfolio_returns, portfolio_value, confidence_level)\u001b[0m\n\u001b[0;32m    206\u001b[0m \u001b[38;5;28;01mdef\u001b[39;00m \u001b[38;5;21mportfolio_ES\u001b[39m(portfolio_returns, portfolio_value\u001b[38;5;241m=\u001b[39mmoney_invested, confidence_level\u001b[38;5;241m=\u001b[39m\u001b[38;5;241m0.99\u001b[39m):\n\u001b[1;32m--> 208\u001b[0m     portfolio_returns \u001b[38;5;241m=\u001b[39m \u001b[43mportfolio_returns\u001b[49m\u001b[38;5;241;43m.\u001b[39;49m\u001b[43mdrop\u001b[49m\u001b[43m(\u001b[49m\u001b[43mportfolio_returns\u001b[49m\u001b[38;5;241;43m.\u001b[39;49m\u001b[43mindex\u001b[49m\u001b[43m[\u001b[49m\u001b[38;5;241;43m0\u001b[39;49m\u001b[43m]\u001b[49m\u001b[43m)\u001b[49m\n\u001b[0;32m    210\u001b[0m     \u001b[38;5;66;03m# Calculate the VaR using historical simulation\u001b[39;00m\n\u001b[0;32m    211\u001b[0m     var_percentage \u001b[38;5;241m=\u001b[39m np\u001b[38;5;241m.\u001b[39mpercentile(portfolio_returns, \u001b[38;5;241m100\u001b[39m \u001b[38;5;241m*\u001b[39m (\u001b[38;5;241m1\u001b[39m \u001b[38;5;241m-\u001b[39m confidence_level))\n",
      "File \u001b[1;32mc:\\Users\\shara\\AppData\\Local\\Programs\\Python\\Python310\\lib\\site-packages\\pandas\\core\\series.py:5144\u001b[0m, in \u001b[0;36mSeries.drop\u001b[1;34m(self, labels, axis, index, columns, level, inplace, errors)\u001b[0m\n\u001b[0;32m   5047\u001b[0m \u001b[38;5;28;01mdef\u001b[39;00m \u001b[38;5;21mdrop\u001b[39m(\n\u001b[0;32m   5048\u001b[0m     \u001b[38;5;28mself\u001b[39m,\n\u001b[0;32m   5049\u001b[0m     labels: IndexLabel \u001b[38;5;241m|\u001b[39m \u001b[38;5;28;01mNone\u001b[39;00m \u001b[38;5;241m=\u001b[39m \u001b[38;5;28;01mNone\u001b[39;00m,\n\u001b[1;32m   (...)\u001b[0m\n\u001b[0;32m   5056\u001b[0m     errors: IgnoreRaise \u001b[38;5;241m=\u001b[39m \u001b[38;5;124m\"\u001b[39m\u001b[38;5;124mraise\u001b[39m\u001b[38;5;124m\"\u001b[39m,\n\u001b[0;32m   5057\u001b[0m ) \u001b[38;5;241m-\u001b[39m\u001b[38;5;241m>\u001b[39m Series \u001b[38;5;241m|\u001b[39m \u001b[38;5;28;01mNone\u001b[39;00m:\n\u001b[0;32m   5058\u001b[0m \u001b[38;5;250m    \u001b[39m\u001b[38;5;124;03m\"\"\"\u001b[39;00m\n\u001b[0;32m   5059\u001b[0m \u001b[38;5;124;03m    Return Series with specified index labels removed.\u001b[39;00m\n\u001b[0;32m   5060\u001b[0m \n\u001b[1;32m   (...)\u001b[0m\n\u001b[0;32m   5142\u001b[0m \u001b[38;5;124;03m    dtype: float64\u001b[39;00m\n\u001b[0;32m   5143\u001b[0m \u001b[38;5;124;03m    \"\"\"\u001b[39;00m\n\u001b[1;32m-> 5144\u001b[0m     \u001b[38;5;28;01mreturn\u001b[39;00m \u001b[38;5;28;43msuper\u001b[39;49m\u001b[43m(\u001b[49m\u001b[43m)\u001b[49m\u001b[38;5;241;43m.\u001b[39;49m\u001b[43mdrop\u001b[49m\u001b[43m(\u001b[49m\n\u001b[0;32m   5145\u001b[0m \u001b[43m        \u001b[49m\u001b[43mlabels\u001b[49m\u001b[38;5;241;43m=\u001b[39;49m\u001b[43mlabels\u001b[49m\u001b[43m,\u001b[49m\n\u001b[0;32m   5146\u001b[0m \u001b[43m        \u001b[49m\u001b[43maxis\u001b[49m\u001b[38;5;241;43m=\u001b[39;49m\u001b[43maxis\u001b[49m\u001b[43m,\u001b[49m\n\u001b[0;32m   5147\u001b[0m \u001b[43m        \u001b[49m\u001b[43mindex\u001b[49m\u001b[38;5;241;43m=\u001b[39;49m\u001b[43mindex\u001b[49m\u001b[43m,\u001b[49m\n\u001b[0;32m   5148\u001b[0m \u001b[43m        \u001b[49m\u001b[43mcolumns\u001b[49m\u001b[38;5;241;43m=\u001b[39;49m\u001b[43mcolumns\u001b[49m\u001b[43m,\u001b[49m\n\u001b[0;32m   5149\u001b[0m \u001b[43m        \u001b[49m\u001b[43mlevel\u001b[49m\u001b[38;5;241;43m=\u001b[39;49m\u001b[43mlevel\u001b[49m\u001b[43m,\u001b[49m\n\u001b[0;32m   5150\u001b[0m \u001b[43m        \u001b[49m\u001b[43minplace\u001b[49m\u001b[38;5;241;43m=\u001b[39;49m\u001b[43minplace\u001b[49m\u001b[43m,\u001b[49m\n\u001b[0;32m   5151\u001b[0m \u001b[43m        \u001b[49m\u001b[43merrors\u001b[49m\u001b[38;5;241;43m=\u001b[39;49m\u001b[43merrors\u001b[49m\u001b[43m,\u001b[49m\n\u001b[0;32m   5152\u001b[0m \u001b[43m    \u001b[49m\u001b[43m)\u001b[49m\n",
      "File \u001b[1;32mc:\\Users\\shara\\AppData\\Local\\Programs\\Python\\Python310\\lib\\site-packages\\pandas\\core\\generic.py:4711\u001b[0m, in \u001b[0;36mNDFrame.drop\u001b[1;34m(self, labels, axis, index, columns, level, inplace, errors)\u001b[0m\n\u001b[0;32m   4709\u001b[0m \u001b[38;5;28;01mfor\u001b[39;00m axis, labels \u001b[38;5;129;01min\u001b[39;00m axes\u001b[38;5;241m.\u001b[39mitems():\n\u001b[0;32m   4710\u001b[0m     \u001b[38;5;28;01mif\u001b[39;00m labels \u001b[38;5;129;01mis\u001b[39;00m \u001b[38;5;129;01mnot\u001b[39;00m \u001b[38;5;28;01mNone\u001b[39;00m:\n\u001b[1;32m-> 4711\u001b[0m         obj \u001b[38;5;241m=\u001b[39m \u001b[43mobj\u001b[49m\u001b[38;5;241;43m.\u001b[39;49m\u001b[43m_drop_axis\u001b[49m\u001b[43m(\u001b[49m\u001b[43mlabels\u001b[49m\u001b[43m,\u001b[49m\u001b[43m \u001b[49m\u001b[43maxis\u001b[49m\u001b[43m,\u001b[49m\u001b[43m \u001b[49m\u001b[43mlevel\u001b[49m\u001b[38;5;241;43m=\u001b[39;49m\u001b[43mlevel\u001b[49m\u001b[43m,\u001b[49m\u001b[43m \u001b[49m\u001b[43merrors\u001b[49m\u001b[38;5;241;43m=\u001b[39;49m\u001b[43merrors\u001b[49m\u001b[43m)\u001b[49m\n\u001b[0;32m   4713\u001b[0m \u001b[38;5;28;01mif\u001b[39;00m inplace:\n\u001b[0;32m   4714\u001b[0m     \u001b[38;5;28mself\u001b[39m\u001b[38;5;241m.\u001b[39m_update_inplace(obj)\n",
      "File \u001b[1;32mc:\\Users\\shara\\AppData\\Local\\Programs\\Python\\Python310\\lib\\site-packages\\pandas\\core\\generic.py:4753\u001b[0m, in \u001b[0;36mNDFrame._drop_axis\u001b[1;34m(self, labels, axis, level, errors, only_slice)\u001b[0m\n\u001b[0;32m   4751\u001b[0m         new_axis \u001b[38;5;241m=\u001b[39m axis\u001b[38;5;241m.\u001b[39mdrop(labels, level\u001b[38;5;241m=\u001b[39mlevel, errors\u001b[38;5;241m=\u001b[39merrors)\n\u001b[0;32m   4752\u001b[0m     \u001b[38;5;28;01melse\u001b[39;00m:\n\u001b[1;32m-> 4753\u001b[0m         new_axis \u001b[38;5;241m=\u001b[39m \u001b[43maxis\u001b[49m\u001b[38;5;241;43m.\u001b[39;49m\u001b[43mdrop\u001b[49m\u001b[43m(\u001b[49m\u001b[43mlabels\u001b[49m\u001b[43m,\u001b[49m\u001b[43m \u001b[49m\u001b[43merrors\u001b[49m\u001b[38;5;241;43m=\u001b[39;49m\u001b[43merrors\u001b[49m\u001b[43m)\u001b[49m\n\u001b[0;32m   4754\u001b[0m     indexer \u001b[38;5;241m=\u001b[39m axis\u001b[38;5;241m.\u001b[39mget_indexer(new_axis)\n\u001b[0;32m   4756\u001b[0m \u001b[38;5;66;03m# Case for non-unique axis\u001b[39;00m\n\u001b[0;32m   4757\u001b[0m \u001b[38;5;28;01melse\u001b[39;00m:\n",
      "File \u001b[1;32mc:\\Users\\shara\\AppData\\Local\\Programs\\Python\\Python310\\lib\\site-packages\\pandas\\core\\indexes\\base.py:6988\u001b[0m, in \u001b[0;36mIndex.drop\u001b[1;34m(self, labels, errors)\u001b[0m\n\u001b[0;32m   6985\u001b[0m     arr_dtype \u001b[38;5;241m=\u001b[39m \u001b[38;5;124m\"\u001b[39m\u001b[38;5;124mobject\u001b[39m\u001b[38;5;124m\"\u001b[39m \u001b[38;5;28;01mif\u001b[39;00m \u001b[38;5;28mself\u001b[39m\u001b[38;5;241m.\u001b[39mdtype \u001b[38;5;241m==\u001b[39m \u001b[38;5;124m\"\u001b[39m\u001b[38;5;124mobject\u001b[39m\u001b[38;5;124m\"\u001b[39m \u001b[38;5;28;01melse\u001b[39;00m \u001b[38;5;28;01mNone\u001b[39;00m\n\u001b[0;32m   6986\u001b[0m     labels \u001b[38;5;241m=\u001b[39m com\u001b[38;5;241m.\u001b[39mindex_labels_to_array(labels, dtype\u001b[38;5;241m=\u001b[39marr_dtype)\n\u001b[1;32m-> 6988\u001b[0m indexer \u001b[38;5;241m=\u001b[39m \u001b[38;5;28;43mself\u001b[39;49m\u001b[38;5;241;43m.\u001b[39;49m\u001b[43mget_indexer_for\u001b[49m\u001b[43m(\u001b[49m\u001b[43mlabels\u001b[49m\u001b[43m)\u001b[49m\n\u001b[0;32m   6989\u001b[0m mask \u001b[38;5;241m=\u001b[39m indexer \u001b[38;5;241m==\u001b[39m \u001b[38;5;241m-\u001b[39m\u001b[38;5;241m1\u001b[39m\n\u001b[0;32m   6990\u001b[0m \u001b[38;5;28;01mif\u001b[39;00m mask\u001b[38;5;241m.\u001b[39many():\n",
      "File \u001b[1;32mc:\\Users\\shara\\AppData\\Local\\Programs\\Python\\Python310\\lib\\site-packages\\pandas\\core\\indexes\\base.py:6096\u001b[0m, in \u001b[0;36mIndex.get_indexer_for\u001b[1;34m(self, target)\u001b[0m\n\u001b[0;32m   6078\u001b[0m \u001b[38;5;250m\u001b[39m\u001b[38;5;124;03m\"\"\"\u001b[39;00m\n\u001b[0;32m   6079\u001b[0m \u001b[38;5;124;03mGuaranteed return of an indexer even when non-unique.\u001b[39;00m\n\u001b[0;32m   6080\u001b[0m \n\u001b[1;32m   (...)\u001b[0m\n\u001b[0;32m   6093\u001b[0m \u001b[38;5;124;03marray([0, 2])\u001b[39;00m\n\u001b[0;32m   6094\u001b[0m \u001b[38;5;124;03m\"\"\"\u001b[39;00m\n\u001b[0;32m   6095\u001b[0m \u001b[38;5;28;01mif\u001b[39;00m \u001b[38;5;28mself\u001b[39m\u001b[38;5;241m.\u001b[39m_index_as_unique:\n\u001b[1;32m-> 6096\u001b[0m     \u001b[38;5;28;01mreturn\u001b[39;00m \u001b[38;5;28;43mself\u001b[39;49m\u001b[38;5;241;43m.\u001b[39;49m\u001b[43mget_indexer\u001b[49m\u001b[43m(\u001b[49m\u001b[43mtarget\u001b[49m\u001b[43m)\u001b[49m\n\u001b[0;32m   6097\u001b[0m indexer, _ \u001b[38;5;241m=\u001b[39m \u001b[38;5;28mself\u001b[39m\u001b[38;5;241m.\u001b[39mget_indexer_non_unique(target)\n\u001b[0;32m   6098\u001b[0m \u001b[38;5;28;01mreturn\u001b[39;00m indexer\n",
      "File \u001b[1;32mc:\\Users\\shara\\AppData\\Local\\Programs\\Python\\Python310\\lib\\site-packages\\pandas\\core\\indexes\\base.py:3942\u001b[0m, in \u001b[0;36mIndex.get_indexer\u001b[1;34m(self, target, method, limit, tolerance)\u001b[0m\n\u001b[0;32m   3937\u001b[0m     target \u001b[38;5;241m=\u001b[39m target\u001b[38;5;241m.\u001b[39mastype(dtype, copy\u001b[38;5;241m=\u001b[39m\u001b[38;5;28;01mFalse\u001b[39;00m)\n\u001b[0;32m   3938\u001b[0m     \u001b[38;5;28;01mreturn\u001b[39;00m this\u001b[38;5;241m.\u001b[39m_get_indexer(\n\u001b[0;32m   3939\u001b[0m         target, method\u001b[38;5;241m=\u001b[39mmethod, limit\u001b[38;5;241m=\u001b[39mlimit, tolerance\u001b[38;5;241m=\u001b[39mtolerance\n\u001b[0;32m   3940\u001b[0m     )\n\u001b[1;32m-> 3942\u001b[0m \u001b[38;5;28;01mreturn\u001b[39;00m \u001b[38;5;28;43mself\u001b[39;49m\u001b[38;5;241;43m.\u001b[39;49m\u001b[43m_get_indexer\u001b[49m\u001b[43m(\u001b[49m\u001b[43mtarget\u001b[49m\u001b[43m,\u001b[49m\u001b[43m \u001b[49m\u001b[43mmethod\u001b[49m\u001b[43m,\u001b[49m\u001b[43m \u001b[49m\u001b[43mlimit\u001b[49m\u001b[43m,\u001b[49m\u001b[43m \u001b[49m\u001b[43mtolerance\u001b[49m\u001b[43m)\u001b[49m\n",
      "File \u001b[1;32mc:\\Users\\shara\\AppData\\Local\\Programs\\Python\\Python310\\lib\\site-packages\\pandas\\core\\indexes\\base.py:3969\u001b[0m, in \u001b[0;36mIndex._get_indexer\u001b[1;34m(self, target, method, limit, tolerance)\u001b[0m\n\u001b[0;32m   3966\u001b[0m     \u001b[38;5;28;01melse\u001b[39;00m:\n\u001b[0;32m   3967\u001b[0m         tgt_values \u001b[38;5;241m=\u001b[39m target\u001b[38;5;241m.\u001b[39m_get_engine_target()\n\u001b[1;32m-> 3969\u001b[0m     indexer \u001b[38;5;241m=\u001b[39m \u001b[38;5;28;43mself\u001b[39;49m\u001b[38;5;241;43m.\u001b[39;49m\u001b[43m_engine\u001b[49m\u001b[38;5;241;43m.\u001b[39;49m\u001b[43mget_indexer\u001b[49m\u001b[43m(\u001b[49m\u001b[43mtgt_values\u001b[49m\u001b[43m)\u001b[49m\n\u001b[0;32m   3971\u001b[0m \u001b[38;5;28;01mreturn\u001b[39;00m ensure_platform_int(indexer)\n",
      "\u001b[1;31mKeyboardInterrupt\u001b[0m: "
     ]
    }
   ],
   "source": [
    "combined_results = calculate_rolled_results(df_combined_returns, end_date='27-03-2024', window=window, confidence_interval=.99)\n",
    "print(combined_results)\n"
   ]
  },
  {
   "cell_type": "markdown",
   "metadata": {},
   "source": [
    "# Sensitivity Testing"
   ]
  },
  {
   "cell_type": "markdown",
   "metadata": {},
   "source": [
    "#### Combined"
   ]
  },
  {
   "cell_type": "code",
   "execution_count": null,
   "metadata": {},
   "outputs": [
    {
     "name": "stdout",
     "output_type": "stream",
     "text": [
      "                         16-06-2020 to 2024-03-27 00:00:00 Rolled Results at 0.99 Confidence Interval  \\\n",
      "                                                                                                  MVP   \n",
      "ES rolled                                                      -8814.703284                             \n",
      "VaR nonparametric rolled                                       -7389.296097                             \n",
      "VaR parametric rolled                                          -6642.194727                             \n",
      "\n",
      "                                                         \n",
      "                               Optimal Equally Weighted  \n",
      "ES rolled                -30145.212283    -23677.522364  \n",
      "VaR nonparametric rolled -25011.080375    -18845.852417  \n",
      "VaR parametric rolled    -24745.175225    -16031.175380  \n"
     ]
    }
   ],
   "source": [
    "combined_results = calculate_rolled_results(df_combined_returns, end_date='27-03-2024', window=window+252, confidence_interval=.99)\n",
    "print(combined_results)\n"
   ]
  },
  {
   "cell_type": "code",
   "execution_count": null,
   "metadata": {},
   "outputs": [
    {
     "name": "stdout",
     "output_type": "stream",
     "text": [
      "                         15-06-2022 to 2024-03-27 00:00:00 Rolled Results at 0.99 Confidence Interval  \\\n",
      "                                                                                                  MVP   \n",
      "ES rolled                                                      -8138.954157                             \n",
      "VaR nonparametric rolled                                       -7381.466324                             \n",
      "VaR parametric rolled                                          -7688.924741                             \n",
      "\n",
      "                                                         \n",
      "                               Optimal Equally Weighted  \n",
      "ES rolled                -26630.942666    -20323.804260  \n",
      "VaR nonparametric rolled -24262.710401    -15095.812456  \n",
      "VaR parametric rolled    -23630.765741    -16050.994449  \n"
     ]
    }
   ],
   "source": [
    "combined_results = calculate_rolled_results(df_combined_returns, end_date='27-03-2024', window=window-252, confidence_interval=.99)\n",
    "print(combined_results)\n"
   ]
  },
  {
   "cell_type": "code",
   "execution_count": null,
   "metadata": {},
   "outputs": [
    {
     "name": "stdout",
     "output_type": "stream",
     "text": [
      "                         16-06-2021 to 2024-03-27 00:00:00 Rolled Results at 0.99 Confidence Interval  \\\n",
      "                                                                                                  MVP   \n",
      "ES rolled                                                      -9236.650646                             \n",
      "VaR nonparametric rolled                                       -7750.013455                             \n",
      "VaR parametric rolled                                          -7424.342296                             \n",
      "\n",
      "                                                         \n",
      "                               Optimal Equally Weighted  \n",
      "ES rolled                -30199.416678    -25258.646982  \n",
      "VaR nonparametric rolled -25060.319606    -20330.772435  \n",
      "VaR parametric rolled    -24757.402147    -16748.833300  \n"
     ]
    }
   ],
   "source": [
    "combined_results = calculate_rolled_results(df_combined_returns, end_date='27-03-2024', window=window, confidence_interval=.99)\n",
    "print(combined_results)\n"
   ]
  },
  {
   "cell_type": "code",
   "execution_count": null,
   "metadata": {},
   "outputs": [
    {
     "name": "stdout",
     "output_type": "stream",
     "text": [
      "                         16-06-2021 to 2024-03-27 00:00:00 Rolled Results at 0.99 Confidence Interval  \\\n",
      "                                                                                                  MVP   \n",
      "ES rolled                                                      -9236.650646                             \n",
      "VaR nonparametric rolled                                       -7750.013455                             \n",
      "VaR parametric rolled                                          -7424.342296                             \n",
      "\n",
      "                                                         \n",
      "                               Optimal Equally Weighted  \n",
      "ES rolled                -30199.416678    -25258.646982  \n",
      "VaR nonparametric rolled -25060.319606    -20330.772435  \n",
      "VaR parametric rolled    -24757.402147    -16748.833300  \n"
     ]
    }
   ],
   "source": [
    "combined_results = calculate_rolled_results(df_combined_returns, end_date='27-03-2024', window=window, confidence_interval=.99)\n",
    "print(combined_results)\n"
   ]
  },
  {
   "cell_type": "code",
   "execution_count": null,
   "metadata": {},
   "outputs": [
    {
     "name": "stdout",
     "output_type": "stream",
     "text": [
      "                         16-06-2021 to 2024-03-27 00:00:00 Rolled Results at 0.99 Confidence Interval  \\\n",
      "                                                                                                  MVP   \n",
      "ES rolled                                                      -9236.650646                             \n",
      "VaR nonparametric rolled                                       -7750.013455                             \n",
      "VaR parametric rolled                                          -7424.342296                             \n",
      "\n",
      "                                                         \n",
      "                               Optimal Equally Weighted  \n",
      "ES rolled                -30199.416678    -25258.646982  \n",
      "VaR nonparametric rolled -25060.319606    -20330.772435  \n",
      "VaR parametric rolled    -24757.402147    -16748.833300  \n"
     ]
    }
   ],
   "source": [
    "combined_results = calculate_rolled_results(df_combined_returns, end_date='27-03-2024', window=window, confidence_interval=.99)\n",
    "print(combined_results)\n"
   ]
  },
  {
   "cell_type": "markdown",
   "metadata": {},
   "source": [
    "#### Equity"
   ]
  },
  {
   "cell_type": "code",
   "execution_count": null,
   "metadata": {},
   "outputs": [
    {
     "name": "stdout",
     "output_type": "stream",
     "text": [
      "                         16-06-2020 to 2024-03-27 00:00:00 Rolled Results at 0.99 Confidence Interval  \\\n",
      "                                                                                                  MVP   \n",
      "ES rolled                                                     -25821.302880                             \n",
      "VaR nonparametric rolled                                      -22271.835619                             \n",
      "VaR parametric rolled                                         -18793.491187                             \n",
      "\n",
      "                                                         \n",
      "                               Optimal Equally Weighted  \n",
      "ES rolled                -39564.388045     -32391.80775  \n",
      "VaR nonparametric rolled -33612.160344     -25766.77950  \n",
      "VaR parametric rolled    -32923.892758     -21990.98583  \n"
     ]
    }
   ],
   "source": [
    "equity_results = calculate_rolled_results(df_excess_equity_daily_returns, end_date='27-03-2024', window=window+252, confidence_interval=.99)\n",
    "print(equity_results)\n",
    "\n"
   ]
  },
  {
   "cell_type": "code",
   "execution_count": null,
   "metadata": {},
   "outputs": [
    {
     "name": "stdout",
     "output_type": "stream",
     "text": [
      "                         15-06-2022 to 2024-03-27 00:00:00 Rolled Results at 0.99 Confidence Interval  \\\n",
      "                                                                                                  MVP   \n",
      "ES rolled                                                     -23011.030899                             \n",
      "VaR nonparametric rolled                                      -18711.404980                             \n",
      "VaR parametric rolled                                         -18309.686650                             \n",
      "\n",
      "                                                         \n",
      "                               Optimal Equally Weighted  \n",
      "ES rolled                -34754.841910    -28833.459534  \n",
      "VaR nonparametric rolled -31621.973327    -22856.933396  \n",
      "VaR parametric rolled    -31275.616379    -21424.758085  \n"
     ]
    }
   ],
   "source": [
    "equity_results = calculate_rolled_results(df_excess_equity_daily_returns, end_date='27-03-2024', window=window-252, confidence_interval=.99)\n",
    "print(equity_results)\n"
   ]
  },
  {
   "cell_type": "code",
   "execution_count": null,
   "metadata": {},
   "outputs": [
    {
     "name": "stdout",
     "output_type": "stream",
     "text": [
      "                         16-06-2021 to 2024-03-27 00:00:00 Rolled Results at 0.99 Confidence Interval  \\\n",
      "                                                                                                  MVP   \n",
      "ES rolled                                                     -26349.318887                             \n",
      "VaR nonparametric rolled                                      -22785.832417                             \n",
      "VaR parametric rolled                                         -19083.619219                             \n",
      "\n",
      "                                                         \n",
      "                               Optimal Equally Weighted  \n",
      "ES rolled                -38807.314622    -34670.701569  \n",
      "VaR nonparametric rolled -33844.574944    -28572.592630  \n",
      "VaR parametric rolled    -32810.771861    -22729.976218  \n"
     ]
    }
   ],
   "source": [
    "equity_results = calculate_rolled_results(df_excess_equity_daily_returns, end_date='27-03-2024', window=window, confidence_interval=.99)\n",
    "print(equity_results)\n",
    "\n"
   ]
  },
  {
   "cell_type": "code",
   "execution_count": null,
   "metadata": {},
   "outputs": [
    {
     "ename": "KeyboardInterrupt",
     "evalue": "",
     "output_type": "error",
     "traceback": [
      "\u001b[1;31m---------------------------------------------------------------------------\u001b[0m",
      "\u001b[1;31mKeyboardInterrupt\u001b[0m                         Traceback (most recent call last)",
      "Cell \u001b[1;32mIn[41], line 1\u001b[0m\n\u001b[1;32m----> 1\u001b[0m equity_results \u001b[38;5;241m=\u001b[39m \u001b[43mcalculate_rolled_results\u001b[49m\u001b[43m(\u001b[49m\u001b[43mdf_excess_equity_daily_returns\u001b[49m\u001b[43m,\u001b[49m\u001b[43m \u001b[49m\u001b[43mend_date\u001b[49m\u001b[38;5;241;43m=\u001b[39;49m\u001b[38;5;124;43m'\u001b[39;49m\u001b[38;5;124;43m27-03-2024\u001b[39;49m\u001b[38;5;124;43m'\u001b[39;49m\u001b[43m,\u001b[49m\u001b[43m \u001b[49m\u001b[43mwindow\u001b[49m\u001b[38;5;241;43m=\u001b[39;49m\u001b[43mwindow\u001b[49m\u001b[43m,\u001b[49m\u001b[43m \u001b[49m\u001b[43mconfidence_interval\u001b[49m\u001b[38;5;241;43m=\u001b[39;49m\u001b[38;5;241;43m.99\u001b[39;49m\u001b[43m)\u001b[49m\n\u001b[0;32m      2\u001b[0m \u001b[38;5;28mprint\u001b[39m(equity_results)\n",
      "Cell \u001b[1;32mIn[29], line 34\u001b[0m, in \u001b[0;36mcalculate_rolled_results\u001b[1;34m(df, end_date, window, confidence_interval, portfolio_VaR_nonparametric, portfolio_VaR_parametric, portfolio_ES, spectral_risk_measure, BRW_VaR, Modified_VaR, portfolio_value)\u001b[0m\n\u001b[0;32m     31\u001b[0m df_sliced \u001b[38;5;241m=\u001b[39m df\u001b[38;5;241m.\u001b[39mloc[:end_date]\n\u001b[0;32m     33\u001b[0m \u001b[38;5;28;01mfor\u001b[39;00m column \u001b[38;5;129;01min\u001b[39;00m df_sliced\u001b[38;5;241m.\u001b[39mcolumns:\n\u001b[1;32m---> 34\u001b[0m     equity_results[column] \u001b[38;5;241m=\u001b[39m \u001b[43mgenerate_equity_results\u001b[49m\u001b[43m(\u001b[49m\u001b[43mdf_sliced\u001b[49m\u001b[43m[\u001b[49m\u001b[43mcolumn\u001b[49m\u001b[43m]\u001b[49m\u001b[43m,\u001b[49m\u001b[43m \u001b[49m\u001b[43mwindow\u001b[49m\u001b[43m,\u001b[49m\u001b[43m \u001b[49m\u001b[43mconfidence_interval\u001b[49m\u001b[43m,\u001b[49m\u001b[43m \u001b[49m\u001b[43mportfolio_VaR_nonparametric\u001b[49m\u001b[43m,\u001b[49m\u001b[43m \u001b[49m\u001b[43mportfolio_VaR_parametric\u001b[49m\u001b[43m,\u001b[49m\u001b[43m \u001b[49m\u001b[43mportfolio_ES\u001b[49m\u001b[43m,\u001b[49m\u001b[43m \u001b[49m\u001b[43mspectral_risk_measure\u001b[49m\u001b[43m,\u001b[49m\u001b[43m \u001b[49m\u001b[43mBRW_VaR\u001b[49m\u001b[43m,\u001b[49m\u001b[43m \u001b[49m\u001b[43mModified_VaR\u001b[49m\u001b[43m)\u001b[49m\n\u001b[0;32m     35\u001b[0m     equity_results[column]\u001b[38;5;241m.\u001b[39mrename(columns\u001b[38;5;241m=\u001b[39m{equity_results[column]\u001b[38;5;241m.\u001b[39mcolumns[\u001b[38;5;241m0\u001b[39m]: column}, inplace\u001b[38;5;241m=\u001b[39m\u001b[38;5;28;01mTrue\u001b[39;00m)\n\u001b[0;32m     37\u001b[0m merged_results \u001b[38;5;241m=\u001b[39m pd\u001b[38;5;241m.\u001b[39mconcat(equity_results\u001b[38;5;241m.\u001b[39mvalues(), axis\u001b[38;5;241m=\u001b[39m\u001b[38;5;241m1\u001b[39m)\n",
      "Cell \u001b[1;32mIn[29], line 11\u001b[0m, in \u001b[0;36mcalculate_rolled_results.<locals>.generate_equity_results\u001b[1;34m(df, window, confidence_interval, portfolio_VaR_nonparametric, portfolio_VaR_parametric, portfolio_ES, spectral_risk_measure, BRW_VaR, Modified_VaR)\u001b[0m\n\u001b[0;32m     10\u001b[0m \u001b[38;5;28;01mdef\u001b[39;00m \u001b[38;5;21mgenerate_equity_results\u001b[39m(df, window, confidence_interval, portfolio_VaR_nonparametric, portfolio_VaR_parametric, portfolio_ES, spectral_risk_measure, BRW_VaR, Modified_VaR):\n\u001b[1;32m---> 11\u001b[0m     var_portfolio_nonparametric_rolled_percentile \u001b[38;5;241m=\u001b[39m \u001b[43mapply_rolling_window\u001b[49m\u001b[43m(\u001b[49m\u001b[43mdf\u001b[49m\u001b[43m,\u001b[49m\u001b[43m \u001b[49m\u001b[43mwindow\u001b[49m\u001b[43m,\u001b[49m\u001b[43m \u001b[49m\u001b[38;5;28;43;01mlambda\u001b[39;49;00m\u001b[43m \u001b[49m\u001b[43mx\u001b[49m\u001b[43m:\u001b[49m\u001b[43m \u001b[49m\u001b[43mportfolio_VaR_nonparametric\u001b[49m\u001b[43m(\u001b[49m\u001b[43mx\u001b[49m\u001b[43m,\u001b[49m\u001b[43m \u001b[49m\u001b[43mconfidence_interval\u001b[49m\u001b[43m)\u001b[49m\u001b[43m)\u001b[49m\n\u001b[0;32m     12\u001b[0m     var_portfolio_nonparametric_rolled \u001b[38;5;241m=\u001b[39m var_portfolio_nonparametric_rolled_percentile \u001b[38;5;241m*\u001b[39m portfolio_value\n\u001b[0;32m     13\u001b[0m     var_portfolio_parametric_rolled_percentile \u001b[38;5;241m=\u001b[39m apply_rolling_window(df, window, \u001b[38;5;28;01mlambda\u001b[39;00m x: portfolio_VaR_parametric(x, confidence_interval))\n",
      "Cell \u001b[1;32mIn[29], line 5\u001b[0m, in \u001b[0;36mcalculate_rolled_results.<locals>.apply_rolling_window\u001b[1;34m(series, window, func)\u001b[0m\n\u001b[0;32m      4\u001b[0m \u001b[38;5;28;01mdef\u001b[39;00m \u001b[38;5;21mapply_rolling_window\u001b[39m(series, window, func):\n\u001b[1;32m----> 5\u001b[0m     \u001b[38;5;28;01mreturn\u001b[39;00m \u001b[43mseries\u001b[49m\u001b[38;5;241;43m.\u001b[39;49m\u001b[43mrolling\u001b[49m\u001b[43m(\u001b[49m\u001b[43mwindow\u001b[49m\u001b[38;5;241;43m=\u001b[39;49m\u001b[43mwindow\u001b[49m\u001b[43m)\u001b[49m\u001b[38;5;241;43m.\u001b[39;49m\u001b[43mapply\u001b[49m\u001b[43m(\u001b[49m\u001b[43mfunc\u001b[49m\u001b[43m)\u001b[49m\n",
      "File \u001b[1;32mc:\\Users\\shara\\AppData\\Local\\Programs\\Python\\Python310\\lib\\site-packages\\pandas\\core\\window\\rolling.py:2035\u001b[0m, in \u001b[0;36mRolling.apply\u001b[1;34m(self, func, raw, engine, engine_kwargs, args, kwargs)\u001b[0m\n\u001b[0;32m   2002\u001b[0m \u001b[38;5;129m@doc\u001b[39m(\n\u001b[0;32m   2003\u001b[0m     template_header,\n\u001b[0;32m   2004\u001b[0m     create_section_header(\u001b[38;5;124m\"\u001b[39m\u001b[38;5;124mParameters\u001b[39m\u001b[38;5;124m\"\u001b[39m),\n\u001b[1;32m   (...)\u001b[0m\n\u001b[0;32m   2033\u001b[0m     kwargs: \u001b[38;5;28mdict\u001b[39m[\u001b[38;5;28mstr\u001b[39m, Any] \u001b[38;5;241m|\u001b[39m \u001b[38;5;28;01mNone\u001b[39;00m \u001b[38;5;241m=\u001b[39m \u001b[38;5;28;01mNone\u001b[39;00m,\n\u001b[0;32m   2034\u001b[0m ):\n\u001b[1;32m-> 2035\u001b[0m     \u001b[38;5;28;01mreturn\u001b[39;00m \u001b[38;5;28;43msuper\u001b[39;49m\u001b[43m(\u001b[49m\u001b[43m)\u001b[49m\u001b[38;5;241;43m.\u001b[39;49m\u001b[43mapply\u001b[49m\u001b[43m(\u001b[49m\n\u001b[0;32m   2036\u001b[0m \u001b[43m        \u001b[49m\u001b[43mfunc\u001b[49m\u001b[43m,\u001b[49m\n\u001b[0;32m   2037\u001b[0m \u001b[43m        \u001b[49m\u001b[43mraw\u001b[49m\u001b[38;5;241;43m=\u001b[39;49m\u001b[43mraw\u001b[49m\u001b[43m,\u001b[49m\n\u001b[0;32m   2038\u001b[0m \u001b[43m        \u001b[49m\u001b[43mengine\u001b[49m\u001b[38;5;241;43m=\u001b[39;49m\u001b[43mengine\u001b[49m\u001b[43m,\u001b[49m\n\u001b[0;32m   2039\u001b[0m \u001b[43m        \u001b[49m\u001b[43mengine_kwargs\u001b[49m\u001b[38;5;241;43m=\u001b[39;49m\u001b[43mengine_kwargs\u001b[49m\u001b[43m,\u001b[49m\n\u001b[0;32m   2040\u001b[0m \u001b[43m        \u001b[49m\u001b[43margs\u001b[49m\u001b[38;5;241;43m=\u001b[39;49m\u001b[43margs\u001b[49m\u001b[43m,\u001b[49m\n\u001b[0;32m   2041\u001b[0m \u001b[43m        \u001b[49m\u001b[43mkwargs\u001b[49m\u001b[38;5;241;43m=\u001b[39;49m\u001b[43mkwargs\u001b[49m\u001b[43m,\u001b[49m\n\u001b[0;32m   2042\u001b[0m \u001b[43m    \u001b[49m\u001b[43m)\u001b[49m\n",
      "File \u001b[1;32mc:\\Users\\shara\\AppData\\Local\\Programs\\Python\\Python310\\lib\\site-packages\\pandas\\core\\window\\rolling.py:1500\u001b[0m, in \u001b[0;36mRollingAndExpandingMixin.apply\u001b[1;34m(self, func, raw, engine, engine_kwargs, args, kwargs)\u001b[0m\n\u001b[0;32m   1497\u001b[0m \u001b[38;5;28;01melse\u001b[39;00m:\n\u001b[0;32m   1498\u001b[0m     \u001b[38;5;28;01mraise\u001b[39;00m \u001b[38;5;167;01mValueError\u001b[39;00m(\u001b[38;5;124m\"\u001b[39m\u001b[38;5;124mengine must be either \u001b[39m\u001b[38;5;124m'\u001b[39m\u001b[38;5;124mnumba\u001b[39m\u001b[38;5;124m'\u001b[39m\u001b[38;5;124m or \u001b[39m\u001b[38;5;124m'\u001b[39m\u001b[38;5;124mcython\u001b[39m\u001b[38;5;124m'\u001b[39m\u001b[38;5;124m\"\u001b[39m)\n\u001b[1;32m-> 1500\u001b[0m \u001b[38;5;28;01mreturn\u001b[39;00m \u001b[38;5;28;43mself\u001b[39;49m\u001b[38;5;241;43m.\u001b[39;49m\u001b[43m_apply\u001b[49m\u001b[43m(\u001b[49m\n\u001b[0;32m   1501\u001b[0m \u001b[43m    \u001b[49m\u001b[43mapply_func\u001b[49m\u001b[43m,\u001b[49m\n\u001b[0;32m   1502\u001b[0m \u001b[43m    \u001b[49m\u001b[43mname\u001b[49m\u001b[38;5;241;43m=\u001b[39;49m\u001b[38;5;124;43m\"\u001b[39;49m\u001b[38;5;124;43mapply\u001b[39;49m\u001b[38;5;124;43m\"\u001b[39;49m\u001b[43m,\u001b[49m\n\u001b[0;32m   1503\u001b[0m \u001b[43m    \u001b[49m\u001b[43mnumba_args\u001b[49m\u001b[38;5;241;43m=\u001b[39;49m\u001b[43mnumba_args\u001b[49m\u001b[43m,\u001b[49m\n\u001b[0;32m   1504\u001b[0m \u001b[43m\u001b[49m\u001b[43m)\u001b[49m\n",
      "File \u001b[1;32mc:\\Users\\shara\\AppData\\Local\\Programs\\Python\\Python310\\lib\\site-packages\\pandas\\core\\window\\rolling.py:614\u001b[0m, in \u001b[0;36mBaseWindow._apply\u001b[1;34m(self, func, name, numeric_only, numba_args, **kwargs)\u001b[0m\n\u001b[0;32m    611\u001b[0m     \u001b[38;5;28;01mreturn\u001b[39;00m result\n\u001b[0;32m    613\u001b[0m \u001b[38;5;28;01mif\u001b[39;00m \u001b[38;5;28mself\u001b[39m\u001b[38;5;241m.\u001b[39mmethod \u001b[38;5;241m==\u001b[39m \u001b[38;5;124m\"\u001b[39m\u001b[38;5;124msingle\u001b[39m\u001b[38;5;124m\"\u001b[39m:\n\u001b[1;32m--> 614\u001b[0m     \u001b[38;5;28;01mreturn\u001b[39;00m \u001b[38;5;28;43mself\u001b[39;49m\u001b[38;5;241;43m.\u001b[39;49m\u001b[43m_apply_blockwise\u001b[49m\u001b[43m(\u001b[49m\u001b[43mhomogeneous_func\u001b[49m\u001b[43m,\u001b[49m\u001b[43m \u001b[49m\u001b[43mname\u001b[49m\u001b[43m,\u001b[49m\u001b[43m \u001b[49m\u001b[43mnumeric_only\u001b[49m\u001b[43m)\u001b[49m\n\u001b[0;32m    615\u001b[0m \u001b[38;5;28;01melse\u001b[39;00m:\n\u001b[0;32m    616\u001b[0m     \u001b[38;5;28;01mreturn\u001b[39;00m \u001b[38;5;28mself\u001b[39m\u001b[38;5;241m.\u001b[39m_apply_tablewise(homogeneous_func, name, numeric_only)\n",
      "File \u001b[1;32mc:\\Users\\shara\\AppData\\Local\\Programs\\Python\\Python310\\lib\\site-packages\\pandas\\core\\window\\rolling.py:467\u001b[0m, in \u001b[0;36mBaseWindow._apply_blockwise\u001b[1;34m(self, homogeneous_func, name, numeric_only)\u001b[0m\n\u001b[0;32m    465\u001b[0m \u001b[38;5;28mself\u001b[39m\u001b[38;5;241m.\u001b[39m_validate_numeric_only(name, numeric_only)\n\u001b[0;32m    466\u001b[0m \u001b[38;5;28;01mif\u001b[39;00m \u001b[38;5;28mself\u001b[39m\u001b[38;5;241m.\u001b[39m_selected_obj\u001b[38;5;241m.\u001b[39mndim \u001b[38;5;241m==\u001b[39m \u001b[38;5;241m1\u001b[39m:\n\u001b[1;32m--> 467\u001b[0m     \u001b[38;5;28;01mreturn\u001b[39;00m \u001b[38;5;28;43mself\u001b[39;49m\u001b[38;5;241;43m.\u001b[39;49m\u001b[43m_apply_series\u001b[49m\u001b[43m(\u001b[49m\u001b[43mhomogeneous_func\u001b[49m\u001b[43m,\u001b[49m\u001b[43m \u001b[49m\u001b[43mname\u001b[49m\u001b[43m)\u001b[49m\n\u001b[0;32m    469\u001b[0m obj \u001b[38;5;241m=\u001b[39m \u001b[38;5;28mself\u001b[39m\u001b[38;5;241m.\u001b[39m_create_data(\u001b[38;5;28mself\u001b[39m\u001b[38;5;241m.\u001b[39m_selected_obj, numeric_only)\n\u001b[0;32m    470\u001b[0m \u001b[38;5;28;01mif\u001b[39;00m name \u001b[38;5;241m==\u001b[39m \u001b[38;5;124m\"\u001b[39m\u001b[38;5;124mcount\u001b[39m\u001b[38;5;124m\"\u001b[39m:\n\u001b[0;32m    471\u001b[0m     \u001b[38;5;66;03m# GH 12541: Special case for count where we support date-like types\u001b[39;00m\n",
      "File \u001b[1;32mc:\\Users\\shara\\AppData\\Local\\Programs\\Python\\Python310\\lib\\site-packages\\pandas\\core\\window\\rolling.py:451\u001b[0m, in \u001b[0;36mBaseWindow._apply_series\u001b[1;34m(self, homogeneous_func, name)\u001b[0m\n\u001b[0;32m    448\u001b[0m \u001b[38;5;28;01mexcept\u001b[39;00m (\u001b[38;5;167;01mTypeError\u001b[39;00m, \u001b[38;5;167;01mNotImplementedError\u001b[39;00m) \u001b[38;5;28;01mas\u001b[39;00m err:\n\u001b[0;32m    449\u001b[0m     \u001b[38;5;28;01mraise\u001b[39;00m DataError(\u001b[38;5;124m\"\u001b[39m\u001b[38;5;124mNo numeric types to aggregate\u001b[39m\u001b[38;5;124m\"\u001b[39m) \u001b[38;5;28;01mfrom\u001b[39;00m \u001b[38;5;21;01merr\u001b[39;00m\n\u001b[1;32m--> 451\u001b[0m result \u001b[38;5;241m=\u001b[39m \u001b[43mhomogeneous_func\u001b[49m\u001b[43m(\u001b[49m\u001b[43mvalues\u001b[49m\u001b[43m)\u001b[49m\n\u001b[0;32m    452\u001b[0m index \u001b[38;5;241m=\u001b[39m \u001b[38;5;28mself\u001b[39m\u001b[38;5;241m.\u001b[39m_slice_axis_for_step(obj\u001b[38;5;241m.\u001b[39mindex, result)\n\u001b[0;32m    453\u001b[0m \u001b[38;5;28;01mreturn\u001b[39;00m obj\u001b[38;5;241m.\u001b[39m_constructor(result, index\u001b[38;5;241m=\u001b[39mindex, name\u001b[38;5;241m=\u001b[39mobj\u001b[38;5;241m.\u001b[39mname)\n",
      "File \u001b[1;32mc:\\Users\\shara\\AppData\\Local\\Programs\\Python\\Python310\\lib\\site-packages\\pandas\\core\\window\\rolling.py:609\u001b[0m, in \u001b[0;36mBaseWindow._apply.<locals>.homogeneous_func\u001b[1;34m(values)\u001b[0m\n\u001b[0;32m    606\u001b[0m     \u001b[38;5;28;01mreturn\u001b[39;00m func(x, start, end, min_periods, \u001b[38;5;241m*\u001b[39mnumba_args)\n\u001b[0;32m    608\u001b[0m \u001b[38;5;28;01mwith\u001b[39;00m np\u001b[38;5;241m.\u001b[39merrstate(\u001b[38;5;28mall\u001b[39m\u001b[38;5;241m=\u001b[39m\u001b[38;5;124m\"\u001b[39m\u001b[38;5;124mignore\u001b[39m\u001b[38;5;124m\"\u001b[39m):\n\u001b[1;32m--> 609\u001b[0m     result \u001b[38;5;241m=\u001b[39m \u001b[43mcalc\u001b[49m\u001b[43m(\u001b[49m\u001b[43mvalues\u001b[49m\u001b[43m)\u001b[49m\n\u001b[0;32m    611\u001b[0m \u001b[38;5;28;01mreturn\u001b[39;00m result\n",
      "File \u001b[1;32mc:\\Users\\shara\\AppData\\Local\\Programs\\Python\\Python310\\lib\\site-packages\\pandas\\core\\window\\rolling.py:606\u001b[0m, in \u001b[0;36mBaseWindow._apply.<locals>.homogeneous_func.<locals>.calc\u001b[1;34m(x)\u001b[0m\n\u001b[0;32m    597\u001b[0m start, end \u001b[38;5;241m=\u001b[39m window_indexer\u001b[38;5;241m.\u001b[39mget_window_bounds(\n\u001b[0;32m    598\u001b[0m     num_values\u001b[38;5;241m=\u001b[39m\u001b[38;5;28mlen\u001b[39m(x),\n\u001b[0;32m    599\u001b[0m     min_periods\u001b[38;5;241m=\u001b[39mmin_periods,\n\u001b[1;32m   (...)\u001b[0m\n\u001b[0;32m    602\u001b[0m     step\u001b[38;5;241m=\u001b[39m\u001b[38;5;28mself\u001b[39m\u001b[38;5;241m.\u001b[39mstep,\n\u001b[0;32m    603\u001b[0m )\n\u001b[0;32m    604\u001b[0m \u001b[38;5;28mself\u001b[39m\u001b[38;5;241m.\u001b[39m_check_window_bounds(start, end, \u001b[38;5;28mlen\u001b[39m(x))\n\u001b[1;32m--> 606\u001b[0m \u001b[38;5;28;01mreturn\u001b[39;00m \u001b[43mfunc\u001b[49m\u001b[43m(\u001b[49m\u001b[43mx\u001b[49m\u001b[43m,\u001b[49m\u001b[43m \u001b[49m\u001b[43mstart\u001b[49m\u001b[43m,\u001b[49m\u001b[43m \u001b[49m\u001b[43mend\u001b[49m\u001b[43m,\u001b[49m\u001b[43m \u001b[49m\u001b[43mmin_periods\u001b[49m\u001b[43m,\u001b[49m\u001b[43m \u001b[49m\u001b[38;5;241;43m*\u001b[39;49m\u001b[43mnumba_args\u001b[49m\u001b[43m)\u001b[49m\n",
      "File \u001b[1;32mc:\\Users\\shara\\AppData\\Local\\Programs\\Python\\Python310\\lib\\site-packages\\pandas\\core\\window\\rolling.py:1527\u001b[0m, in \u001b[0;36mRollingAndExpandingMixin._generate_cython_apply_func.<locals>.apply_func\u001b[1;34m(values, begin, end, min_periods, raw)\u001b[0m\n\u001b[0;32m   1524\u001b[0m \u001b[38;5;28;01mif\u001b[39;00m \u001b[38;5;129;01mnot\u001b[39;00m raw:\n\u001b[0;32m   1525\u001b[0m     \u001b[38;5;66;03m# GH 45912\u001b[39;00m\n\u001b[0;32m   1526\u001b[0m     values \u001b[38;5;241m=\u001b[39m Series(values, index\u001b[38;5;241m=\u001b[39m\u001b[38;5;28mself\u001b[39m\u001b[38;5;241m.\u001b[39m_on, copy\u001b[38;5;241m=\u001b[39m\u001b[38;5;28;01mFalse\u001b[39;00m)\n\u001b[1;32m-> 1527\u001b[0m \u001b[38;5;28;01mreturn\u001b[39;00m \u001b[43mwindow_func\u001b[49m\u001b[43m(\u001b[49m\u001b[43mvalues\u001b[49m\u001b[43m,\u001b[49m\u001b[43m \u001b[49m\u001b[43mbegin\u001b[49m\u001b[43m,\u001b[49m\u001b[43m \u001b[49m\u001b[43mend\u001b[49m\u001b[43m,\u001b[49m\u001b[43m \u001b[49m\u001b[43mmin_periods\u001b[49m\u001b[43m)\u001b[49m\n",
      "File \u001b[1;32maggregations.pyx:1423\u001b[0m, in \u001b[0;36mpandas._libs.window.aggregations.roll_apply\u001b[1;34m()\u001b[0m\n",
      "Cell \u001b[1;32mIn[29], line 11\u001b[0m, in \u001b[0;36mcalculate_rolled_results.<locals>.generate_equity_results.<locals>.<lambda>\u001b[1;34m(x)\u001b[0m\n\u001b[0;32m     10\u001b[0m \u001b[38;5;28;01mdef\u001b[39;00m \u001b[38;5;21mgenerate_equity_results\u001b[39m(df, window, confidence_interval, portfolio_VaR_nonparametric, portfolio_VaR_parametric, portfolio_ES, spectral_risk_measure, BRW_VaR, Modified_VaR):\n\u001b[1;32m---> 11\u001b[0m     var_portfolio_nonparametric_rolled_percentile \u001b[38;5;241m=\u001b[39m apply_rolling_window(df, window, \u001b[38;5;28;01mlambda\u001b[39;00m x: \u001b[43mportfolio_VaR_nonparametric\u001b[49m\u001b[43m(\u001b[49m\u001b[43mx\u001b[49m\u001b[43m,\u001b[49m\u001b[43m \u001b[49m\u001b[43mconfidence_interval\u001b[49m\u001b[43m)\u001b[49m)\n\u001b[0;32m     12\u001b[0m     var_portfolio_nonparametric_rolled \u001b[38;5;241m=\u001b[39m var_portfolio_nonparametric_rolled_percentile \u001b[38;5;241m*\u001b[39m portfolio_value\n\u001b[0;32m     13\u001b[0m     var_portfolio_parametric_rolled_percentile \u001b[38;5;241m=\u001b[39m apply_rolling_window(df, window, \u001b[38;5;28;01mlambda\u001b[39;00m x: portfolio_VaR_parametric(x, confidence_interval))\n",
      "Cell \u001b[1;32mIn[9], line 172\u001b[0m, in \u001b[0;36mportfolio_VaR_nonparametric\u001b[1;34m(portfolio_returns, portfolio_value, confidence_level)\u001b[0m\n\u001b[0;32m    170\u001b[0m \u001b[38;5;28;01mdef\u001b[39;00m \u001b[38;5;21mportfolio_VaR_nonparametric\u001b[39m(portfolio_returns, portfolio_value\u001b[38;5;241m=\u001b[39mmoney_invested, confidence_level\u001b[38;5;241m=\u001b[39m\u001b[38;5;241m0.99\u001b[39m):\n\u001b[1;32m--> 172\u001b[0m     portfolio_returns \u001b[38;5;241m=\u001b[39m \u001b[43mportfolio_returns\u001b[49m\u001b[38;5;241;43m.\u001b[39;49m\u001b[43mdrop\u001b[49m\u001b[43m(\u001b[49m\u001b[43mportfolio_returns\u001b[49m\u001b[38;5;241;43m.\u001b[39;49m\u001b[43mindex\u001b[49m\u001b[43m[\u001b[49m\u001b[38;5;241;43m0\u001b[39;49m\u001b[43m]\u001b[49m\u001b[43m)\u001b[49m\n\u001b[0;32m    174\u001b[0m     \u001b[38;5;66;03m# Calculate VaR using historical simulation\u001b[39;00m\n\u001b[0;32m    175\u001b[0m     var_percentage \u001b[38;5;241m=\u001b[39m np\u001b[38;5;241m.\u001b[39mpercentile(portfolio_returns, \u001b[38;5;241m100\u001b[39m \u001b[38;5;241m*\u001b[39m (\u001b[38;5;241m1\u001b[39m \u001b[38;5;241m-\u001b[39m confidence_level))\n",
      "File \u001b[1;32mc:\\Users\\shara\\AppData\\Local\\Programs\\Python\\Python310\\lib\\site-packages\\pandas\\core\\series.py:5144\u001b[0m, in \u001b[0;36mSeries.drop\u001b[1;34m(self, labels, axis, index, columns, level, inplace, errors)\u001b[0m\n\u001b[0;32m   5047\u001b[0m \u001b[38;5;28;01mdef\u001b[39;00m \u001b[38;5;21mdrop\u001b[39m(\n\u001b[0;32m   5048\u001b[0m     \u001b[38;5;28mself\u001b[39m,\n\u001b[0;32m   5049\u001b[0m     labels: IndexLabel \u001b[38;5;241m|\u001b[39m \u001b[38;5;28;01mNone\u001b[39;00m \u001b[38;5;241m=\u001b[39m \u001b[38;5;28;01mNone\u001b[39;00m,\n\u001b[1;32m   (...)\u001b[0m\n\u001b[0;32m   5056\u001b[0m     errors: IgnoreRaise \u001b[38;5;241m=\u001b[39m \u001b[38;5;124m\"\u001b[39m\u001b[38;5;124mraise\u001b[39m\u001b[38;5;124m\"\u001b[39m,\n\u001b[0;32m   5057\u001b[0m ) \u001b[38;5;241m-\u001b[39m\u001b[38;5;241m>\u001b[39m Series \u001b[38;5;241m|\u001b[39m \u001b[38;5;28;01mNone\u001b[39;00m:\n\u001b[0;32m   5058\u001b[0m \u001b[38;5;250m    \u001b[39m\u001b[38;5;124;03m\"\"\"\u001b[39;00m\n\u001b[0;32m   5059\u001b[0m \u001b[38;5;124;03m    Return Series with specified index labels removed.\u001b[39;00m\n\u001b[0;32m   5060\u001b[0m \n\u001b[1;32m   (...)\u001b[0m\n\u001b[0;32m   5142\u001b[0m \u001b[38;5;124;03m    dtype: float64\u001b[39;00m\n\u001b[0;32m   5143\u001b[0m \u001b[38;5;124;03m    \"\"\"\u001b[39;00m\n\u001b[1;32m-> 5144\u001b[0m     \u001b[38;5;28;01mreturn\u001b[39;00m \u001b[38;5;28;43msuper\u001b[39;49m\u001b[43m(\u001b[49m\u001b[43m)\u001b[49m\u001b[38;5;241;43m.\u001b[39;49m\u001b[43mdrop\u001b[49m\u001b[43m(\u001b[49m\n\u001b[0;32m   5145\u001b[0m \u001b[43m        \u001b[49m\u001b[43mlabels\u001b[49m\u001b[38;5;241;43m=\u001b[39;49m\u001b[43mlabels\u001b[49m\u001b[43m,\u001b[49m\n\u001b[0;32m   5146\u001b[0m \u001b[43m        \u001b[49m\u001b[43maxis\u001b[49m\u001b[38;5;241;43m=\u001b[39;49m\u001b[43maxis\u001b[49m\u001b[43m,\u001b[49m\n\u001b[0;32m   5147\u001b[0m \u001b[43m        \u001b[49m\u001b[43mindex\u001b[49m\u001b[38;5;241;43m=\u001b[39;49m\u001b[43mindex\u001b[49m\u001b[43m,\u001b[49m\n\u001b[0;32m   5148\u001b[0m \u001b[43m        \u001b[49m\u001b[43mcolumns\u001b[49m\u001b[38;5;241;43m=\u001b[39;49m\u001b[43mcolumns\u001b[49m\u001b[43m,\u001b[49m\n\u001b[0;32m   5149\u001b[0m \u001b[43m        \u001b[49m\u001b[43mlevel\u001b[49m\u001b[38;5;241;43m=\u001b[39;49m\u001b[43mlevel\u001b[49m\u001b[43m,\u001b[49m\n\u001b[0;32m   5150\u001b[0m \u001b[43m        \u001b[49m\u001b[43minplace\u001b[49m\u001b[38;5;241;43m=\u001b[39;49m\u001b[43minplace\u001b[49m\u001b[43m,\u001b[49m\n\u001b[0;32m   5151\u001b[0m \u001b[43m        \u001b[49m\u001b[43merrors\u001b[49m\u001b[38;5;241;43m=\u001b[39;49m\u001b[43merrors\u001b[49m\u001b[43m,\u001b[49m\n\u001b[0;32m   5152\u001b[0m \u001b[43m    \u001b[49m\u001b[43m)\u001b[49m\n",
      "File \u001b[1;32mc:\\Users\\shara\\AppData\\Local\\Programs\\Python\\Python310\\lib\\site-packages\\pandas\\core\\generic.py:4711\u001b[0m, in \u001b[0;36mNDFrame.drop\u001b[1;34m(self, labels, axis, index, columns, level, inplace, errors)\u001b[0m\n\u001b[0;32m   4709\u001b[0m \u001b[38;5;28;01mfor\u001b[39;00m axis, labels \u001b[38;5;129;01min\u001b[39;00m axes\u001b[38;5;241m.\u001b[39mitems():\n\u001b[0;32m   4710\u001b[0m     \u001b[38;5;28;01mif\u001b[39;00m labels \u001b[38;5;129;01mis\u001b[39;00m \u001b[38;5;129;01mnot\u001b[39;00m \u001b[38;5;28;01mNone\u001b[39;00m:\n\u001b[1;32m-> 4711\u001b[0m         obj \u001b[38;5;241m=\u001b[39m \u001b[43mobj\u001b[49m\u001b[38;5;241;43m.\u001b[39;49m\u001b[43m_drop_axis\u001b[49m\u001b[43m(\u001b[49m\u001b[43mlabels\u001b[49m\u001b[43m,\u001b[49m\u001b[43m \u001b[49m\u001b[43maxis\u001b[49m\u001b[43m,\u001b[49m\u001b[43m \u001b[49m\u001b[43mlevel\u001b[49m\u001b[38;5;241;43m=\u001b[39;49m\u001b[43mlevel\u001b[49m\u001b[43m,\u001b[49m\u001b[43m \u001b[49m\u001b[43merrors\u001b[49m\u001b[38;5;241;43m=\u001b[39;49m\u001b[43merrors\u001b[49m\u001b[43m)\u001b[49m\n\u001b[0;32m   4713\u001b[0m \u001b[38;5;28;01mif\u001b[39;00m inplace:\n\u001b[0;32m   4714\u001b[0m     \u001b[38;5;28mself\u001b[39m\u001b[38;5;241m.\u001b[39m_update_inplace(obj)\n",
      "File \u001b[1;32mc:\\Users\\shara\\AppData\\Local\\Programs\\Python\\Python310\\lib\\site-packages\\pandas\\core\\generic.py:4753\u001b[0m, in \u001b[0;36mNDFrame._drop_axis\u001b[1;34m(self, labels, axis, level, errors, only_slice)\u001b[0m\n\u001b[0;32m   4751\u001b[0m         new_axis \u001b[38;5;241m=\u001b[39m axis\u001b[38;5;241m.\u001b[39mdrop(labels, level\u001b[38;5;241m=\u001b[39mlevel, errors\u001b[38;5;241m=\u001b[39merrors)\n\u001b[0;32m   4752\u001b[0m     \u001b[38;5;28;01melse\u001b[39;00m:\n\u001b[1;32m-> 4753\u001b[0m         new_axis \u001b[38;5;241m=\u001b[39m \u001b[43maxis\u001b[49m\u001b[38;5;241;43m.\u001b[39;49m\u001b[43mdrop\u001b[49m\u001b[43m(\u001b[49m\u001b[43mlabels\u001b[49m\u001b[43m,\u001b[49m\u001b[43m \u001b[49m\u001b[43merrors\u001b[49m\u001b[38;5;241;43m=\u001b[39;49m\u001b[43merrors\u001b[49m\u001b[43m)\u001b[49m\n\u001b[0;32m   4754\u001b[0m     indexer \u001b[38;5;241m=\u001b[39m axis\u001b[38;5;241m.\u001b[39mget_indexer(new_axis)\n\u001b[0;32m   4756\u001b[0m \u001b[38;5;66;03m# Case for non-unique axis\u001b[39;00m\n\u001b[0;32m   4757\u001b[0m \u001b[38;5;28;01melse\u001b[39;00m:\n",
      "File \u001b[1;32mc:\\Users\\shara\\AppData\\Local\\Programs\\Python\\Python310\\lib\\site-packages\\pandas\\core\\indexes\\base.py:6988\u001b[0m, in \u001b[0;36mIndex.drop\u001b[1;34m(self, labels, errors)\u001b[0m\n\u001b[0;32m   6985\u001b[0m     arr_dtype \u001b[38;5;241m=\u001b[39m \u001b[38;5;124m\"\u001b[39m\u001b[38;5;124mobject\u001b[39m\u001b[38;5;124m\"\u001b[39m \u001b[38;5;28;01mif\u001b[39;00m \u001b[38;5;28mself\u001b[39m\u001b[38;5;241m.\u001b[39mdtype \u001b[38;5;241m==\u001b[39m \u001b[38;5;124m\"\u001b[39m\u001b[38;5;124mobject\u001b[39m\u001b[38;5;124m\"\u001b[39m \u001b[38;5;28;01melse\u001b[39;00m \u001b[38;5;28;01mNone\u001b[39;00m\n\u001b[0;32m   6986\u001b[0m     labels \u001b[38;5;241m=\u001b[39m com\u001b[38;5;241m.\u001b[39mindex_labels_to_array(labels, dtype\u001b[38;5;241m=\u001b[39marr_dtype)\n\u001b[1;32m-> 6988\u001b[0m indexer \u001b[38;5;241m=\u001b[39m \u001b[38;5;28;43mself\u001b[39;49m\u001b[38;5;241;43m.\u001b[39;49m\u001b[43mget_indexer_for\u001b[49m\u001b[43m(\u001b[49m\u001b[43mlabels\u001b[49m\u001b[43m)\u001b[49m\n\u001b[0;32m   6989\u001b[0m mask \u001b[38;5;241m=\u001b[39m indexer \u001b[38;5;241m==\u001b[39m \u001b[38;5;241m-\u001b[39m\u001b[38;5;241m1\u001b[39m\n\u001b[0;32m   6990\u001b[0m \u001b[38;5;28;01mif\u001b[39;00m mask\u001b[38;5;241m.\u001b[39many():\n",
      "File \u001b[1;32mc:\\Users\\shara\\AppData\\Local\\Programs\\Python\\Python310\\lib\\site-packages\\pandas\\core\\indexes\\base.py:6096\u001b[0m, in \u001b[0;36mIndex.get_indexer_for\u001b[1;34m(self, target)\u001b[0m\n\u001b[0;32m   6078\u001b[0m \u001b[38;5;250m\u001b[39m\u001b[38;5;124;03m\"\"\"\u001b[39;00m\n\u001b[0;32m   6079\u001b[0m \u001b[38;5;124;03mGuaranteed return of an indexer even when non-unique.\u001b[39;00m\n\u001b[0;32m   6080\u001b[0m \n\u001b[1;32m   (...)\u001b[0m\n\u001b[0;32m   6093\u001b[0m \u001b[38;5;124;03marray([0, 2])\u001b[39;00m\n\u001b[0;32m   6094\u001b[0m \u001b[38;5;124;03m\"\"\"\u001b[39;00m\n\u001b[0;32m   6095\u001b[0m \u001b[38;5;28;01mif\u001b[39;00m \u001b[38;5;28mself\u001b[39m\u001b[38;5;241m.\u001b[39m_index_as_unique:\n\u001b[1;32m-> 6096\u001b[0m     \u001b[38;5;28;01mreturn\u001b[39;00m \u001b[38;5;28;43mself\u001b[39;49m\u001b[38;5;241;43m.\u001b[39;49m\u001b[43mget_indexer\u001b[49m\u001b[43m(\u001b[49m\u001b[43mtarget\u001b[49m\u001b[43m)\u001b[49m\n\u001b[0;32m   6097\u001b[0m indexer, _ \u001b[38;5;241m=\u001b[39m \u001b[38;5;28mself\u001b[39m\u001b[38;5;241m.\u001b[39mget_indexer_non_unique(target)\n\u001b[0;32m   6098\u001b[0m \u001b[38;5;28;01mreturn\u001b[39;00m indexer\n",
      "File \u001b[1;32mc:\\Users\\shara\\AppData\\Local\\Programs\\Python\\Python310\\lib\\site-packages\\pandas\\core\\indexes\\base.py:3942\u001b[0m, in \u001b[0;36mIndex.get_indexer\u001b[1;34m(self, target, method, limit, tolerance)\u001b[0m\n\u001b[0;32m   3937\u001b[0m     target \u001b[38;5;241m=\u001b[39m target\u001b[38;5;241m.\u001b[39mastype(dtype, copy\u001b[38;5;241m=\u001b[39m\u001b[38;5;28;01mFalse\u001b[39;00m)\n\u001b[0;32m   3938\u001b[0m     \u001b[38;5;28;01mreturn\u001b[39;00m this\u001b[38;5;241m.\u001b[39m_get_indexer(\n\u001b[0;32m   3939\u001b[0m         target, method\u001b[38;5;241m=\u001b[39mmethod, limit\u001b[38;5;241m=\u001b[39mlimit, tolerance\u001b[38;5;241m=\u001b[39mtolerance\n\u001b[0;32m   3940\u001b[0m     )\n\u001b[1;32m-> 3942\u001b[0m \u001b[38;5;28;01mreturn\u001b[39;00m \u001b[38;5;28;43mself\u001b[39;49m\u001b[38;5;241;43m.\u001b[39;49m\u001b[43m_get_indexer\u001b[49m\u001b[43m(\u001b[49m\u001b[43mtarget\u001b[49m\u001b[43m,\u001b[49m\u001b[43m \u001b[49m\u001b[43mmethod\u001b[49m\u001b[43m,\u001b[49m\u001b[43m \u001b[49m\u001b[43mlimit\u001b[49m\u001b[43m,\u001b[49m\u001b[43m \u001b[49m\u001b[43mtolerance\u001b[49m\u001b[43m)\u001b[49m\n",
      "File \u001b[1;32mc:\\Users\\shara\\AppData\\Local\\Programs\\Python\\Python310\\lib\\site-packages\\pandas\\core\\indexes\\base.py:3969\u001b[0m, in \u001b[0;36mIndex._get_indexer\u001b[1;34m(self, target, method, limit, tolerance)\u001b[0m\n\u001b[0;32m   3966\u001b[0m     \u001b[38;5;28;01melse\u001b[39;00m:\n\u001b[0;32m   3967\u001b[0m         tgt_values \u001b[38;5;241m=\u001b[39m target\u001b[38;5;241m.\u001b[39m_get_engine_target()\n\u001b[1;32m-> 3969\u001b[0m     indexer \u001b[38;5;241m=\u001b[39m \u001b[38;5;28;43mself\u001b[39;49m\u001b[38;5;241;43m.\u001b[39;49m\u001b[43m_engine\u001b[49m\u001b[38;5;241;43m.\u001b[39;49m\u001b[43mget_indexer\u001b[49m\u001b[43m(\u001b[49m\u001b[43mtgt_values\u001b[49m\u001b[43m)\u001b[49m\n\u001b[0;32m   3971\u001b[0m \u001b[38;5;28;01mreturn\u001b[39;00m ensure_platform_int(indexer)\n",
      "\u001b[1;31mKeyboardInterrupt\u001b[0m: "
     ]
    }
   ],
   "source": [
    "equity_results = calculate_rolled_results(df_excess_equity_daily_returns, end_date='27-03-2024', window=window, confidence_interval=.99)\n",
    "print(equity_results)\n",
    "\n"
   ]
  },
  {
   "cell_type": "code",
   "execution_count": null,
   "metadata": {},
   "outputs": [
    {
     "name": "stdout",
     "output_type": "stream",
     "text": [
      "                         16-06-2021 to 2024-03-27 00:00:00 Rolled Results at 0.99 Confidence Interval  \\\n",
      "                                                                                                  MVP   \n",
      "ES rolled                                                     -26349.318887                             \n",
      "VaR nonparametric rolled                                      -22785.832417                             \n",
      "VaR parametric rolled                                         -19083.619219                             \n",
      "\n",
      "                                                         \n",
      "                               Optimal Equally Weighted  \n",
      "ES rolled                -38807.314622    -34670.701569  \n",
      "VaR nonparametric rolled -33844.574944    -28572.592630  \n",
      "VaR parametric rolled    -32810.771861    -22729.976218  \n"
     ]
    }
   ],
   "source": [
    "equity_results = calculate_rolled_results(df_excess_equity_daily_returns, end_date='27-03-2024', window=window, confidence_interval=.99)\n",
    "print(equity_results)\n",
    "\n",
    "\n"
   ]
  },
  {
   "cell_type": "markdown",
   "metadata": {},
   "source": [
    "#### Debt"
   ]
  },
  {
   "cell_type": "code",
   "execution_count": null,
   "metadata": {},
   "outputs": [
    {
     "name": "stdout",
     "output_type": "stream",
     "text": [
      "                         16-06-2020 to 2024-03-27 00:00:00 Rolled Results at 0.99 Confidence Interval  \\\n",
      "                                                                                                  MVP   \n",
      "ES rolled                                                     -25821.302880                             \n",
      "VaR nonparametric rolled                                      -22271.835619                             \n",
      "VaR parametric rolled                                         -18793.491187                             \n",
      "\n",
      "                                                         \n",
      "                               Optimal Equally Weighted  \n",
      "ES rolled                -39564.388045     -32391.80775  \n",
      "VaR nonparametric rolled -33612.160344     -25766.77950  \n",
      "VaR parametric rolled    -32923.892758     -21990.98583  \n"
     ]
    }
   ],
   "source": [
    "debt_results = calculate_rolled_results(df_excess_bonds_daily_returns, end_date='27-03-2024', window=window+252, confidence_interval=.99)\n",
    "print(debt_results)\n"
   ]
  },
  {
   "cell_type": "code",
   "execution_count": null,
   "metadata": {},
   "outputs": [
    {
     "name": "stdout",
     "output_type": "stream",
     "text": [
      "                         15-06-2022 to 2024-03-27 00:00:00 Rolled Results at 0.99 Confidence Interval  \\\n",
      "                                                                                                  MVP   \n",
      "ES rolled                                                     -23011.030899                             \n",
      "VaR nonparametric rolled                                      -18711.404980                             \n",
      "VaR parametric rolled                                         -18309.686650                             \n",
      "\n",
      "                                                         \n",
      "                               Optimal Equally Weighted  \n",
      "ES rolled                -34754.841910    -28833.459534  \n",
      "VaR nonparametric rolled -31621.973327    -22856.933396  \n",
      "VaR parametric rolled    -31275.616379    -21424.758085  \n"
     ]
    }
   ],
   "source": [
    "debt_results = calculate_rolled_results(df_excess_bonds_daily_returns, end_date='27-03-2024', window=window-252, confidence_interval=.99)\n",
    "print(debt_results)\n"
   ]
  },
  {
   "cell_type": "code",
   "execution_count": null,
   "metadata": {},
   "outputs": [
    {
     "name": "stdout",
     "output_type": "stream",
     "text": [
      "                         16-06-2021 to 2024-03-27 00:00:00 Rolled Results at 0.99 Confidence Interval  \\\n",
      "                                                                                                  MVP   \n",
      "ES rolled                                                     -26349.318887                             \n",
      "VaR nonparametric rolled                                      -22785.832417                             \n",
      "VaR parametric rolled                                         -19083.619219                             \n",
      "\n",
      "                                                         \n",
      "                               Optimal Equally Weighted  \n",
      "ES rolled                -38807.314622    -34670.701569  \n",
      "VaR nonparametric rolled -33844.574944    -28572.592630  \n",
      "VaR parametric rolled    -32810.771861    -22729.976218  \n"
     ]
    }
   ],
   "source": [
    "debt_results = calculate_rolled_results(df_excess_bonds_daily_returns, end_date='27-03-2024', window=window, confidence_interval=.99)\n",
    "print(debt_results)\n"
   ]
  },
  {
   "cell_type": "markdown",
   "metadata": {},
   "source": [
    "# Creating Graphs of Returns with Normality Test"
   ]
  },
  {
   "cell_type": "code",
   "execution_count": null,
   "metadata": {},
   "outputs": [],
   "source": [
    "def plot_and_test_normality(df, col_names, window_size=window, end_date='2024-03-28', df_name='Name', save_folder=\"Graphs\"):\n",
    "    df = df.drop(df.index[0])\n",
    "    \n",
    "    # Create save folder if it doesn't exist\n",
    "    if not os.path.exists(save_folder):\n",
    "        os.makedirs(save_folder)\n",
    "    \n",
    "    if end_date is not None:\n",
    "        # Select data up to the end date\n",
    "        df = df.loc[:end_date]\n",
    "    \n",
    "    if window_size is not None:\n",
    "        # Select the most recent window of data\n",
    "        df = df.tail(window_size)\n",
    "    \n",
    "    for col_name in col_names:\n",
    "        data = df[col_name]\n",
    "        # Plot histogram\n",
    "        plt.hist(data, bins=40, color='skyblue', edgecolor='black')\n",
    "        # Construct title with keywords\n",
    "        title = 'Histogram of {} {} Portfolio'.format(col_name, df_name)\n",
    "        plt.title(title)\n",
    "        plt.xlabel('Value')\n",
    "        plt.ylabel('Frequency')\n",
    "        plt.savefig(\"{}/{}_histogram.svg\".format(save_folder, col_name), format='svg')\n",
    "        plt.show()\n",
    "\n",
    "        # Calculate and print standard deviation\n",
    "        std_dev = data.std()\n",
    "        print(\"Standard Deviation of\", col_name, df_name,\":\", std_dev)\n",
    "\n",
    "        # Perform Shapiro-Wilk test for normality\n",
    "        stat, p = shapiro(data)\n",
    "        print(\"Shapiro-Wilk Test for\", col_name)\n",
    "        print(\"Test Statistic:\", stat)\n",
    "        print(\"p-value:\", p)\n",
    "        if p > 0.05:\n",
    "            print(\"The data in {} portfolio appears to be normally distributed (fail to reject H0)\".format(col_name))\n",
    "        else:\n",
    "            print(\"The data in {} portfolio does not appear to be normally distributed (reject H0)\".format(col_name))"
   ]
  },
  {
   "cell_type": "code",
   "execution_count": null,
   "metadata": {},
   "outputs": [
    {
     "data": {
      "image/png": "[encoded data removed]",
      "text/plain": [
       "<Figure size 640x480 with 1 Axes>"
      ]
     },
     "metadata": {},
     "output_type": "display_data"
    },
    {
     "name": "stdout",
     "output_type": "stream",
     "text": [
      "Standard Deviation of Optimal Bond : 0.014826962497794836\n",
      "Shapiro-Wilk Test for Optimal\n",
      "Test Statistic: 0.9820937514305115\n",
      "p-value: 1.5024085087134154e-07\n",
      "The data in Optimal portfolio does not appear to be normally distributed (reject H0)\n"
     ]
    },
    {
     "data": {
      "image/png": "[encoded data removed]",
      "text/plain": [
       "<Figure size 640x480 with 1 Axes>"
      ]
     },
     "metadata": {},
     "output_type": "display_data"
    },
    {
     "name": "stdout",
     "output_type": "stream",
     "text": [
      "Standard Deviation of MVP Bond : 0.008570369079444902\n",
      "Shapiro-Wilk Test for MVP\n",
      "Test Statistic: 0.989858865737915\n",
      "p-value: 9.346529259346426e-05\n",
      "The data in MVP portfolio does not appear to be normally distributed (reject H0)\n"
     ]
    },
    {
     "data": {
      "image/png": "[encoded data removed]",
      "text/plain": [
       "<Figure size 640x480 with 1 Axes>"
      ]
     },
     "metadata": {},
     "output_type": "display_data"
    },
    {
     "name": "stdout",
     "output_type": "stream",
     "text": [
      "Standard Deviation of Equally Weighted Bond : 0.010231503885522563\n",
      "Shapiro-Wilk Test for Equally Weighted\n",
      "Test Statistic: 0.9775558710098267\n",
      "p-value: 6.965921617307913e-09\n",
      "The data in Equally Weighted portfolio does not appear to be normally distributed (reject H0)\n"
     ]
    }
   ],
   "source": [
    "plot_and_test_normality(df_excess_bonds_daily_returns,['Optimal','MVP','Equally Weighted'],df_name='Bond',save_folder=\"bond Graphs\")"
   ]
  },
  {
   "cell_type": "code",
   "execution_count": null,
   "metadata": {},
   "outputs": [
    {
     "data": {
      "image/png": "[encoded data removed]",
      "text/plain": [
       "<Figure size 640x480 with 1 Axes>"
      ]
     },
     "metadata": {},
     "output_type": "display_data"
    },
    {
     "name": "stdout",
     "output_type": "stream",
     "text": [
      "Standard Deviation of Optimal Equity : 0.017632079200025266\n",
      "Shapiro-Wilk Test for Optimal\n",
      "Test Statistic: 0.8894096612930298\n",
      "p-value: 5.607407592218412e-22\n",
      "The data in Optimal portfolio does not appear to be normally distributed (reject H0)\n"
     ]
    },
    {
     "data": {
      "image/png": "[encoded data removed]",
      "text/plain": [
       "<Figure size 640x480 with 1 Axes>"
      ]
     },
     "metadata": {},
     "output_type": "display_data"
    },
    {
     "name": "stdout",
     "output_type": "stream",
     "text": [
      "Standard Deviation of MVP Equity : 0.01227128882895284\n",
      "Shapiro-Wilk Test for MVP\n",
      "Test Statistic: 0.8035956621170044\n",
      "p-value: 2.7758247732520944e-28\n",
      "The data in MVP portfolio does not appear to be normally distributed (reject H0)\n"
     ]
    },
    {
     "data": {
      "image/png": "[encoded data removed]",
      "text/plain": [
       "<Figure size 640x480 with 1 Axes>"
      ]
     },
     "metadata": {},
     "output_type": "display_data"
    },
    {
     "name": "stdout",
     "output_type": "stream",
     "text": [
      "Standard Deviation of Equally Weighted Equity : 0.014095509866550627\n",
      "Shapiro-Wilk Test for Equally Weighted\n",
      "Test Statistic: 0.8076553344726562\n",
      "p-value: 4.869725419962792e-28\n",
      "The data in Equally Weighted portfolio does not appear to be normally distributed (reject H0)\n"
     ]
    }
   ],
   "source": [
    "plot_and_test_normality(df_excess_equity_daily_returns,['Optimal','MVP','Equally Weighted'],df_name='Equity',save_folder=\"Equity Graphs 2022\",end_date='2022-03-28')"
   ]
  },
  {
   "cell_type": "code",
   "execution_count": null,
   "metadata": {},
   "outputs": [
    {
     "data": {
      "image/png": "[encoded data removed]",
      "text/plain": [
       "<Figure size 640x480 with 1 Axes>"
      ]
     },
     "metadata": {},
     "output_type": "display_data"
    },
    {
     "name": "stdout",
     "output_type": "stream",
     "text": [
      "Standard Deviation of Optimal Combined : 0.011194293156231196\n",
      "Shapiro-Wilk Test for Optimal\n",
      "Test Statistic: 0.983628511428833\n",
      "p-value: 4.682655116994283e-07\n",
      "The data in Optimal portfolio does not appear to be normally distributed (reject H0)\n"
     ]
    },
    {
     "data": {
      "image/png": "[encoded data removed]",
      "text/plain": [
       "<Figure size 640x480 with 1 Axes>"
      ]
     },
     "metadata": {},
     "output_type": "display_data"
    },
    {
     "name": "stdout",
     "output_type": "stream",
     "text": [
      "Standard Deviation of MVP Combined : 0.00323735767444967\n",
      "Shapiro-Wilk Test for MVP\n",
      "Test Statistic: 0.990304708480835\n",
      "p-value: 0.0001437140890629962\n",
      "The data in MVP portfolio does not appear to be normally distributed (reject H0)\n"
     ]
    },
    {
     "data": {
      "image/png": "[encoded data removed]",
      "text/plain": [
       "<Figure size 640x480 with 1 Axes>"
      ]
     },
     "metadata": {},
     "output_type": "display_data"
    },
    {
     "name": "stdout",
     "output_type": "stream",
     "text": [
      "Standard Deviation of Equally Weighted Combined : 0.007508477988750555\n",
      "Shapiro-Wilk Test for Equally Weighted\n",
      "Test Statistic: 0.9762327671051025\n",
      "p-value: 3.050555141825839e-09\n",
      "The data in Equally Weighted portfolio does not appear to be normally distributed (reject H0)\n"
     ]
    }
   ],
   "source": [
    "plot_and_test_normality(df_combined_returns,['Optimal','MVP','Equally Weighted'],df_name='Combined',save_folder=\"Combined Graphs\")"
   ]
  },
  {
   "cell_type": "markdown",
   "metadata": {},
   "source": [
    "## Alternate Risk measures\n"
   ]
  },
  {
   "cell_type": "code",
   "execution_count": null,
   "metadata": {},
   "outputs": [
    {
     "name": "stdout",
     "output_type": "stream",
     "text": [
      "MVP                 0.014946\n",
      "Optimal             0.017779\n",
      "Equally Weighted    0.015553\n",
      "dtype: float64\n"
     ]
    }
   ],
   "source": [
    "import numpy as np\n",
    "import pandas as pd\n",
    "def downside_semi_deviation(returns, target_return=0):\n",
    "    \"\"\"\n",
    "    Calculate the Downside Semi-Deviation of returns below a target threshold.\n",
    "    \n",
    "    Parameters:\n",
    "    - returns (array-like): The list or array of returns.\n",
    "    - target_return (float): The target or threshold return below which variability is measured.\n",
    "\n",
    "    Returns:\n",
    "    - float: The Downside Semi-Deviation.\n",
    "    \"\"\"\n",
    "    returns = np.array(returns)\n",
    "    negative_diffs = returns[returns < target_return]\n",
    "    squared_deviations = (negative_diffs - target_return) ** 2\n",
    "    mean_squared_deviations = np.mean(squared_deviations)\n",
    "    return np.sqrt(mean_squared_deviations) if negative_diffs.size > 0 else 0\n",
    "downside_semi_devs = df_excess_bonds_daily_returns.apply(lambda col: downside_semi_deviation(col, 0.01235))\n",
    "print(downside_semi_devs)"
   ]
  },
  {
   "cell_type": "code",
   "execution_count": null,
   "metadata": {},
   "outputs": [
    {
     "name": "stdout",
     "output_type": "stream",
     "text": [
      "MVP                 0.012613\n",
      "Optimal             0.022790\n",
      "Equally Weighted    0.012719\n",
      "dtype: float64\n"
     ]
    }
   ],
   "source": [
    "downside_semi_devs = df_excess_daily_daily_returns.apply(lambda col: downside_semi_deviation(col, 0.01235))\n",
    "print(downside_semi_devs)"
   ]
  },
  {
   "cell_type": "code",
   "execution_count": null,
   "metadata": {},
   "outputs": [
    {
     "name": "stdout",
     "output_type": "stream",
     "text": [
      "MVP                 0.012483\n",
      "Optimal             0.015376\n",
      "Equally Weighted    0.013852\n",
      "dtype: float64\n"
     ]
    }
   ],
   "source": [
    "downside_semi_devs = df_excess_daily_returns.apply(lambda col: downside_semi_deviation(col, 0.01235))\n",
    "print(downside_semi_devs)"
   ]
  },
  {
   "cell_type": "code",
   "execution_count": null,
   "metadata": {},
   "outputs": [
    {
     "name": "stdout",
     "output_type": "stream",
     "text": [
      "MVP                 0.011782\n",
      "Optimal             0.011124\n",
      "Equally Weighted    0.011633\n",
      "dtype: float64\n"
     ]
    }
   ],
   "source": [
    "import numpy as np\n",
    "\n",
    "def exponential_srm(returns, threshold, theta):\n",
    "    \"\"\"\n",
    "    Calculate the Exponential Shortfall Risk Measure for a series of returns.\n",
    "    \n",
    "    Parameters:\n",
    "    - returns (array-like): The list or array of returns.\n",
    "    - threshold (float): The target or threshold return.\n",
    "    - theta (float): The risk aversion parameter.\n",
    "    \n",
    "    Returns:\n",
    "    - float: The Exponential Shortfall Risk Measure.\n",
    "    \"\"\"\n",
    "    returns = np.array(returns)\n",
    "    exponential_terms = np.exp(-theta * (returns - threshold))\n",
    "    average_exponential = np.mean(exponential_terms)\n",
    "    return (1 / theta) * np.log(average_exponential)\n",
    "# Parameters\n",
    "threshold = 0.01235  # Example threshold\n",
    "theta = 0.1        # Example theta value\n",
    "\n",
    "# Applying the function to each column of the DataFrame\n",
    "exponential_srm_values = df_excess_bonds_daily_returns.apply(lambda col: exponential_srm(col, threshold, theta))\n",
    "\n",
    "print(exponential_srm_values)\n"
   ]
  },
  {
   "cell_type": "code",
   "execution_count": null,
   "metadata": {},
   "outputs": [
    {
     "name": "stdout",
     "output_type": "stream",
     "text": [
      "MVP                 0.012327\n",
      "Optimal             0.012845\n",
      "Equally Weighted    0.012282\n",
      "dtype: float64\n"
     ]
    }
   ],
   "source": [
    "exponential_srm_values = df_excess_daily_daily_returns.apply(lambda col: exponential_srm(col, threshold, theta))\n",
    "print(exponential_srm_values)"
   ]
  },
  {
   "cell_type": "code",
   "execution_count": null,
   "metadata": {},
   "outputs": [
    {
     "name": "stdout",
     "output_type": "stream",
     "text": [
      "MVP                 0.012269\n",
      "Optimal             0.011417\n",
      "Equally Weighted    0.011835\n",
      "dtype: float64\n"
     ]
    }
   ],
   "source": [
    "exponential_srm_values = df_excess_daily_returns.apply(lambda col: exponential_srm(col, threshold, theta))\n",
    "print(exponential_srm_values)"
   ]
  },
  {
   "cell_type": "markdown",
   "metadata": {},
   "source": [
    "## Backtesting"
   ]
  },
  {
   "cell_type": "code",
   "execution_count": 44,
   "metadata": {},
   "outputs": [],
   "source": [
    "from math import ceil\n",
    "from scipy import stats\n",
    "import pandas as pd"
   ]
  },
  {
   "cell_type": "code",
   "execution_count": 83,
   "metadata": {},
   "outputs": [],
   "source": [
    "\n",
    "def backtesting(returns, WE, p, chart_name=None):\n",
    "    returns = returns.drop(returns.index[0])\n",
    "    T = len(returns)\n",
    "    l1 = ceil(WE * p)\n",
    "    value = 1\n",
    "    VaR = np.full([T,1], np.nan)\n",
    "    qps_scores = []\n",
    "    \n",
    "    c = WE * p\n",
    "\n",
    "    for t in range(WE, T):\n",
    "        t1 = t - WE\n",
    "        t2 = t - 1       \n",
    "        window = returns[t1:t2+1]\n",
    "\n",
    "        # ys = np.sort(window)\n",
    "        # VaR[t,0] = -ys[l1 - 1] * value             \n",
    "        # VaR[t,0] = -parametric_var_T_dist(window, alpha=0.01, portfolio_value=1)\n",
    "        VaR[t,0] = portfolio_VaR_nonparametric(window, portfolio_value=1, confidence_level=0.99)\n",
    "        # VaR[t,0] = -portfolio_VaR_parametric(window, portfolio_value=1, confidence_level=0.99)\n",
    "        # VaR[t,0] = -Modified_VaR(window, portfolio_value=1, confidence=0.01)\n",
    "        # VaR[t,0] = -parametric_var_logistic(window, alpha=0.01, portfolio_value=1)\n",
    "        \n",
    "    VaR = VaR.flatten()\n",
    "    \n",
    "        \n",
    "    W1 = WE\n",
    "\n",
    "    VR = sum(returns[W1:T] < -VaR[W1:T])/(p*(T-WE))\n",
    "    s = np.std(VaR[W1:T], ddof=1)\n",
    "    print (f\"{chart_name} \\n\", \"Violation ratio:\", round(VR, 3), \"\\n\", \"Volatility:\", round(s,3), \"\\n\")\n",
    "    \n",
    "    VaR =pd.Series(VaR)\n",
    "    \n",
    "    returns = returns.to_frame()\n",
    "    name = returns.columns[0]\n",
    "    returns.reset_index(inplace=True)\n",
    "    \n",
    "    plt.plot(returns[name][W1:T])\n",
    "    plt.plot(VaR[W1:T])\n",
    "    #plt.plot(qps_scores)\n",
    "    plt.title(f\"{chart_name} Backtesting\")\n",
    "    plt.show()\n",
    "    plt.close()\n",
    "    \n",
    "    W1 = WE\n",
    "    ya = returns[name][W1:T]\n",
    "    VaRa = VaR[W1:T]\n",
    "\n",
    "    \n",
    "    q = returns[name][W1:T] < -VaR[W1:T]\n",
    "    v = VaRa*0\n",
    "    v[q] = 1\n",
    "    ber = bern_test(p, v[:])\n",
    "    ind = ind_test(v[:],T)\n",
    "    \n",
    "    print (f\"{chart_name} \\n\",\n",
    "           \"Bernoulli:\", \"Test statistic =\", round(ber,3), \"p-value =\", round(1 - stats.chi2.cdf(ber, 1),3), \"\\n\",\n",
    "           \"Independence:\", \"Test statistic =\", round(ind,3), \"p-value =\", round(1 - stats.chi2.cdf(ind, 1),3), \"\\n\")\n",
    "        \n",
    "    return ya\n",
    "\n",
    "\n",
    "\n",
    "\n",
    "def bern_test(p,v):\n",
    "    lv = len(v)\n",
    "    sv = sum(v)\n",
    "    \n",
    "    al = np.log(p)*sv + np.log(1-p)*(lv-sv)\n",
    "    bl = np.log(sv/lv)*sv + np.log(1-sv/lv)*(lv-sv)\n",
    "    \n",
    "    return (-2*(al-bl))\n",
    "\n",
    "W1=700\n",
    "def ind_test(V,T):\n",
    "    \n",
    "    J = np.full([T,4], 0)\n",
    "    for i in range(W1+1, W1+len(V)-1):\n",
    "        J[i,0] = (V[i-1] == 0) & (V[i] == 0)\n",
    "        J[i,1] = (V[i-1] == 0) & (V[i] == 1)\n",
    "        J[i,2] = (V[i-1] == 1) & (V[i] == 0)\n",
    "        J[i,3] = (V[i-1] == 1) & (V[i] == 1)\n",
    "\n",
    "    V_00 = sum(J[:,0])\n",
    "    V_01 = sum(J[:,1])\n",
    "    V_10 = sum(J[:,2])\n",
    "    V_11 = sum(J[:,3])\n",
    "    \n",
    "    p_00=V_00/(V_00+V_01)\n",
    "    p_01=V_01/(V_00+V_01)\n",
    "    p_10=V_10/(V_10+V_11)\n",
    "    p_11=V_11/(V_10+V_11)\n",
    "    \n",
    "    hat_p = (V_01+V_11)/(V_00+V_01+V_10+V_11)\n",
    "    al = np.log(1-hat_p)*(V_00+V_10) + np.log(hat_p)*(V_01+V_11)\n",
    "    bl = np.log(p_00)*V_00 + np.log(p_01)*V_01 + np.log(p_10)*V_10 + np.log(p_11)*V_11\n",
    "    \n",
    "    return (-2*(al-bl))"
   ]
  },
  {
   "cell_type": "code",
   "execution_count": 84,
   "metadata": {},
   "outputs": [],
   "source": [
    "data1 = df_excess_equity_daily_returns['Optimal'].dropna(axis=0)"
   ]
  },
  {
   "cell_type": "code",
   "execution_count": 85,
   "metadata": {},
   "outputs": [
    {
     "name": "stdout",
     "output_type": "stream",
     "text": [
      "Historic Simulation \n",
      " Violation ratio: 97.896 \n",
      " Volatility: 0.005 \n",
      "\n"
     ]
    },
    {
     "data": {
      "image/png": "[encoded data removed]",
      "text/plain": [
       "<Figure size 640x480 with 1 Axes>"
      ]
     },
     "metadata": {},
     "output_type": "display_data"
    },
    {
     "name": "stdout",
     "output_type": "stream",
     "text": [
      "Historic Simulation \n",
      " Bernoulli: Test statistic = 20102.0 p-value = 0.0 \n",
      " Independence: Test statistic = 0.0 p-value = 0.991 \n",
      "\n"
     ]
    },
    {
     "data": {
      "text/plain": [
       "700    -0.019657\n",
       "701     0.011736\n",
       "702    -0.013909\n",
       "703    -0.001408\n",
       "704     0.010536\n",
       "          ...   \n",
       "2976   -0.005481\n",
       "2977   -0.001227\n",
       "2978   -0.000608\n",
       "2979   -0.003676\n",
       "2980    0.003178\n",
       "Name: Optimal, Length: 2281, dtype: float64"
      ]
     },
     "execution_count": 85,
     "metadata": {},
     "output_type": "execute_result"
    }
   ],
   "source": [
    "backtesting(data1, 700, 0.01, 'Historic Simulation')"
   ]
  },
  {
   "cell_type": "code",
   "execution_count": 78,
   "metadata": {},
   "outputs": [
    {
     "name": "stdout",
     "output_type": "stream",
     "text": [
      "Historic Simulation \n",
      " Violation ratio: 98.729 \n",
      " Volatility: 0.025 \n",
      "\n"
     ]
    },
    {
     "data": {
      "image/png": "[encoded data removed]",
      "text/plain": [
       "<Figure size 640x480 with 1 Axes>"
      ]
     },
     "metadata": {},
     "output_type": "display_data"
    },
    {
     "name": "stdout",
     "output_type": "stream",
     "text": [
      "Historic Simulation \n",
      " Bernoulli: Test statistic = 20431.465 p-value = 0.0 \n",
      " Independence: Test statistic = 38.472 p-value = 0.0 \n",
      "\n"
     ]
    },
    {
     "data": {
      "text/plain": [
       "700     0.022591\n",
       "701    -0.005873\n",
       "702     0.020964\n",
       "703    -0.023602\n",
       "704     0.013635\n",
       "          ...   \n",
       "2976   -0.009047\n",
       "2977    0.006605\n",
       "2978    0.006422\n",
       "2979    0.009513\n",
       "2980   -0.019795\n",
       "Name: Optimal, Length: 2281, dtype: float64"
      ]
     },
     "execution_count": 78,
     "metadata": {},
     "output_type": "execute_result"
    }
   ],
   "source": [
    "data2=df_excess_daily_daily_returns['Optimal'].dropna(axis=0)\n",
    "backtesting(data2, 700, 0.01, 'Historic Simulation')"
   ]
  },
  {
   "cell_type": "code",
   "execution_count": 79,
   "metadata": {},
   "outputs": [
    {
     "name": "stdout",
     "output_type": "stream",
     "text": [
      "Historic Simulation \n",
      " Violation ratio: 98.115 \n",
      " Volatility: 0.003 \n",
      "\n"
     ]
    },
    {
     "data": {
      "image/png": "[encoded data removed]",
      "text/plain": [
       "<Figure size 640x480 with 1 Axes>"
      ]
     },
     "metadata": {},
     "output_type": "display_data"
    },
    {
     "name": "stdout",
     "output_type": "stream",
     "text": [
      "Historic Simulation \n",
      " Bernoulli: Test statistic = 20186.901 p-value = 0.0 \n",
      " Independence: Test statistic = 0.043 p-value = 0.837 \n",
      "\n"
     ]
    },
    {
     "data": {
      "text/plain": [
       "700    -0.018935\n",
       "701     0.010108\n",
       "702    -0.013021\n",
       "703    -0.000257\n",
       "704     0.006939\n",
       "          ...   \n",
       "2976   -0.004456\n",
       "2977    0.000350\n",
       "2978   -0.002092\n",
       "2979   -0.001800\n",
       "2980    0.003097\n",
       "Name: Optimal, Length: 2281, dtype: float64"
      ]
     },
     "execution_count": 79,
     "metadata": {},
     "output_type": "execute_result"
    }
   ],
   "source": [
    "data3=df_excess_daily_returns['Optimal'].dropna(axis=0)\n",
    "backtesting(data3, 700, 0.01, 'Historic Simulation')"
   ]
  },
  {
   "cell_type": "markdown",
   "metadata": {},
   "source": [
    "## Monte Carlo and HUll"
   ]
  },
  {
   "cell_type": "code",
   "execution_count": null,
   "metadata": {},
   "outputs": [
    {
     "name": "stdout",
     "output_type": "stream",
     "text": [
      "The Monte Carlo VaR for MVP at 99.0% confidence level is 0.0206\n",
      "The Monte Carlo VaR for Optimal at 99.0% confidence level is 0.0304\n",
      "The Monte Carlo VaR for Equally Weighted at 99.0% confidence level is 0.0218\n"
     ]
    }
   ],
   "source": [
    "def monte_carlo_var_all_columns(returns_df, confidence_level=0.95, iterations=10000):\n",
    "    \"\"\"\n",
    "    Calculate the Value at Risk (VaR) using the Monte Carlo simulation method for all columns in a DataFrame.\n",
    "\n",
    "    Parameters:\n",
    "    - returns_df (pandas.DataFrame): DataFrame containing historical return data.\n",
    "    - confidence_level (float): Confidence level for VaR calculation (default is 95%).\n",
    "    - iterations (int): Number of simulations to run.\n",
    "\n",
    "    Returns:\n",
    "    - dict: A dictionary with column names as keys and the calculated VaR as values.\n",
    "    \"\"\"\n",
    "    if not 0 < confidence_level < 1:\n",
    "        raise ValueError(\"Confidence level must be between 0 and 1.\")\n",
    "    if not isinstance(iterations, int) or iterations < 1:\n",
    "        raise ValueError(\"Iterations must be a positive integer.\")\n",
    "\n",
    "    var_values = {}\n",
    "    for column in returns_df.columns:\n",
    "        # Extract the specified column and calculate mean and standard deviation\n",
    "        returns = returns_df[column].values\n",
    "        mean = np.mean(returns)\n",
    "        std_dev = np.std(returns)\n",
    "\n",
    "        # Simulate future returns using the normal distribution assumption\n",
    "        simulated_returns = np.random.normal(mean, std_dev, size=iterations)\n",
    "\n",
    "        # Calculate the VaR as the negative of the percentile of simulated returns\n",
    "        VaR = -np.percentile(simulated_returns, (1 - confidence_level) * 100)\n",
    "        var_values[column] = VaR\n",
    "\n",
    "    return var_values\n",
    "\n",
    "# Example usage:\n",
    "# Assuming your DataFrame 'returns' is already defined and loaded with data\n",
    "confidence_level = 0.99  # 99% confidence level\n",
    "iterations = 1000  # Number of iterations for the simulation\n",
    "var_results = monte_carlo_var_all_columns(df_excess_equity_daily_returns, confidence_level, iterations)\n",
    "\n",
    "# Printing out the Value at Risk for each column\n",
    "for portfolio, var_value in var_results.items():\n",
    "    print(f\"The Monte Carlo VaR for {portfolio} at {confidence_level*100}% confidence level is {var_value:.4f}\")"
   ]
  },
  {
   "cell_type": "code",
   "execution_count": null,
   "metadata": {},
   "outputs": [
    {
     "name": "stdout",
     "output_type": "stream",
     "text": [
      "The Hull VaR for MVP at 95.0% confidence level is 0.0142\n",
      "The Hull VaR for Optimal at 95.0% confidence level is 0.0208\n",
      "The Hull VaR for Equally Weighted at 95.0% confidence level is 0.0159\n"
     ]
    }
   ],
   "source": [
    "from scipy.stats import norm\n",
    "\n",
    "def hull_var_all_columns(returns_df, confidence_level=0.95):\n",
    "    \"\"\"\n",
    "    Calculate the Value at Risk (VaR) using the Hull method (delta-normal approach) for all columns in a DataFrame.\n",
    "\n",
    "    Parameters:\n",
    "    - returns_df (pandas.DataFrame): DataFrame containing historical return data.\n",
    "    - confidence_level (float): Confidence level for VaR calculation (default is 95%).\n",
    "\n",
    "    Returns:\n",
    "    - dict: A dictionary with column names as keys and the calculated VaR as values.\n",
    "    \"\"\"\n",
    "    if not 0 < confidence_level < 1:\n",
    "        raise ValueError(\"Confidence level must be between 0 and 1.\")\n",
    "\n",
    "    var_values = {}\n",
    "    for column in returns_df.columns:\n",
    "        # Calculate mean and standard deviation of the returns\n",
    "        mean_return = returns_df[column].mean()\n",
    "        std_dev = returns_df[column].std()\n",
    "\n",
    "        # Calculate the z-score corresponding to the confidence level\n",
    "        z_score = norm.ppf(confidence_level)\n",
    "\n",
    "        # Calculate VaR using the Hull method\n",
    "        VaR = -(mean_return - z_score * std_dev)\n",
    "        var_values[column] = VaR\n",
    "\n",
    "    return var_values\n",
    "\n",
    "# Example usage:\n",
    "# Assuming your DataFrame 'returns' is already defined and loaded with data\n",
    "confidence_level = 0.95  # 99% confidence level\n",
    "var_results = hull_var_all_columns(df_excess_equity_daily_returns, confidence_level)\n",
    "\n",
    "# Printing out the Value at Risk for each column\n",
    "for portfolio, var_value in var_results.items():\n",
    "    print(f\"The Hull VaR for {portfolio} at {confidence_level*100}% confidence level is {var_value:.4f}\")"
   ]
  },
  {
   "cell_type": "markdown",
   "metadata": {},
   "source": [
    "## Expected spectral Hull MonteCarlo"
   ]
  },
  {
   "cell_type": "code",
   "execution_count": null,
   "metadata": {},
   "outputs": [
    {
     "name": "stdout",
     "output_type": "stream",
     "text": [
      "The Monte Carlo ES for MVP at 99.0% confidence level is 0.0238\n",
      "The Monte Carlo ES for Optimal at 99.0% confidence level is 0.0358\n",
      "The Monte Carlo ES for Equally Weighted at 99.0% confidence level is 0.0256\n"
     ]
    }
   ],
   "source": [
    "def monte_carlo_es_all_columns(returns_df, confidence_level=0.95, iterations=10000):\n",
    "    \"\"\"\n",
    "    Calculate the Expected Shortfall (ES) using Monte Carlo simulation for all columns in a DataFrame.\n",
    "\n",
    "    Parameters:\n",
    "    - returns_df (pandas.DataFrame): DataFrame containing historical return data.\n",
    "    - confidence_level (float): Confidence level for VaR and ES calculation (default is 95%).\n",
    "    - iterations (int): Number of simulations to run.\n",
    "\n",
    "    Returns:\n",
    "    - dict: A dictionary with column names as keys and the calculated Expected Shortfall as values.\n",
    "    \"\"\"\n",
    "    if not 0 < confidence_level < 1:\n",
    "        raise ValueError(\"Confidence level must be between 0 and 1.\")\n",
    "    if not isinstance(iterations, int) or iterations < 1:\n",
    "        raise ValueError(\"Iterations must be a positive integer.\")\n",
    "\n",
    "    es_values = {}\n",
    "    for column in returns_df.columns:\n",
    "        # Calculate mean and standard deviation of the returns\n",
    "        mean_return = returns_df[column].mean()\n",
    "        std_dev = returns_df[column].std()\n",
    "\n",
    "        # Simulate future returns using the normal distribution assumption\n",
    "        simulated_returns = np.random.normal(mean_return, std_dev, iterations)\n",
    "\n",
    "        # Calculate VaR\n",
    "        VaR = np.percentile(simulated_returns, (1 - confidence_level) * 100)\n",
    "\n",
    "        # Calculate ES as the average of returns worse than VaR\n",
    "        ES = np.mean(simulated_returns[simulated_returns <= VaR])\n",
    "        es_values[column] = -ES  # Store positive value for ES\n",
    "\n",
    "    return es_values\n",
    "\n",
    "# Example usage:\n",
    "# Assuming your DataFrame 'returns' is already defined and loaded with data\n",
    "confidence_level = 0.99  # 99% confidence level\n",
    "es_results = monte_carlo_es_all_columns(df_excess_bonds_daily_returns, confidence_level, iterations=1000)\n",
    "\n",
    "# Printing out the Expected Shortfall for each column\n",
    "for portfolio, es_value in es_results.items():\n",
    "    print(f\"The Monte Carlo ES for {portfolio} at {confidence_level*100}% confidence level is {es_value:.4f}\")\n",
    "\n"
   ]
  },
  {
   "cell_type": "code",
   "execution_count": null,
   "metadata": {},
   "outputs": [
    {
     "name": "stdout",
     "output_type": "stream",
     "text": [
      "The Expected Shortfall (ES) for MVP at 99.0% confidence level is 0.0312\n",
      "The Expected Shortfall (ES) for Optimal at 99.0% confidence level is 0.0427\n",
      "The Expected Shortfall (ES) for Equally Weighted at 99.0% confidence level is 0.0360\n"
     ]
    }
   ],
   "source": [
    "def hull_es_all_columns(returns_df, confidence_level=0.95):\n",
    "    \"\"\"\n",
    "    Calculate the Expected Shortfall (ES) using the Hull method (delta-normal approach) for all columns in a DataFrame.\n",
    "\n",
    "    Parameters:\n",
    "    - returns_df (pandas.DataFrame): DataFrame named 'returns' containing historical return data.\n",
    "    - confidence_level (float): Confidence level for VaR and ES calculation.\n",
    "\n",
    "    Returns:\n",
    "    - dict: A dictionary with column names as keys and the calculated Expected Shortfall as values.\n",
    "    \"\"\"\n",
    "    if not 0 < confidence_level < 1:\n",
    "        raise ValueError(\"Confidence level must be between 0 and 1.\")\n",
    "\n",
    "    es_values = {}\n",
    "    for column in returns_df.columns:\n",
    "        # Calculate mean and standard deviation of the returns\n",
    "        mean_return = returns_df[column].mean()\n",
    "        std_dev = returns_df[column].std()\n",
    "\n",
    "        # Calculate VaR using the normal distribution\n",
    "        z_score = norm.ppf(confidence_level)\n",
    "        VaR = -(mean_return + z_score * std_dev)\n",
    "\n",
    "        # Filter returns that are worse than VaR and calculate ES\n",
    "        losses = returns_df[column][returns_df[column] <= VaR]\n",
    "        ES = -losses.mean() if len(losses) > 0 else 0\n",
    "        es_values[column] = ES\n",
    "\n",
    "    return es_values\n",
    "\n",
    "# Assume your DataFrame 'returns' is already defined and loaded with data\n",
    "confidence_level = 0.99  # 99% confidence level\n",
    "es_results = hull_es_all_columns(df_excess_bonds_daily_returns, confidence_level)\n",
    "\n",
    "# Printing out the Expected Shortfall for each column\n",
    "for portfolio, es_value in es_results.items():\n",
    "    print(f\"The Expected Shortfall (ES) for {portfolio} at {confidence_level*100}% confidence level is {es_value:.4f}\")"
   ]
  },
  {
   "cell_type": "code",
   "execution_count": null,
   "metadata": {},
   "outputs": [],
   "source": []
  }
 ],
 "metadata": {
  "kernelspec": {
   "display_name": "Python 3 (Spyder)",
   "language": "python3",
   "name": "python3"
  },
  "language_info": {
   "codemirror_mode": {
    "name": "ipython",
    "version": 3
   },
   "file_extension": ".py",
   "mimetype": "text/x-python",
   "name": "python",
   "nbconvert_exporter": "python",
   "pygments_lexer": "ipython3",
   "version": "3.10.2"
  }
 },
 "nbformat": 4,
 "nbformat_minor": 4
}
